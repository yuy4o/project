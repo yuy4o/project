{
 "cells": [
  {
   "cell_type": "markdown",
   "id": "74581586-9b22-412d-b069-3723d3daaa3c",
   "metadata": {},
   "source": [
    "## 参数"
   ]
  },
  {
   "cell_type": "code",
   "execution_count": 1,
   "id": "449845d1-4997-4f12-86c0-8441861f1b13",
   "metadata": {},
   "outputs": [
    {
     "name": "stdout",
     "output_type": "stream",
     "text": [
      "16\n"
     ]
    }
   ],
   "source": [
    "# start 默认参数 *args 可变参数（参数的个数不确定）\n",
    "def mysum(start,*args):\n",
    "    for num in args:\n",
    "        start += num\n",
    "    return start\n",
    "\n",
    "print(mysum(10,1,2,3))"
   ]
  },
  {
   "cell_type": "code",
   "execution_count": 2,
   "id": "3f694894-a67f-43c9-8c16-533e373d4f88",
   "metadata": {},
   "outputs": [
    {
     "name": "stdout",
     "output_type": "stream",
     "text": [
      "111\n",
      "{'id': 'cat', 'num': 4, 'task': [{1: 3}, {2: 4}]}\n"
     ]
    }
   ],
   "source": [
    "# **args 字典参数\n",
    "def pp(name, **args):\n",
    "    print(name)\n",
    "    print(args)\n",
    "pp(name=111, id=\"cat\", num=4, task=[{1:3},{2:4}])"
   ]
  },
  {
   "cell_type": "markdown",
   "id": "8113c953-f2ce-46a1-bc90-8d0ecc9d8963",
   "metadata": {},
   "source": [
    "## 异常处理"
   ]
  },
  {
   "cell_type": "code",
   "execution_count": 3,
   "id": "0b6155c7-1cfa-4cbc-90e3-cc8f4ff5e2dd",
   "metadata": {},
   "outputs": [
    {
     "name": "stdout",
     "output_type": "stream",
     "text": [
      "123\n",
      "12345\n",
      "123456\n"
     ]
    }
   ],
   "source": [
    "# 多分支异常捕获\n",
    "try:\n",
    "    print(123)\n",
    "except: # try block发生异常执行\n",
    "    print(1234)\n",
    "else: # try block没有发生异常执行\n",
    "    print(12345)\n",
    "finally:# try block有没有发生异常都执行\n",
    "    print(123456)"
   ]
  },
  {
   "cell_type": "code",
   "execution_count": 4,
   "id": "b76dd12a-5b97-4953-a03a-b8962f6e3760",
   "metadata": {},
   "outputs": [
    {
     "ename": "KeyError",
     "evalue": "'abc'",
     "output_type": "error",
     "traceback": [
      "\u001b[0;31m---------------------------------------------------------------------------\u001b[0m",
      "\u001b[0;31mKeyError\u001b[0m                                  Traceback (most recent call last)",
      "Cell \u001b[0;32mIn[4], line 2\u001b[0m\n\u001b[1;32m      1\u001b[0m \u001b[38;5;66;03m# 异常人工触发\u001b[39;00m\n\u001b[0;32m----> 2\u001b[0m \u001b[38;5;28;01mraise\u001b[39;00m \u001b[38;5;167;01mKeyError\u001b[39;00m(\u001b[38;5;124m'\u001b[39m\u001b[38;5;124mabc\u001b[39m\u001b[38;5;124m'\u001b[39m) \u001b[38;5;66;03m#无理由强制触发异常\u001b[39;00m\n",
      "\u001b[0;31mKeyError\u001b[0m: 'abc'"
     ]
    }
   ],
   "source": [
    "# 异常人工触发\n",
    "raise KeyError('abc') #无理由强制触发异常"
   ]
  },
  {
   "cell_type": "code",
   "execution_count": 5,
   "id": "3c8fb644-6f9f-4293-9a67-c735a092f5e8",
   "metadata": {},
   "outputs": [],
   "source": [
    "assert 1!=2, '异常' #满足条件则触发异常"
   ]
  },
  {
   "cell_type": "markdown",
   "id": "3d24720f-0b12-405f-8020-733ab44a85ab",
   "metadata": {},
   "source": [
    "## 深浅拷贝"
   ]
  },
  {
   "cell_type": "code",
   "execution_count": 6,
   "id": "5b1b0347-defe-42c3-b3ad-93f8af246a7c",
   "metadata": {},
   "outputs": [
    {
     "name": "stdout",
     "output_type": "stream",
     "text": [
      "135272325316848\n",
      "135272325316880\n",
      "135271714007104\n",
      "135271714007104\n"
     ]
    }
   ],
   "source": [
    "# 可变对象和不可变对象\n",
    "c = 1\n",
    "print(id(c))\n",
    "c+=1\n",
    "print(id(c))#不可变对象顽固不化，值变化地址就变，复制后仍可用原先的内存地址\n",
    "\n",
    "c = [1,2]\n",
    "print(id(c))\n",
    "c.append(100)\n",
    "print(id(c))#可变对象在原地址上变化值，复制后不能用原内存地址"
   ]
  },
  {
   "cell_type": "code",
   "execution_count": 7,
   "id": "dcec17c7-32ef-4657-a3f9-cc9d28dc1654",
   "metadata": {},
   "outputs": [
    {
     "name": "stdout",
     "output_type": "stream",
     "text": [
      "135272325316848 135272325316848 135272325316848\n",
      "135271714065728 135271714287936 135271714286720\n",
      "True\n",
      "False\n",
      "135272325316848 135272325316848 135272325316848\n",
      "135272325316912 135272325316912 135272325316912\n",
      "135272325316880 135272325316880 135272325316880\n",
      "135271713796992 135271713796992 135271714278464\n",
      "[2, 2] [2, 2]\n",
      "[3, 2] [3, 2] 135271713796992 135271713796992\n"
     ]
    }
   ],
   "source": [
    "# 浅拷贝和深拷贝\n",
    "import copy\n",
    "x = 1 #不可变对象顽固不化，值变化地址就变，复制后仍可用原先的内存地址\n",
    "y = copy.copy(x)\n",
    "z = copy.deepcopy(x)\n",
    "print(id(x), id(y), id(z)) #不可变 - 两种复制y z都指向原变量的内存地址\n",
    "\n",
    "x = [1, [2,2], 3] #可变对象在原地址上变化值，复制后不能用原内存地址\n",
    "y = copy.copy(x)\n",
    "z = copy.deepcopy(x)\n",
    "print(id(x), id(y), id(z)) #可变 - 两种复制y z都重新创建新的内存地址\n",
    "print(x == y)\n",
    "print(x is y) #等价于 id(x) == id(y)\n",
    "\n",
    "print(id(x[0]), id(y[0]), id(z[0])) #不可变 - 深浅拷贝一样\n",
    "print(id(x[2]), id(y[2]), id(z[2])) #不可变  - 深浅拷贝一样\n",
    "print(id(x[1][0]), id(y[1][0]), id(z[1][0])) #不可变  - 深浅拷贝一样\n",
    "print(id(x[1]), id(y[1]), id(z[1])) #可变 - 深浅拷贝一样 id(z) 一样按部就班创建新的内存地址；\n",
    "# 浅拷贝会偷懒，把可变[2,2]当作不可变处理，和x[1]共享引用/内存地址，导致x[1]和y[1]两者绑定互相影响\n",
    "print(x[1], y[1])\n",
    "y[1][0] = 3\n",
    "print(x[1], y[1], id(x[1]), id(y[1])) # 改动 y[1][0],x[1][0]被迫修改"
   ]
  },
  {
   "cell_type": "markdown",
   "id": "42cbf1eb-8974-4229-b349-0ee760e74ebb",
   "metadata": {},
   "source": [
    "## 函数"
   ]
  },
  {
   "cell_type": "code",
   "execution_count": 8,
   "id": "69a7caf5-7eaf-4061-9542-8fca411a2822",
   "metadata": {},
   "outputs": [
    {
     "name": "stdout",
     "output_type": "stream",
     "text": [
      "1\n",
      "3\n",
      "1\n",
      "3\n",
      "None\n",
      "19073486328125\n",
      "<function l.<locals>.hh at 0x7b076731c310>\n",
      "hhdd\n",
      "387420489\n"
     ]
    }
   ],
   "source": [
    "# 一、回调函数：调用其他函数作为入参\n",
    "def func(fun, args):\n",
    "    fun(args)\n",
    "\n",
    "def f1(x):\n",
    "    print(x)\n",
    "\n",
    "def f2(y):\n",
    "    print(y)\n",
    "\n",
    "func(f1,1)\n",
    "func(f2,3)\n",
    "\n",
    "# 二、以上回调函数可写成闭包形式：调用其他函数作为出参\n",
    "def func():\n",
    "    def f(x):\n",
    "        print(x)\n",
    "    return f\n",
    "func()(1)\n",
    "print(func()(3))\n",
    "\n",
    "#回调函数是把函数作为参数传递，闭包把函数作为返回值返回。闭包可以延长变量的作用时间和作用域\n",
    "#闭包作用域：嵌套函数中，内层函数引用外层函数的变量（叫做内层函数的自由变量，只能引用不能修改，除非用nonlocal声明才可修改）\n",
    "def outer(x):\n",
    "    def inner(y):\n",
    "        nonlocal x # 用nonlocal声明后的自由变量x才能修改；自由变量：代码区域中使用的没有被定义的变量就是自由变量\n",
    "        x += 17\n",
    "        return y**x # 闭包编程更高效，一个 函数解决y的x次方问题\n",
    "    return inner\n",
    "\n",
    "print(outer(2)(5))\n",
    "\n",
    "# 三、递归函数：调用自身函数作为出参\n",
    "# 四、嵌套函数：调用其他函数在函数体中。闭包是一种特殊的嵌套函数，以下和闭包区别在于自由变量：\n",
    "def l():\n",
    "    def hh():\n",
    "        return \"hhdd\"\n",
    "    return hh #函数作为返回值\n",
    "print(l())\n",
    "def l():\n",
    "    def hh():\n",
    "        return \"hhdd\"\n",
    "    return hh() #返回函数执行结果\n",
    "print(l())\n",
    "\n",
    "# 五、匿名函数：调用一两次就不用的快餐函数\n",
    "f = lambda x, y: outer(x)(y)\n",
    "print(f(1,3))"
   ]
  },
  {
   "cell_type": "code",
   "execution_count": 9,
   "id": "9b5f72cf-5c8e-4e8d-bb6e-544cbd5df425",
   "metadata": {},
   "outputs": [
    {
     "name": "stdout",
     "output_type": "stream",
     "text": [
      "1Before calling inner2...\n",
      "2Before calling welcome...\n",
      "Nigel!HI!\n",
      "2After calling welcome...\n",
      "1After calling inner2...\n"
     ]
    }
   ],
   "source": [
    "# 六、装饰函数：是被装饰函数的插件，不能修改被装饰函数，仅能外挂功能\n",
    "# @函数名 是语法糖，函数名是闭包函数的外层函数的名字。装饰器 = 语法糖 + 闭包\n",
    "def outer1(func):\n",
    "    def inner1(*args, **kwargs):# 一个装饰器修饰多个函数\n",
    "        print(f\"1Before calling {func.__name__}...\")\n",
    "        func(*args, **kwargs)\n",
    "        print(f\"1After calling {func.__name__}...\")\n",
    "    return inner1\n",
    "\n",
    "def outer2(func):\n",
    "    def inner2(*args, **kwargs):# 一个装饰器修饰多个函数\n",
    "        print(f\"2Before calling {func.__name__}...\")\n",
    "        func(*args, **kwargs)\n",
    "        print(f\"2After calling {func.__name__}...\")\n",
    "    return inner2\n",
    "\n",
    "# 一个函数被多个装饰器修饰\n",
    "@outer1\n",
    "@outer2 # 装饰器将被装饰函数作为外层函数的入参，返回内层函数（我们可以在内层函数执行额外的功能）\n",
    "def welcome(name, content):\n",
    "    print(f\"{name}!{content}\")\n",
    "\n",
    "welcome('Nigel', 'HI!')\n",
    "\n",
    "\n",
    "# 类装饰器：一个接收函数（或类）作为参数，并返回另一个可调用对象的结构。\n",
    "# __init__接收被装饰的函数/方法, __call__让实例可调用，定义装饰逻辑, __get__实现描述符协议，用于方法装饰"
   ]
  },
  {
   "cell_type": "code",
   "execution_count": 10,
   "id": "7772aba7-da6f-48f2-bc16-54cabd5c25e0",
   "metadata": {},
   "outputs": [
    {
     "name": "stdout",
     "output_type": "stream",
     "text": [
      "是否可迭代：True\n",
      "是否是迭代器：False\n",
      "是否是迭代器：True\n",
      "返回迭代器本身<list_iterator object at 0x7b076681d960> 1 2\n"
     ]
    }
   ],
   "source": [
    "# 七、迭代器：实现了 __iter__()和__next__()方法的对象叫迭代器\n",
    "# __iter__()返回迭代器本身，__next__()或 next()返回容器下一个元素。只能向前迭代，不能回退，只能向前迭代一次\n",
    "# 使用iter()得到迭代器本身，isinstance()判断是否是迭代器，使用iter()将字典、列表变成迭代器\n",
    "from collections.abc import Iterable, Iterator\n",
    "xxx = [1,2]\n",
    "print(f\"是否可迭代：{isinstance(xxx, Iterable)}\")\n",
    "print(f\"是否是迭代器：{isinstance(xxx, Iterator)}\")\n",
    "print(f\"是否是迭代器：{isinstance(iter(xxx), Iterator)}\")\n",
    "xxxx = iter(xxx)\n",
    "print(f\"返回迭代器本身{xxxx.__iter__()}\", xxxx.__next__(), next(xxxx))"
   ]
  },
  {
   "cell_type": "code",
   "execution_count": 11,
   "id": "989b3b5f-31d6-4f24-ac12-5dd755804316",
   "metadata": {},
   "outputs": [
    {
     "name": "stdout",
     "output_type": "stream",
     "text": [
      "(0, 0)\n",
      "(1, 1)\n",
      "(2, 4)\n",
      "{0: 0, 1: 1, 2: 4}\n",
      "{0: 0, 1: 1, 2: 4}\n",
      "<generator object fab at 0x7b07667a9230>\n",
      "1\n",
      "1\n",
      "2\n",
      "3\n",
      "5\n"
     ]
    }
   ],
   "source": [
    "# 八、生成器：一种特殊的迭代器，更便捷的方式构造可迭代对象\n",
    "# 两种方式能生成生成器：生成器表达式，yield关键字\n",
    "# 1.生成器表达式：将列表解析式中的中括号变成小括号\n",
    "gen = ((x,x**2) for x in range(3))\n",
    "#print(type(gen), gen.__next__(), gen.__next__(), gen.__next__())\n",
    "# 或使用for循环迭代，只能向前迭代一次\n",
    "for i in gen:\n",
    "    print(i)\n",
    "# 生成器表达式可作为函数的入参\n",
    "print(dict(((x,x**2) for x in range(3))))\n",
    "print(dict((x,x**2) for x in range(3)))\n",
    "\n",
    "# 2.yield关键字：把函数变成生成器，return只能返回一次函数，yield能返回多次，返回函数执行的中间结果，但不结束程序\n",
    "def fab(max):\n",
    "    cnt, a, b = 0, 0, 1\n",
    "    while cnt < max:\n",
    "        yield b# print(b)\n",
    "        a, b = b, a+b\n",
    "        cnt += 1\n",
    "\n",
    "print(fab(5)) #调用生成器函数时，只是返回一个生成器对象，函数并没有被执行\n",
    "# 只有每次for循环访问生成器元素时才会执行fab内部代码，执行到yield处返回迭代值（类似return）后，本地变量保持不变，继续执行下一次迭代\n",
    "for i in fab(5):\n",
    "    print(i)"
   ]
  },
  {
   "cell_type": "code",
   "execution_count": 12,
   "id": "d3a7b905-e934-4f82-8a0d-911cd7ae6c47",
   "metadata": {},
   "outputs": [
    {
     "name": "stdout",
     "output_type": "stream",
     "text": [
      "<class 'map'> [2, 6, 12]\n",
      "[2, 3]\n",
      "-5\n"
     ]
    }
   ],
   "source": [
    "a = [1,2,3]\n",
    "b = [2,3,4]\n",
    "\n",
    "# 遍历函数：map(功能函数，应用的序列)\n",
    "print(type(map(lambda a, b: a*b, a, b)), list(map(lambda a, b: a*b, a, b)))\n",
    "\n",
    "# 筛选函数：fil(功能函数，应用的序列)\n",
    "print(list(filter(lambda x: x > 1, a)))\n",
    "\n",
    "# 累计函数：reduce(功能函数，应用的序列)，对序列内所有元素累计\n",
    "from functools import reduce\n",
    "print(reduce(lambda x,y: x-y, b))"
   ]
  },
  {
   "cell_type": "code",
   "execution_count": 13,
   "id": "54d24b90-cfc4-4151-b182-2b63025f65dd",
   "metadata": {},
   "outputs": [
    {
     "name": "stdout",
     "output_type": "stream",
     "text": [
      "{'__name__': '__main__', '__doc__': 'Automatically created module for IPython interactive environment', '__package__': None, '__loader__': None, '__spec__': None, '__builtin__': <module 'builtins' (built-in)>, '__builtins__': <module 'builtins' (built-in)>, '_ih': ['', '# start 默认参数 *args 可变参数（参数的个数不确定）\\ndef mysum(start,*args):\\n    for num in args:\\n        start += num\\n    return start\\n\\nprint(mysum(10,1,2,3))', '# **args 字典参数\\ndef pp(name, **args):\\n    print(name)\\n    print(args)\\npp(name=111, id=\"cat\", num=4, task=[{1:3},{2:4}])', '# 多分支异常捕获\\ntry:\\n    print(123)\\nexcept: # try block发生异常执行\\n    print(1234)\\nelse: # try block没有发生异常执行\\n    print(12345)\\nfinally:# try block有没有发生异常都执行\\n    print(123456)', \"# 异常人工触发\\nraise KeyError('abc') #无理由强制触发异常\", \"assert 1!=2, '异常' #满足条件则触发异常\", '# 可变对象和不可变对象\\nc = 1\\nprint(id(c))\\nc+=1\\nprint(id(c))#不可变对象顽固不化，值变化地址就变，复制后仍可用原先的内存地址\\n\\nc = [1,2]\\nprint(id(c))\\nc.append(100)\\nprint(id(c))#可变对象在原地址上变化值，复制后不能用原内存地址', '# 浅拷贝和深拷贝\\nimport copy\\nx = 1 #不可变对象顽固不化，值变化地址就变，复制后仍可用原先的内存地址\\ny = copy.copy(x)\\nz = copy.deepcopy(x)\\nprint(id(x), id(y), id(z)) #不可变 - 两种复制y z都指向原变量的内存地址\\n\\nx = [1, [2,2], 3] #可变对象在原地址上变化值，复制后不能用原内存地址\\ny = copy.copy(x)\\nz = copy.deepcopy(x)\\nprint(id(x), id(y), id(z)) #可变 - 两种复制y z都重新创建新的内存地址\\nprint(x == y)\\nprint(x is y) #等价于 id(x) == id(y)\\n\\nprint(id(x[0]), id(y[0]), id(z[0])) #不可变 - 深浅拷贝一样\\nprint(id(x[2]), id(y[2]), id(z[2])) #不可变  - 深浅拷贝一样\\nprint(id(x[1][0]), id(y[1][0]), id(z[1][0])) #不可变  - 深浅拷贝一样\\nprint(id(x[1]), id(y[1]), id(z[1])) #可变 - 深浅拷贝一样 id(z) 一样按部就班创建新的内存地址；\\n# 浅拷贝会偷懒，把可变[2,2]当作不可变处理，和x[1]共享引用/内存地址，导致x[1]和y[1]两者绑定互相影响\\nprint(x[1], y[1])\\ny[1][0] = 3\\nprint(x[1], y[1], id(x[1]), id(y[1])) # 改动 y[1][0],x[1][0]被迫修改', '# 一、回调函数：调用其他函数作为入参\\ndef func(fun, args):\\n    fun(args)\\n\\ndef f1(x):\\n    print(x)\\n\\ndef f2(y):\\n    print(y)\\n\\nfunc(f1,1)\\nfunc(f2,3)\\n\\n# 二、以上回调函数可写成闭包形式：调用其他函数作为出参\\ndef func():\\n    def f(x):\\n        print(x)\\n    return f\\nfunc()(1)\\nprint(func()(3))\\n\\n#回调函数是把函数作为参数传递，闭包把函数作为返回值返回。闭包可以延长变量的作用时间和作用域\\n#闭包作用域：嵌套函数中，内层函数引用外层函数的变量（叫做内层函数的自由变量，只能引用不能修改，除非用nonlocal声明才可修改）\\ndef outer(x):\\n    def inner(y):\\n        nonlocal x # 用nonlocal声明后的自由变量x才能修改；自由变量：代码区域中使用的没有被定义的变量就是自由变量\\n        x += 17\\n        return y**x # 闭包编程更高效，一个 函数解决y的x次方问题\\n    return inner\\n\\nprint(outer(2)(5))\\n\\n# 三、递归函数：调用自身函数作为出参\\n# 四、嵌套函数：调用其他函数在函数体中。闭包是一种特殊的嵌套函数，以下和闭包区别在于自由变量：\\ndef l():\\n    def hh():\\n        return \"hhdd\"\\n    return hh #函数作为返回值\\nprint(l())\\ndef l():\\n    def hh():\\n        return \"hhdd\"\\n    return hh() #返回函数执行结果\\nprint(l())\\n\\n# 五、匿名函数：调用一两次就不用的快餐函数\\nf = lambda x, y: outer(x)(y)\\nprint(f(1,3))', '# 六、装饰函数：是被装饰函数的插件，不能修改被装饰函数，仅能外挂功能\\n# @函数名 是语法糖，函数名是闭包函数的外层函数的名字。装饰器 = 语法糖 + 闭包\\ndef outer1(func):\\n    def inner1(*args, **kwargs):# 一个装饰器修饰多个函数\\n        print(f\"1Before calling {func.__name__}...\")\\n        func(*args, **kwargs)\\n        print(f\"1After calling {func.__name__}...\")\\n    return inner1\\n\\ndef outer2(func):\\n    def inner2(*args, **kwargs):# 一个装饰器修饰多个函数\\n        print(f\"2Before calling {func.__name__}...\")\\n        func(*args, **kwargs)\\n        print(f\"2After calling {func.__name__}...\")\\n    return inner2\\n\\n# 一个函数被多个装饰器修饰\\n@outer1\\n@outer2 # 装饰器将被装饰函数作为外层函数的入参，返回内层函数（我们可以在内层函数执行额外的功能）\\ndef welcome(name, content):\\n    print(f\"{name}!{content}\")\\n\\nwelcome(\\'Nigel\\', \\'HI!\\')\\n\\n\\n# 类装饰器：一个接收函数（或类）作为参数，并返回另一个可调用对象的结构。\\n# __init__接收被装饰的函数/方法, __call__让实例可调用，定义装饰逻辑, __get__实现描述符协议，用于方法装饰', '# 七、迭代器：实现了 __iter__()和__next__()方法的对象叫迭代器\\n# __iter__()返回迭代器本身，__next__()或 next()返回容器下一个元素。只能向前迭代，不能回退，只能向前迭代一次\\n# 使用iter()得到迭代器本身，isinstance()判断是否是迭代器，使用iter()将字典、列表变成迭代器\\nfrom collections.abc import Iterable, Iterator\\nxxx = [1,2]\\nprint(f\"是否可迭代：{isinstance(xxx, Iterable)}\")\\nprint(f\"是否是迭代器：{isinstance(xxx, Iterator)}\")\\nprint(f\"是否是迭代器：{isinstance(iter(xxx), Iterator)}\")\\nxxxx = iter(xxx)\\nprint(f\"返回迭代器本身{xxxx.__iter__()}\", xxxx.__next__(), next(xxxx))', '# 八、生成器：一种特殊的迭代器，更便捷的方式构造可迭代对象\\n# 两种方式能生成生成器：生成器表达式，yield关键字\\n# 1.生成器表达式：将列表解析式中的中括号变成小括号\\ngen = ((x,x**2) for x in range(3))\\n#print(type(gen), gen.__next__(), gen.__next__(), gen.__next__())\\n# 或使用for循环迭代，只能向前迭代一次\\nfor i in gen:\\n    print(i)\\n# 生成器表达式可作为函数的入参\\nprint(dict(((x,x**2) for x in range(3))))\\nprint(dict((x,x**2) for x in range(3)))\\n\\n# 2.yield关键字：把函数变成生成器，return只能返回一次函数，yield能返回多次，返回函数执行的中间结果，但不结束程序\\ndef fab(max):\\n    cnt, a, b = 0, 0, 1\\n    while cnt < max:\\n        yield b# print(b)\\n        a, b = b, a+b\\n        cnt += 1\\n\\nprint(fab(5)) #调用生成器函数时，只是返回一个生成器对象，函数并没有被执行\\n# 只有每次for循环访问生成器元素时才会执行fab内部代码，执行到yield处返回迭代值（类似return）后，本地变量保持不变，继续执行下一次迭代\\nfor i in fab(5):\\n    print(i)', 'a = [1,2,3]\\nb = [2,3,4]\\n\\n# 遍历函数：map(功能函数，应用的序列)\\nprint(type(map(lambda a, b: a*b, a, b)), list(map(lambda a, b: a*b, a, b)))\\n\\n# 筛选函数：fil(功能函数，应用的序列)\\nprint(list(filter(lambda x: x > 1, a)))\\n\\n# 累计函数：reduce(功能函数，应用的序列)，对序列内所有元素累计\\nfrom functools import reduce\\nprint(reduce(lambda x,y: x-y, b))', '# LEGB规则：函数解析变量名时，局部作用域Local->上层嵌套结构def/lamda函数嵌套作用域 Enclosing->全局作用域Global->内置作用域Built-in\\nprint(locals()) # 本地命名空间\\nprint(globals()) # 全局命名空间'], '_oh': {}, '_dh': [PosixPath('/home/yuy4o/code')], 'In': ['', '# start 默认参数 *args 可变参数（参数的个数不确定）\\ndef mysum(start,*args):\\n    for num in args:\\n        start += num\\n    return start\\n\\nprint(mysum(10,1,2,3))', '# **args 字典参数\\ndef pp(name, **args):\\n    print(name)\\n    print(args)\\npp(name=111, id=\"cat\", num=4, task=[{1:3},{2:4}])', '# 多分支异常捕获\\ntry:\\n    print(123)\\nexcept: # try block发生异常执行\\n    print(1234)\\nelse: # try block没有发生异常执行\\n    print(12345)\\nfinally:# try block有没有发生异常都执行\\n    print(123456)', \"# 异常人工触发\\nraise KeyError('abc') #无理由强制触发异常\", \"assert 1!=2, '异常' #满足条件则触发异常\", '# 可变对象和不可变对象\\nc = 1\\nprint(id(c))\\nc+=1\\nprint(id(c))#不可变对象顽固不化，值变化地址就变，复制后仍可用原先的内存地址\\n\\nc = [1,2]\\nprint(id(c))\\nc.append(100)\\nprint(id(c))#可变对象在原地址上变化值，复制后不能用原内存地址', '# 浅拷贝和深拷贝\\nimport copy\\nx = 1 #不可变对象顽固不化，值变化地址就变，复制后仍可用原先的内存地址\\ny = copy.copy(x)\\nz = copy.deepcopy(x)\\nprint(id(x), id(y), id(z)) #不可变 - 两种复制y z都指向原变量的内存地址\\n\\nx = [1, [2,2], 3] #可变对象在原地址上变化值，复制后不能用原内存地址\\ny = copy.copy(x)\\nz = copy.deepcopy(x)\\nprint(id(x), id(y), id(z)) #可变 - 两种复制y z都重新创建新的内存地址\\nprint(x == y)\\nprint(x is y) #等价于 id(x) == id(y)\\n\\nprint(id(x[0]), id(y[0]), id(z[0])) #不可变 - 深浅拷贝一样\\nprint(id(x[2]), id(y[2]), id(z[2])) #不可变  - 深浅拷贝一样\\nprint(id(x[1][0]), id(y[1][0]), id(z[1][0])) #不可变  - 深浅拷贝一样\\nprint(id(x[1]), id(y[1]), id(z[1])) #可变 - 深浅拷贝一样 id(z) 一样按部就班创建新的内存地址；\\n# 浅拷贝会偷懒，把可变[2,2]当作不可变处理，和x[1]共享引用/内存地址，导致x[1]和y[1]两者绑定互相影响\\nprint(x[1], y[1])\\ny[1][0] = 3\\nprint(x[1], y[1], id(x[1]), id(y[1])) # 改动 y[1][0],x[1][0]被迫修改', '# 一、回调函数：调用其他函数作为入参\\ndef func(fun, args):\\n    fun(args)\\n\\ndef f1(x):\\n    print(x)\\n\\ndef f2(y):\\n    print(y)\\n\\nfunc(f1,1)\\nfunc(f2,3)\\n\\n# 二、以上回调函数可写成闭包形式：调用其他函数作为出参\\ndef func():\\n    def f(x):\\n        print(x)\\n    return f\\nfunc()(1)\\nprint(func()(3))\\n\\n#回调函数是把函数作为参数传递，闭包把函数作为返回值返回。闭包可以延长变量的作用时间和作用域\\n#闭包作用域：嵌套函数中，内层函数引用外层函数的变量（叫做内层函数的自由变量，只能引用不能修改，除非用nonlocal声明才可修改）\\ndef outer(x):\\n    def inner(y):\\n        nonlocal x # 用nonlocal声明后的自由变量x才能修改；自由变量：代码区域中使用的没有被定义的变量就是自由变量\\n        x += 17\\n        return y**x # 闭包编程更高效，一个 函数解决y的x次方问题\\n    return inner\\n\\nprint(outer(2)(5))\\n\\n# 三、递归函数：调用自身函数作为出参\\n# 四、嵌套函数：调用其他函数在函数体中。闭包是一种特殊的嵌套函数，以下和闭包区别在于自由变量：\\ndef l():\\n    def hh():\\n        return \"hhdd\"\\n    return hh #函数作为返回值\\nprint(l())\\ndef l():\\n    def hh():\\n        return \"hhdd\"\\n    return hh() #返回函数执行结果\\nprint(l())\\n\\n# 五、匿名函数：调用一两次就不用的快餐函数\\nf = lambda x, y: outer(x)(y)\\nprint(f(1,3))', '# 六、装饰函数：是被装饰函数的插件，不能修改被装饰函数，仅能外挂功能\\n# @函数名 是语法糖，函数名是闭包函数的外层函数的名字。装饰器 = 语法糖 + 闭包\\ndef outer1(func):\\n    def inner1(*args, **kwargs):# 一个装饰器修饰多个函数\\n        print(f\"1Before calling {func.__name__}...\")\\n        func(*args, **kwargs)\\n        print(f\"1After calling {func.__name__}...\")\\n    return inner1\\n\\ndef outer2(func):\\n    def inner2(*args, **kwargs):# 一个装饰器修饰多个函数\\n        print(f\"2Before calling {func.__name__}...\")\\n        func(*args, **kwargs)\\n        print(f\"2After calling {func.__name__}...\")\\n    return inner2\\n\\n# 一个函数被多个装饰器修饰\\n@outer1\\n@outer2 # 装饰器将被装饰函数作为外层函数的入参，返回内层函数（我们可以在内层函数执行额外的功能）\\ndef welcome(name, content):\\n    print(f\"{name}!{content}\")\\n\\nwelcome(\\'Nigel\\', \\'HI!\\')\\n\\n\\n# 类装饰器：一个接收函数（或类）作为参数，并返回另一个可调用对象的结构。\\n# __init__接收被装饰的函数/方法, __call__让实例可调用，定义装饰逻辑, __get__实现描述符协议，用于方法装饰', '# 七、迭代器：实现了 __iter__()和__next__()方法的对象叫迭代器\\n# __iter__()返回迭代器本身，__next__()或 next()返回容器下一个元素。只能向前迭代，不能回退，只能向前迭代一次\\n# 使用iter()得到迭代器本身，isinstance()判断是否是迭代器，使用iter()将字典、列表变成迭代器\\nfrom collections.abc import Iterable, Iterator\\nxxx = [1,2]\\nprint(f\"是否可迭代：{isinstance(xxx, Iterable)}\")\\nprint(f\"是否是迭代器：{isinstance(xxx, Iterator)}\")\\nprint(f\"是否是迭代器：{isinstance(iter(xxx), Iterator)}\")\\nxxxx = iter(xxx)\\nprint(f\"返回迭代器本身{xxxx.__iter__()}\", xxxx.__next__(), next(xxxx))', '# 八、生成器：一种特殊的迭代器，更便捷的方式构造可迭代对象\\n# 两种方式能生成生成器：生成器表达式，yield关键字\\n# 1.生成器表达式：将列表解析式中的中括号变成小括号\\ngen = ((x,x**2) for x in range(3))\\n#print(type(gen), gen.__next__(), gen.__next__(), gen.__next__())\\n# 或使用for循环迭代，只能向前迭代一次\\nfor i in gen:\\n    print(i)\\n# 生成器表达式可作为函数的入参\\nprint(dict(((x,x**2) for x in range(3))))\\nprint(dict((x,x**2) for x in range(3)))\\n\\n# 2.yield关键字：把函数变成生成器，return只能返回一次函数，yield能返回多次，返回函数执行的中间结果，但不结束程序\\ndef fab(max):\\n    cnt, a, b = 0, 0, 1\\n    while cnt < max:\\n        yield b# print(b)\\n        a, b = b, a+b\\n        cnt += 1\\n\\nprint(fab(5)) #调用生成器函数时，只是返回一个生成器对象，函数并没有被执行\\n# 只有每次for循环访问生成器元素时才会执行fab内部代码，执行到yield处返回迭代值（类似return）后，本地变量保持不变，继续执行下一次迭代\\nfor i in fab(5):\\n    print(i)', 'a = [1,2,3]\\nb = [2,3,4]\\n\\n# 遍历函数：map(功能函数，应用的序列)\\nprint(type(map(lambda a, b: a*b, a, b)), list(map(lambda a, b: a*b, a, b)))\\n\\n# 筛选函数：fil(功能函数，应用的序列)\\nprint(list(filter(lambda x: x > 1, a)))\\n\\n# 累计函数：reduce(功能函数，应用的序列)，对序列内所有元素累计\\nfrom functools import reduce\\nprint(reduce(lambda x,y: x-y, b))', '# LEGB规则：函数解析变量名时，局部作用域Local->上层嵌套结构def/lamda函数嵌套作用域 Enclosing->全局作用域Global->内置作用域Built-in\\nprint(locals()) # 本地命名空间\\nprint(globals()) # 全局命名空间'], 'Out': {}, 'get_ipython': <bound method InteractiveShell.get_ipython of <ipykernel.zmqshell.ZMQInteractiveShell object at 0x7b0767c6ba90>>, 'exit': <IPython.core.autocall.ZMQExitAutocall object at 0x7b0767cb8700>, 'quit': <IPython.core.autocall.ZMQExitAutocall object at 0x7b0767cb8700>, 'open': <function open at 0x7b0789339ab0>, '_': '', '__': '', '___': '', '__session__': '/home/yuy4o/code/Python Advancing.ipynb', '_i': 'a = [1,2,3]\\nb = [2,3,4]\\n\\n# 遍历函数：map(功能函数，应用的序列)\\nprint(type(map(lambda a, b: a*b, a, b)), list(map(lambda a, b: a*b, a, b)))\\n\\n# 筛选函数：fil(功能函数，应用的序列)\\nprint(list(filter(lambda x: x > 1, a)))\\n\\n# 累计函数：reduce(功能函数，应用的序列)，对序列内所有元素累计\\nfrom functools import reduce\\nprint(reduce(lambda x,y: x-y, b))', '_ii': '# 八、生成器：一种特殊的迭代器，更便捷的方式构造可迭代对象\\n# 两种方式能生成生成器：生成器表达式，yield关键字\\n# 1.生成器表达式：将列表解析式中的中括号变成小括号\\ngen = ((x,x**2) for x in range(3))\\n#print(type(gen), gen.__next__(), gen.__next__(), gen.__next__())\\n# 或使用for循环迭代，只能向前迭代一次\\nfor i in gen:\\n    print(i)\\n# 生成器表达式可作为函数的入参\\nprint(dict(((x,x**2) for x in range(3))))\\nprint(dict((x,x**2) for x in range(3)))\\n\\n# 2.yield关键字：把函数变成生成器，return只能返回一次函数，yield能返回多次，返回函数执行的中间结果，但不结束程序\\ndef fab(max):\\n    cnt, a, b = 0, 0, 1\\n    while cnt < max:\\n        yield b# print(b)\\n        a, b = b, a+b\\n        cnt += 1\\n\\nprint(fab(5)) #调用生成器函数时，只是返回一个生成器对象，函数并没有被执行\\n# 只有每次for循环访问生成器元素时才会执行fab内部代码，执行到yield处返回迭代值（类似return）后，本地变量保持不变，继续执行下一次迭代\\nfor i in fab(5):\\n    print(i)', '_iii': '# 七、迭代器：实现了 __iter__()和__next__()方法的对象叫迭代器\\n# __iter__()返回迭代器本身，__next__()或 next()返回容器下一个元素。只能向前迭代，不能回退，只能向前迭代一次\\n# 使用iter()得到迭代器本身，isinstance()判断是否是迭代器，使用iter()将字典、列表变成迭代器\\nfrom collections.abc import Iterable, Iterator\\nxxx = [1,2]\\nprint(f\"是否可迭代：{isinstance(xxx, Iterable)}\")\\nprint(f\"是否是迭代器：{isinstance(xxx, Iterator)}\")\\nprint(f\"是否是迭代器：{isinstance(iter(xxx), Iterator)}\")\\nxxxx = iter(xxx)\\nprint(f\"返回迭代器本身{xxxx.__iter__()}\", xxxx.__next__(), next(xxxx))', '_i1': '# start 默认参数 *args 可变参数（参数的个数不确定）\\ndef mysum(start,*args):\\n    for num in args:\\n        start += num\\n    return start\\n\\nprint(mysum(10,1,2,3))', 'mysum': <function mysum at 0x7b0767cb37f0>, '_i2': '# **args 字典参数\\ndef pp(name, **args):\\n    print(name)\\n    print(args)\\npp(name=111, id=\"cat\", num=4, task=[{1:3},{2:4}])', 'pp': <function pp at 0x7b0767cb3370>, '_i3': '# 多分支异常捕获\\ntry:\\n    print(123)\\nexcept: # try block发生异常执行\\n    print(1234)\\nelse: # try block没有发生异常执行\\n    print(12345)\\nfinally:# try block有没有发生异常都执行\\n    print(123456)', '_i4': \"# 异常人工触发\\nraise KeyError('abc') #无理由强制触发异常\", '_i5': \"assert 1!=2, '异常' #满足条件则触发异常\", '_i6': '# 可变对象和不可变对象\\nc = 1\\nprint(id(c))\\nc+=1\\nprint(id(c))#不可变对象顽固不化，值变化地址就变，复制后仍可用原先的内存地址\\n\\nc = [1,2]\\nprint(id(c))\\nc.append(100)\\nprint(id(c))#可变对象在原地址上变化值，复制后不能用原内存地址', 'c': [1, 2, 100], '_i7': '# 浅拷贝和深拷贝\\nimport copy\\nx = 1 #不可变对象顽固不化，值变化地址就变，复制后仍可用原先的内存地址\\ny = copy.copy(x)\\nz = copy.deepcopy(x)\\nprint(id(x), id(y), id(z)) #不可变 - 两种复制y z都指向原变量的内存地址\\n\\nx = [1, [2,2], 3] #可变对象在原地址上变化值，复制后不能用原内存地址\\ny = copy.copy(x)\\nz = copy.deepcopy(x)\\nprint(id(x), id(y), id(z)) #可变 - 两种复制y z都重新创建新的内存地址\\nprint(x == y)\\nprint(x is y) #等价于 id(x) == id(y)\\n\\nprint(id(x[0]), id(y[0]), id(z[0])) #不可变 - 深浅拷贝一样\\nprint(id(x[2]), id(y[2]), id(z[2])) #不可变  - 深浅拷贝一样\\nprint(id(x[1][0]), id(y[1][0]), id(z[1][0])) #不可变  - 深浅拷贝一样\\nprint(id(x[1]), id(y[1]), id(z[1])) #可变 - 深浅拷贝一样 id(z) 一样按部就班创建新的内存地址；\\n# 浅拷贝会偷懒，把可变[2,2]当作不可变处理，和x[1]共享引用/内存地址，导致x[1]和y[1]两者绑定互相影响\\nprint(x[1], y[1])\\ny[1][0] = 3\\nprint(x[1], y[1], id(x[1]), id(y[1])) # 改动 y[1][0],x[1][0]被迫修改', 'copy': <module 'copy' from '/home/yuy4o/.local/share/uv/python/cpython-3.10.18-linux-x86_64-gnu/lib/python3.10/copy.py'>, 'x': [1, [3, 2], 3], 'y': [1, [3, 2], 3], 'z': [1, [2, 2], 3], '_i8': '# 一、回调函数：调用其他函数作为入参\\ndef func(fun, args):\\n    fun(args)\\n\\ndef f1(x):\\n    print(x)\\n\\ndef f2(y):\\n    print(y)\\n\\nfunc(f1,1)\\nfunc(f2,3)\\n\\n# 二、以上回调函数可写成闭包形式：调用其他函数作为出参\\ndef func():\\n    def f(x):\\n        print(x)\\n    return f\\nfunc()(1)\\nprint(func()(3))\\n\\n#回调函数是把函数作为参数传递，闭包把函数作为返回值返回。闭包可以延长变量的作用时间和作用域\\n#闭包作用域：嵌套函数中，内层函数引用外层函数的变量（叫做内层函数的自由变量，只能引用不能修改，除非用nonlocal声明才可修改）\\ndef outer(x):\\n    def inner(y):\\n        nonlocal x # 用nonlocal声明后的自由变量x才能修改；自由变量：代码区域中使用的没有被定义的变量就是自由变量\\n        x += 17\\n        return y**x # 闭包编程更高效，一个 函数解决y的x次方问题\\n    return inner\\n\\nprint(outer(2)(5))\\n\\n# 三、递归函数：调用自身函数作为出参\\n# 四、嵌套函数：调用其他函数在函数体中。闭包是一种特殊的嵌套函数，以下和闭包区别在于自由变量：\\ndef l():\\n    def hh():\\n        return \"hhdd\"\\n    return hh #函数作为返回值\\nprint(l())\\ndef l():\\n    def hh():\\n        return \"hhdd\"\\n    return hh() #返回函数执行结果\\nprint(l())\\n\\n# 五、匿名函数：调用一两次就不用的快餐函数\\nf = lambda x, y: outer(x)(y)\\nprint(f(1,3))', 'func': <function func at 0x7b0767cb3880>, 'f1': <function f1 at 0x7b076731c430>, 'f2': <function f2 at 0x7b076731c5e0>, 'outer': <function outer at 0x7b0767cb3c70>, 'l': <function l at 0x7b076731c310>, 'f': <function <lambda> at 0x7b076731c040>, '_i9': '# 六、装饰函数：是被装饰函数的插件，不能修改被装饰函数，仅能外挂功能\\n# @函数名 是语法糖，函数名是闭包函数的外层函数的名字。装饰器 = 语法糖 + 闭包\\ndef outer1(func):\\n    def inner1(*args, **kwargs):# 一个装饰器修饰多个函数\\n        print(f\"1Before calling {func.__name__}...\")\\n        func(*args, **kwargs)\\n        print(f\"1After calling {func.__name__}...\")\\n    return inner1\\n\\ndef outer2(func):\\n    def inner2(*args, **kwargs):# 一个装饰器修饰多个函数\\n        print(f\"2Before calling {func.__name__}...\")\\n        func(*args, **kwargs)\\n        print(f\"2After calling {func.__name__}...\")\\n    return inner2\\n\\n# 一个函数被多个装饰器修饰\\n@outer1\\n@outer2 # 装饰器将被装饰函数作为外层函数的入参，返回内层函数（我们可以在内层函数执行额外的功能）\\ndef welcome(name, content):\\n    print(f\"{name}!{content}\")\\n\\nwelcome(\\'Nigel\\', \\'HI!\\')\\n\\n\\n# 类装饰器：一个接收函数（或类）作为参数，并返回另一个可调用对象的结构。\\n# __init__接收被装饰的函数/方法, __call__让实例可调用，定义装饰逻辑, __get__实现描述符协议，用于方法装饰', 'outer1': <function outer1 at 0x7b0767cb3d00>, 'outer2': <function outer2 at 0x7b0767cb3520>, 'welcome': <function outer1.<locals>.inner1 at 0x7b076731c3a0>, '_i10': '# 七、迭代器：实现了 __iter__()和__next__()方法的对象叫迭代器\\n# __iter__()返回迭代器本身，__next__()或 next()返回容器下一个元素。只能向前迭代，不能回退，只能向前迭代一次\\n# 使用iter()得到迭代器本身，isinstance()判断是否是迭代器，使用iter()将字典、列表变成迭代器\\nfrom collections.abc import Iterable, Iterator\\nxxx = [1,2]\\nprint(f\"是否可迭代：{isinstance(xxx, Iterable)}\")\\nprint(f\"是否是迭代器：{isinstance(xxx, Iterator)}\")\\nprint(f\"是否是迭代器：{isinstance(iter(xxx), Iterator)}\")\\nxxxx = iter(xxx)\\nprint(f\"返回迭代器本身{xxxx.__iter__()}\", xxxx.__next__(), next(xxxx))', 'Iterable': <class 'collections.abc.Iterable'>, 'Iterator': <class 'collections.abc.Iterator'>, 'xxx': [1, 2], 'xxxx': <list_iterator object at 0x7b076681d960>, '_i11': '# 八、生成器：一种特殊的迭代器，更便捷的方式构造可迭代对象\\n# 两种方式能生成生成器：生成器表达式，yield关键字\\n# 1.生成器表达式：将列表解析式中的中括号变成小括号\\ngen = ((x,x**2) for x in range(3))\\n#print(type(gen), gen.__next__(), gen.__next__(), gen.__next__())\\n# 或使用for循环迭代，只能向前迭代一次\\nfor i in gen:\\n    print(i)\\n# 生成器表达式可作为函数的入参\\nprint(dict(((x,x**2) for x in range(3))))\\nprint(dict((x,x**2) for x in range(3)))\\n\\n# 2.yield关键字：把函数变成生成器，return只能返回一次函数，yield能返回多次，返回函数执行的中间结果，但不结束程序\\ndef fab(max):\\n    cnt, a, b = 0, 0, 1\\n    while cnt < max:\\n        yield b# print(b)\\n        a, b = b, a+b\\n        cnt += 1\\n\\nprint(fab(5)) #调用生成器函数时，只是返回一个生成器对象，函数并没有被执行\\n# 只有每次for循环访问生成器元素时才会执行fab内部代码，执行到yield处返回迭代值（类似return）后，本地变量保持不变，继续执行下一次迭代\\nfor i in fab(5):\\n    print(i)', 'gen': <generator object <genexpr> at 0x7b07667a8c80>, 'i': 5, 'fab': <function fab at 0x7b07668876d0>, '_i12': 'a = [1,2,3]\\nb = [2,3,4]\\n\\n# 遍历函数：map(功能函数，应用的序列)\\nprint(type(map(lambda a, b: a*b, a, b)), list(map(lambda a, b: a*b, a, b)))\\n\\n# 筛选函数：fil(功能函数，应用的序列)\\nprint(list(filter(lambda x: x > 1, a)))\\n\\n# 累计函数：reduce(功能函数，应用的序列)，对序列内所有元素累计\\nfrom functools import reduce\\nprint(reduce(lambda x,y: x-y, b))', 'a': [1, 2, 3], 'b': [2, 3, 4], 'reduce': <built-in function reduce>, '_i13': '# LEGB规则：函数解析变量名时，局部作用域Local->上层嵌套结构def/lamda函数嵌套作用域 Enclosing->全局作用域Global->内置作用域Built-in\\nprint(locals()) # 本地命名空间\\nprint(globals()) # 全局命名空间'}\n",
      "{'__name__': '__main__', '__doc__': 'Automatically created module for IPython interactive environment', '__package__': None, '__loader__': None, '__spec__': None, '__builtin__': <module 'builtins' (built-in)>, '__builtins__': <module 'builtins' (built-in)>, '_ih': ['', '# start 默认参数 *args 可变参数（参数的个数不确定）\\ndef mysum(start,*args):\\n    for num in args:\\n        start += num\\n    return start\\n\\nprint(mysum(10,1,2,3))', '# **args 字典参数\\ndef pp(name, **args):\\n    print(name)\\n    print(args)\\npp(name=111, id=\"cat\", num=4, task=[{1:3},{2:4}])', '# 多分支异常捕获\\ntry:\\n    print(123)\\nexcept: # try block发生异常执行\\n    print(1234)\\nelse: # try block没有发生异常执行\\n    print(12345)\\nfinally:# try block有没有发生异常都执行\\n    print(123456)', \"# 异常人工触发\\nraise KeyError('abc') #无理由强制触发异常\", \"assert 1!=2, '异常' #满足条件则触发异常\", '# 可变对象和不可变对象\\nc = 1\\nprint(id(c))\\nc+=1\\nprint(id(c))#不可变对象顽固不化，值变化地址就变，复制后仍可用原先的内存地址\\n\\nc = [1,2]\\nprint(id(c))\\nc.append(100)\\nprint(id(c))#可变对象在原地址上变化值，复制后不能用原内存地址', '# 浅拷贝和深拷贝\\nimport copy\\nx = 1 #不可变对象顽固不化，值变化地址就变，复制后仍可用原先的内存地址\\ny = copy.copy(x)\\nz = copy.deepcopy(x)\\nprint(id(x), id(y), id(z)) #不可变 - 两种复制y z都指向原变量的内存地址\\n\\nx = [1, [2,2], 3] #可变对象在原地址上变化值，复制后不能用原内存地址\\ny = copy.copy(x)\\nz = copy.deepcopy(x)\\nprint(id(x), id(y), id(z)) #可变 - 两种复制y z都重新创建新的内存地址\\nprint(x == y)\\nprint(x is y) #等价于 id(x) == id(y)\\n\\nprint(id(x[0]), id(y[0]), id(z[0])) #不可变 - 深浅拷贝一样\\nprint(id(x[2]), id(y[2]), id(z[2])) #不可变  - 深浅拷贝一样\\nprint(id(x[1][0]), id(y[1][0]), id(z[1][0])) #不可变  - 深浅拷贝一样\\nprint(id(x[1]), id(y[1]), id(z[1])) #可变 - 深浅拷贝一样 id(z) 一样按部就班创建新的内存地址；\\n# 浅拷贝会偷懒，把可变[2,2]当作不可变处理，和x[1]共享引用/内存地址，导致x[1]和y[1]两者绑定互相影响\\nprint(x[1], y[1])\\ny[1][0] = 3\\nprint(x[1], y[1], id(x[1]), id(y[1])) # 改动 y[1][0],x[1][0]被迫修改', '# 一、回调函数：调用其他函数作为入参\\ndef func(fun, args):\\n    fun(args)\\n\\ndef f1(x):\\n    print(x)\\n\\ndef f2(y):\\n    print(y)\\n\\nfunc(f1,1)\\nfunc(f2,3)\\n\\n# 二、以上回调函数可写成闭包形式：调用其他函数作为出参\\ndef func():\\n    def f(x):\\n        print(x)\\n    return f\\nfunc()(1)\\nprint(func()(3))\\n\\n#回调函数是把函数作为参数传递，闭包把函数作为返回值返回。闭包可以延长变量的作用时间和作用域\\n#闭包作用域：嵌套函数中，内层函数引用外层函数的变量（叫做内层函数的自由变量，只能引用不能修改，除非用nonlocal声明才可修改）\\ndef outer(x):\\n    def inner(y):\\n        nonlocal x # 用nonlocal声明后的自由变量x才能修改；自由变量：代码区域中使用的没有被定义的变量就是自由变量\\n        x += 17\\n        return y**x # 闭包编程更高效，一个 函数解决y的x次方问题\\n    return inner\\n\\nprint(outer(2)(5))\\n\\n# 三、递归函数：调用自身函数作为出参\\n# 四、嵌套函数：调用其他函数在函数体中。闭包是一种特殊的嵌套函数，以下和闭包区别在于自由变量：\\ndef l():\\n    def hh():\\n        return \"hhdd\"\\n    return hh #函数作为返回值\\nprint(l())\\ndef l():\\n    def hh():\\n        return \"hhdd\"\\n    return hh() #返回函数执行结果\\nprint(l())\\n\\n# 五、匿名函数：调用一两次就不用的快餐函数\\nf = lambda x, y: outer(x)(y)\\nprint(f(1,3))', '# 六、装饰函数：是被装饰函数的插件，不能修改被装饰函数，仅能外挂功能\\n# @函数名 是语法糖，函数名是闭包函数的外层函数的名字。装饰器 = 语法糖 + 闭包\\ndef outer1(func):\\n    def inner1(*args, **kwargs):# 一个装饰器修饰多个函数\\n        print(f\"1Before calling {func.__name__}...\")\\n        func(*args, **kwargs)\\n        print(f\"1After calling {func.__name__}...\")\\n    return inner1\\n\\ndef outer2(func):\\n    def inner2(*args, **kwargs):# 一个装饰器修饰多个函数\\n        print(f\"2Before calling {func.__name__}...\")\\n        func(*args, **kwargs)\\n        print(f\"2After calling {func.__name__}...\")\\n    return inner2\\n\\n# 一个函数被多个装饰器修饰\\n@outer1\\n@outer2 # 装饰器将被装饰函数作为外层函数的入参，返回内层函数（我们可以在内层函数执行额外的功能）\\ndef welcome(name, content):\\n    print(f\"{name}!{content}\")\\n\\nwelcome(\\'Nigel\\', \\'HI!\\')\\n\\n\\n# 类装饰器：一个接收函数（或类）作为参数，并返回另一个可调用对象的结构。\\n# __init__接收被装饰的函数/方法, __call__让实例可调用，定义装饰逻辑, __get__实现描述符协议，用于方法装饰', '# 七、迭代器：实现了 __iter__()和__next__()方法的对象叫迭代器\\n# __iter__()返回迭代器本身，__next__()或 next()返回容器下一个元素。只能向前迭代，不能回退，只能向前迭代一次\\n# 使用iter()得到迭代器本身，isinstance()判断是否是迭代器，使用iter()将字典、列表变成迭代器\\nfrom collections.abc import Iterable, Iterator\\nxxx = [1,2]\\nprint(f\"是否可迭代：{isinstance(xxx, Iterable)}\")\\nprint(f\"是否是迭代器：{isinstance(xxx, Iterator)}\")\\nprint(f\"是否是迭代器：{isinstance(iter(xxx), Iterator)}\")\\nxxxx = iter(xxx)\\nprint(f\"返回迭代器本身{xxxx.__iter__()}\", xxxx.__next__(), next(xxxx))', '# 八、生成器：一种特殊的迭代器，更便捷的方式构造可迭代对象\\n# 两种方式能生成生成器：生成器表达式，yield关键字\\n# 1.生成器表达式：将列表解析式中的中括号变成小括号\\ngen = ((x,x**2) for x in range(3))\\n#print(type(gen), gen.__next__(), gen.__next__(), gen.__next__())\\n# 或使用for循环迭代，只能向前迭代一次\\nfor i in gen:\\n    print(i)\\n# 生成器表达式可作为函数的入参\\nprint(dict(((x,x**2) for x in range(3))))\\nprint(dict((x,x**2) for x in range(3)))\\n\\n# 2.yield关键字：把函数变成生成器，return只能返回一次函数，yield能返回多次，返回函数执行的中间结果，但不结束程序\\ndef fab(max):\\n    cnt, a, b = 0, 0, 1\\n    while cnt < max:\\n        yield b# print(b)\\n        a, b = b, a+b\\n        cnt += 1\\n\\nprint(fab(5)) #调用生成器函数时，只是返回一个生成器对象，函数并没有被执行\\n# 只有每次for循环访问生成器元素时才会执行fab内部代码，执行到yield处返回迭代值（类似return）后，本地变量保持不变，继续执行下一次迭代\\nfor i in fab(5):\\n    print(i)', 'a = [1,2,3]\\nb = [2,3,4]\\n\\n# 遍历函数：map(功能函数，应用的序列)\\nprint(type(map(lambda a, b: a*b, a, b)), list(map(lambda a, b: a*b, a, b)))\\n\\n# 筛选函数：fil(功能函数，应用的序列)\\nprint(list(filter(lambda x: x > 1, a)))\\n\\n# 累计函数：reduce(功能函数，应用的序列)，对序列内所有元素累计\\nfrom functools import reduce\\nprint(reduce(lambda x,y: x-y, b))', '# LEGB规则：函数解析变量名时，局部作用域Local->上层嵌套结构def/lamda函数嵌套作用域 Enclosing->全局作用域Global->内置作用域Built-in\\nprint(locals()) # 本地命名空间\\nprint(globals()) # 全局命名空间'], '_oh': {}, '_dh': [PosixPath('/home/yuy4o/code')], 'In': ['', '# start 默认参数 *args 可变参数（参数的个数不确定）\\ndef mysum(start,*args):\\n    for num in args:\\n        start += num\\n    return start\\n\\nprint(mysum(10,1,2,3))', '# **args 字典参数\\ndef pp(name, **args):\\n    print(name)\\n    print(args)\\npp(name=111, id=\"cat\", num=4, task=[{1:3},{2:4}])', '# 多分支异常捕获\\ntry:\\n    print(123)\\nexcept: # try block发生异常执行\\n    print(1234)\\nelse: # try block没有发生异常执行\\n    print(12345)\\nfinally:# try block有没有发生异常都执行\\n    print(123456)', \"# 异常人工触发\\nraise KeyError('abc') #无理由强制触发异常\", \"assert 1!=2, '异常' #满足条件则触发异常\", '# 可变对象和不可变对象\\nc = 1\\nprint(id(c))\\nc+=1\\nprint(id(c))#不可变对象顽固不化，值变化地址就变，复制后仍可用原先的内存地址\\n\\nc = [1,2]\\nprint(id(c))\\nc.append(100)\\nprint(id(c))#可变对象在原地址上变化值，复制后不能用原内存地址', '# 浅拷贝和深拷贝\\nimport copy\\nx = 1 #不可变对象顽固不化，值变化地址就变，复制后仍可用原先的内存地址\\ny = copy.copy(x)\\nz = copy.deepcopy(x)\\nprint(id(x), id(y), id(z)) #不可变 - 两种复制y z都指向原变量的内存地址\\n\\nx = [1, [2,2], 3] #可变对象在原地址上变化值，复制后不能用原内存地址\\ny = copy.copy(x)\\nz = copy.deepcopy(x)\\nprint(id(x), id(y), id(z)) #可变 - 两种复制y z都重新创建新的内存地址\\nprint(x == y)\\nprint(x is y) #等价于 id(x) == id(y)\\n\\nprint(id(x[0]), id(y[0]), id(z[0])) #不可变 - 深浅拷贝一样\\nprint(id(x[2]), id(y[2]), id(z[2])) #不可变  - 深浅拷贝一样\\nprint(id(x[1][0]), id(y[1][0]), id(z[1][0])) #不可变  - 深浅拷贝一样\\nprint(id(x[1]), id(y[1]), id(z[1])) #可变 - 深浅拷贝一样 id(z) 一样按部就班创建新的内存地址；\\n# 浅拷贝会偷懒，把可变[2,2]当作不可变处理，和x[1]共享引用/内存地址，导致x[1]和y[1]两者绑定互相影响\\nprint(x[1], y[1])\\ny[1][0] = 3\\nprint(x[1], y[1], id(x[1]), id(y[1])) # 改动 y[1][0],x[1][0]被迫修改', '# 一、回调函数：调用其他函数作为入参\\ndef func(fun, args):\\n    fun(args)\\n\\ndef f1(x):\\n    print(x)\\n\\ndef f2(y):\\n    print(y)\\n\\nfunc(f1,1)\\nfunc(f2,3)\\n\\n# 二、以上回调函数可写成闭包形式：调用其他函数作为出参\\ndef func():\\n    def f(x):\\n        print(x)\\n    return f\\nfunc()(1)\\nprint(func()(3))\\n\\n#回调函数是把函数作为参数传递，闭包把函数作为返回值返回。闭包可以延长变量的作用时间和作用域\\n#闭包作用域：嵌套函数中，内层函数引用外层函数的变量（叫做内层函数的自由变量，只能引用不能修改，除非用nonlocal声明才可修改）\\ndef outer(x):\\n    def inner(y):\\n        nonlocal x # 用nonlocal声明后的自由变量x才能修改；自由变量：代码区域中使用的没有被定义的变量就是自由变量\\n        x += 17\\n        return y**x # 闭包编程更高效，一个 函数解决y的x次方问题\\n    return inner\\n\\nprint(outer(2)(5))\\n\\n# 三、递归函数：调用自身函数作为出参\\n# 四、嵌套函数：调用其他函数在函数体中。闭包是一种特殊的嵌套函数，以下和闭包区别在于自由变量：\\ndef l():\\n    def hh():\\n        return \"hhdd\"\\n    return hh #函数作为返回值\\nprint(l())\\ndef l():\\n    def hh():\\n        return \"hhdd\"\\n    return hh() #返回函数执行结果\\nprint(l())\\n\\n# 五、匿名函数：调用一两次就不用的快餐函数\\nf = lambda x, y: outer(x)(y)\\nprint(f(1,3))', '# 六、装饰函数：是被装饰函数的插件，不能修改被装饰函数，仅能外挂功能\\n# @函数名 是语法糖，函数名是闭包函数的外层函数的名字。装饰器 = 语法糖 + 闭包\\ndef outer1(func):\\n    def inner1(*args, **kwargs):# 一个装饰器修饰多个函数\\n        print(f\"1Before calling {func.__name__}...\")\\n        func(*args, **kwargs)\\n        print(f\"1After calling {func.__name__}...\")\\n    return inner1\\n\\ndef outer2(func):\\n    def inner2(*args, **kwargs):# 一个装饰器修饰多个函数\\n        print(f\"2Before calling {func.__name__}...\")\\n        func(*args, **kwargs)\\n        print(f\"2After calling {func.__name__}...\")\\n    return inner2\\n\\n# 一个函数被多个装饰器修饰\\n@outer1\\n@outer2 # 装饰器将被装饰函数作为外层函数的入参，返回内层函数（我们可以在内层函数执行额外的功能）\\ndef welcome(name, content):\\n    print(f\"{name}!{content}\")\\n\\nwelcome(\\'Nigel\\', \\'HI!\\')\\n\\n\\n# 类装饰器：一个接收函数（或类）作为参数，并返回另一个可调用对象的结构。\\n# __init__接收被装饰的函数/方法, __call__让实例可调用，定义装饰逻辑, __get__实现描述符协议，用于方法装饰', '# 七、迭代器：实现了 __iter__()和__next__()方法的对象叫迭代器\\n# __iter__()返回迭代器本身，__next__()或 next()返回容器下一个元素。只能向前迭代，不能回退，只能向前迭代一次\\n# 使用iter()得到迭代器本身，isinstance()判断是否是迭代器，使用iter()将字典、列表变成迭代器\\nfrom collections.abc import Iterable, Iterator\\nxxx = [1,2]\\nprint(f\"是否可迭代：{isinstance(xxx, Iterable)}\")\\nprint(f\"是否是迭代器：{isinstance(xxx, Iterator)}\")\\nprint(f\"是否是迭代器：{isinstance(iter(xxx), Iterator)}\")\\nxxxx = iter(xxx)\\nprint(f\"返回迭代器本身{xxxx.__iter__()}\", xxxx.__next__(), next(xxxx))', '# 八、生成器：一种特殊的迭代器，更便捷的方式构造可迭代对象\\n# 两种方式能生成生成器：生成器表达式，yield关键字\\n# 1.生成器表达式：将列表解析式中的中括号变成小括号\\ngen = ((x,x**2) for x in range(3))\\n#print(type(gen), gen.__next__(), gen.__next__(), gen.__next__())\\n# 或使用for循环迭代，只能向前迭代一次\\nfor i in gen:\\n    print(i)\\n# 生成器表达式可作为函数的入参\\nprint(dict(((x,x**2) for x in range(3))))\\nprint(dict((x,x**2) for x in range(3)))\\n\\n# 2.yield关键字：把函数变成生成器，return只能返回一次函数，yield能返回多次，返回函数执行的中间结果，但不结束程序\\ndef fab(max):\\n    cnt, a, b = 0, 0, 1\\n    while cnt < max:\\n        yield b# print(b)\\n        a, b = b, a+b\\n        cnt += 1\\n\\nprint(fab(5)) #调用生成器函数时，只是返回一个生成器对象，函数并没有被执行\\n# 只有每次for循环访问生成器元素时才会执行fab内部代码，执行到yield处返回迭代值（类似return）后，本地变量保持不变，继续执行下一次迭代\\nfor i in fab(5):\\n    print(i)', 'a = [1,2,3]\\nb = [2,3,4]\\n\\n# 遍历函数：map(功能函数，应用的序列)\\nprint(type(map(lambda a, b: a*b, a, b)), list(map(lambda a, b: a*b, a, b)))\\n\\n# 筛选函数：fil(功能函数，应用的序列)\\nprint(list(filter(lambda x: x > 1, a)))\\n\\n# 累计函数：reduce(功能函数，应用的序列)，对序列内所有元素累计\\nfrom functools import reduce\\nprint(reduce(lambda x,y: x-y, b))', '# LEGB规则：函数解析变量名时，局部作用域Local->上层嵌套结构def/lamda函数嵌套作用域 Enclosing->全局作用域Global->内置作用域Built-in\\nprint(locals()) # 本地命名空间\\nprint(globals()) # 全局命名空间'], 'Out': {}, 'get_ipython': <bound method InteractiveShell.get_ipython of <ipykernel.zmqshell.ZMQInteractiveShell object at 0x7b0767c6ba90>>, 'exit': <IPython.core.autocall.ZMQExitAutocall object at 0x7b0767cb8700>, 'quit': <IPython.core.autocall.ZMQExitAutocall object at 0x7b0767cb8700>, 'open': <function open at 0x7b0789339ab0>, '_': '', '__': '', '___': '', '__session__': '/home/yuy4o/code/Python Advancing.ipynb', '_i': 'a = [1,2,3]\\nb = [2,3,4]\\n\\n# 遍历函数：map(功能函数，应用的序列)\\nprint(type(map(lambda a, b: a*b, a, b)), list(map(lambda a, b: a*b, a, b)))\\n\\n# 筛选函数：fil(功能函数，应用的序列)\\nprint(list(filter(lambda x: x > 1, a)))\\n\\n# 累计函数：reduce(功能函数，应用的序列)，对序列内所有元素累计\\nfrom functools import reduce\\nprint(reduce(lambda x,y: x-y, b))', '_ii': '# 八、生成器：一种特殊的迭代器，更便捷的方式构造可迭代对象\\n# 两种方式能生成生成器：生成器表达式，yield关键字\\n# 1.生成器表达式：将列表解析式中的中括号变成小括号\\ngen = ((x,x**2) for x in range(3))\\n#print(type(gen), gen.__next__(), gen.__next__(), gen.__next__())\\n# 或使用for循环迭代，只能向前迭代一次\\nfor i in gen:\\n    print(i)\\n# 生成器表达式可作为函数的入参\\nprint(dict(((x,x**2) for x in range(3))))\\nprint(dict((x,x**2) for x in range(3)))\\n\\n# 2.yield关键字：把函数变成生成器，return只能返回一次函数，yield能返回多次，返回函数执行的中间结果，但不结束程序\\ndef fab(max):\\n    cnt, a, b = 0, 0, 1\\n    while cnt < max:\\n        yield b# print(b)\\n        a, b = b, a+b\\n        cnt += 1\\n\\nprint(fab(5)) #调用生成器函数时，只是返回一个生成器对象，函数并没有被执行\\n# 只有每次for循环访问生成器元素时才会执行fab内部代码，执行到yield处返回迭代值（类似return）后，本地变量保持不变，继续执行下一次迭代\\nfor i in fab(5):\\n    print(i)', '_iii': '# 七、迭代器：实现了 __iter__()和__next__()方法的对象叫迭代器\\n# __iter__()返回迭代器本身，__next__()或 next()返回容器下一个元素。只能向前迭代，不能回退，只能向前迭代一次\\n# 使用iter()得到迭代器本身，isinstance()判断是否是迭代器，使用iter()将字典、列表变成迭代器\\nfrom collections.abc import Iterable, Iterator\\nxxx = [1,2]\\nprint(f\"是否可迭代：{isinstance(xxx, Iterable)}\")\\nprint(f\"是否是迭代器：{isinstance(xxx, Iterator)}\")\\nprint(f\"是否是迭代器：{isinstance(iter(xxx), Iterator)}\")\\nxxxx = iter(xxx)\\nprint(f\"返回迭代器本身{xxxx.__iter__()}\", xxxx.__next__(), next(xxxx))', '_i1': '# start 默认参数 *args 可变参数（参数的个数不确定）\\ndef mysum(start,*args):\\n    for num in args:\\n        start += num\\n    return start\\n\\nprint(mysum(10,1,2,3))', 'mysum': <function mysum at 0x7b0767cb37f0>, '_i2': '# **args 字典参数\\ndef pp(name, **args):\\n    print(name)\\n    print(args)\\npp(name=111, id=\"cat\", num=4, task=[{1:3},{2:4}])', 'pp': <function pp at 0x7b0767cb3370>, '_i3': '# 多分支异常捕获\\ntry:\\n    print(123)\\nexcept: # try block发生异常执行\\n    print(1234)\\nelse: # try block没有发生异常执行\\n    print(12345)\\nfinally:# try block有没有发生异常都执行\\n    print(123456)', '_i4': \"# 异常人工触发\\nraise KeyError('abc') #无理由强制触发异常\", '_i5': \"assert 1!=2, '异常' #满足条件则触发异常\", '_i6': '# 可变对象和不可变对象\\nc = 1\\nprint(id(c))\\nc+=1\\nprint(id(c))#不可变对象顽固不化，值变化地址就变，复制后仍可用原先的内存地址\\n\\nc = [1,2]\\nprint(id(c))\\nc.append(100)\\nprint(id(c))#可变对象在原地址上变化值，复制后不能用原内存地址', 'c': [1, 2, 100], '_i7': '# 浅拷贝和深拷贝\\nimport copy\\nx = 1 #不可变对象顽固不化，值变化地址就变，复制后仍可用原先的内存地址\\ny = copy.copy(x)\\nz = copy.deepcopy(x)\\nprint(id(x), id(y), id(z)) #不可变 - 两种复制y z都指向原变量的内存地址\\n\\nx = [1, [2,2], 3] #可变对象在原地址上变化值，复制后不能用原内存地址\\ny = copy.copy(x)\\nz = copy.deepcopy(x)\\nprint(id(x), id(y), id(z)) #可变 - 两种复制y z都重新创建新的内存地址\\nprint(x == y)\\nprint(x is y) #等价于 id(x) == id(y)\\n\\nprint(id(x[0]), id(y[0]), id(z[0])) #不可变 - 深浅拷贝一样\\nprint(id(x[2]), id(y[2]), id(z[2])) #不可变  - 深浅拷贝一样\\nprint(id(x[1][0]), id(y[1][0]), id(z[1][0])) #不可变  - 深浅拷贝一样\\nprint(id(x[1]), id(y[1]), id(z[1])) #可变 - 深浅拷贝一样 id(z) 一样按部就班创建新的内存地址；\\n# 浅拷贝会偷懒，把可变[2,2]当作不可变处理，和x[1]共享引用/内存地址，导致x[1]和y[1]两者绑定互相影响\\nprint(x[1], y[1])\\ny[1][0] = 3\\nprint(x[1], y[1], id(x[1]), id(y[1])) # 改动 y[1][0],x[1][0]被迫修改', 'copy': <module 'copy' from '/home/yuy4o/.local/share/uv/python/cpython-3.10.18-linux-x86_64-gnu/lib/python3.10/copy.py'>, 'x': [1, [3, 2], 3], 'y': [1, [3, 2], 3], 'z': [1, [2, 2], 3], '_i8': '# 一、回调函数：调用其他函数作为入参\\ndef func(fun, args):\\n    fun(args)\\n\\ndef f1(x):\\n    print(x)\\n\\ndef f2(y):\\n    print(y)\\n\\nfunc(f1,1)\\nfunc(f2,3)\\n\\n# 二、以上回调函数可写成闭包形式：调用其他函数作为出参\\ndef func():\\n    def f(x):\\n        print(x)\\n    return f\\nfunc()(1)\\nprint(func()(3))\\n\\n#回调函数是把函数作为参数传递，闭包把函数作为返回值返回。闭包可以延长变量的作用时间和作用域\\n#闭包作用域：嵌套函数中，内层函数引用外层函数的变量（叫做内层函数的自由变量，只能引用不能修改，除非用nonlocal声明才可修改）\\ndef outer(x):\\n    def inner(y):\\n        nonlocal x # 用nonlocal声明后的自由变量x才能修改；自由变量：代码区域中使用的没有被定义的变量就是自由变量\\n        x += 17\\n        return y**x # 闭包编程更高效，一个 函数解决y的x次方问题\\n    return inner\\n\\nprint(outer(2)(5))\\n\\n# 三、递归函数：调用自身函数作为出参\\n# 四、嵌套函数：调用其他函数在函数体中。闭包是一种特殊的嵌套函数，以下和闭包区别在于自由变量：\\ndef l():\\n    def hh():\\n        return \"hhdd\"\\n    return hh #函数作为返回值\\nprint(l())\\ndef l():\\n    def hh():\\n        return \"hhdd\"\\n    return hh() #返回函数执行结果\\nprint(l())\\n\\n# 五、匿名函数：调用一两次就不用的快餐函数\\nf = lambda x, y: outer(x)(y)\\nprint(f(1,3))', 'func': <function func at 0x7b0767cb3880>, 'f1': <function f1 at 0x7b076731c430>, 'f2': <function f2 at 0x7b076731c5e0>, 'outer': <function outer at 0x7b0767cb3c70>, 'l': <function l at 0x7b076731c310>, 'f': <function <lambda> at 0x7b076731c040>, '_i9': '# 六、装饰函数：是被装饰函数的插件，不能修改被装饰函数，仅能外挂功能\\n# @函数名 是语法糖，函数名是闭包函数的外层函数的名字。装饰器 = 语法糖 + 闭包\\ndef outer1(func):\\n    def inner1(*args, **kwargs):# 一个装饰器修饰多个函数\\n        print(f\"1Before calling {func.__name__}...\")\\n        func(*args, **kwargs)\\n        print(f\"1After calling {func.__name__}...\")\\n    return inner1\\n\\ndef outer2(func):\\n    def inner2(*args, **kwargs):# 一个装饰器修饰多个函数\\n        print(f\"2Before calling {func.__name__}...\")\\n        func(*args, **kwargs)\\n        print(f\"2After calling {func.__name__}...\")\\n    return inner2\\n\\n# 一个函数被多个装饰器修饰\\n@outer1\\n@outer2 # 装饰器将被装饰函数作为外层函数的入参，返回内层函数（我们可以在内层函数执行额外的功能）\\ndef welcome(name, content):\\n    print(f\"{name}!{content}\")\\n\\nwelcome(\\'Nigel\\', \\'HI!\\')\\n\\n\\n# 类装饰器：一个接收函数（或类）作为参数，并返回另一个可调用对象的结构。\\n# __init__接收被装饰的函数/方法, __call__让实例可调用，定义装饰逻辑, __get__实现描述符协议，用于方法装饰', 'outer1': <function outer1 at 0x7b0767cb3d00>, 'outer2': <function outer2 at 0x7b0767cb3520>, 'welcome': <function outer1.<locals>.inner1 at 0x7b076731c3a0>, '_i10': '# 七、迭代器：实现了 __iter__()和__next__()方法的对象叫迭代器\\n# __iter__()返回迭代器本身，__next__()或 next()返回容器下一个元素。只能向前迭代，不能回退，只能向前迭代一次\\n# 使用iter()得到迭代器本身，isinstance()判断是否是迭代器，使用iter()将字典、列表变成迭代器\\nfrom collections.abc import Iterable, Iterator\\nxxx = [1,2]\\nprint(f\"是否可迭代：{isinstance(xxx, Iterable)}\")\\nprint(f\"是否是迭代器：{isinstance(xxx, Iterator)}\")\\nprint(f\"是否是迭代器：{isinstance(iter(xxx), Iterator)}\")\\nxxxx = iter(xxx)\\nprint(f\"返回迭代器本身{xxxx.__iter__()}\", xxxx.__next__(), next(xxxx))', 'Iterable': <class 'collections.abc.Iterable'>, 'Iterator': <class 'collections.abc.Iterator'>, 'xxx': [1, 2], 'xxxx': <list_iterator object at 0x7b076681d960>, '_i11': '# 八、生成器：一种特殊的迭代器，更便捷的方式构造可迭代对象\\n# 两种方式能生成生成器：生成器表达式，yield关键字\\n# 1.生成器表达式：将列表解析式中的中括号变成小括号\\ngen = ((x,x**2) for x in range(3))\\n#print(type(gen), gen.__next__(), gen.__next__(), gen.__next__())\\n# 或使用for循环迭代，只能向前迭代一次\\nfor i in gen:\\n    print(i)\\n# 生成器表达式可作为函数的入参\\nprint(dict(((x,x**2) for x in range(3))))\\nprint(dict((x,x**2) for x in range(3)))\\n\\n# 2.yield关键字：把函数变成生成器，return只能返回一次函数，yield能返回多次，返回函数执行的中间结果，但不结束程序\\ndef fab(max):\\n    cnt, a, b = 0, 0, 1\\n    while cnt < max:\\n        yield b# print(b)\\n        a, b = b, a+b\\n        cnt += 1\\n\\nprint(fab(5)) #调用生成器函数时，只是返回一个生成器对象，函数并没有被执行\\n# 只有每次for循环访问生成器元素时才会执行fab内部代码，执行到yield处返回迭代值（类似return）后，本地变量保持不变，继续执行下一次迭代\\nfor i in fab(5):\\n    print(i)', 'gen': <generator object <genexpr> at 0x7b07667a8c80>, 'i': 5, 'fab': <function fab at 0x7b07668876d0>, '_i12': 'a = [1,2,3]\\nb = [2,3,4]\\n\\n# 遍历函数：map(功能函数，应用的序列)\\nprint(type(map(lambda a, b: a*b, a, b)), list(map(lambda a, b: a*b, a, b)))\\n\\n# 筛选函数：fil(功能函数，应用的序列)\\nprint(list(filter(lambda x: x > 1, a)))\\n\\n# 累计函数：reduce(功能函数，应用的序列)，对序列内所有元素累计\\nfrom functools import reduce\\nprint(reduce(lambda x,y: x-y, b))', 'a': [1, 2, 3], 'b': [2, 3, 4], 'reduce': <built-in function reduce>, '_i13': '# LEGB规则：函数解析变量名时，局部作用域Local->上层嵌套结构def/lamda函数嵌套作用域 Enclosing->全局作用域Global->内置作用域Built-in\\nprint(locals()) # 本地命名空间\\nprint(globals()) # 全局命名空间'}\n"
     ]
    }
   ],
   "source": [
    "# LEGB规则：函数解析变量名时，局部作用域Local->上层嵌套结构def/lamda函数嵌套作用域 Enclosing->全局作用域Global->内置作用域Built-in\n",
    "print(locals()) # 本地命名空间\n",
    "print(globals()) # 全局命名空间"
   ]
  },
  {
   "cell_type": "markdown",
   "id": "813d8e9f-d571-4d8f-83b1-b60705e4ec4b",
   "metadata": {},
   "source": [
    "## 类"
   ]
  },
  {
   "cell_type": "code",
   "execution_count": 14,
   "id": "a711877c-b18e-45d2-8259-46fc3c3c9ac2",
   "metadata": {},
   "outputs": [],
   "source": [
    "#多重继承：子类继承多个父类\n",
    "#多态：相同接口不同实现。同一方法名，在不同类对象中表现不同行为；方法重写是实现多态的手段之一\n",
    "#重载：同一类中，定义多个方法名相同但参数不同的方法\n",
    "#存在抽象方法的类叫抽象类，抽象方法表示没有实现的方法，抽象类也不能被实例化，子类继承抽象类要重写抽象方法，否则会报错\n",
    "#封装：访问限制，隐藏内部实现细节，外部直接调用。如应用__name私有变量，不能被继承类引用"
   ]
  },
  {
   "cell_type": "code",
   "execution_count": 15,
   "id": "12b0943b-940b-4ef8-9357-c596ee35f742",
   "metadata": {},
   "outputs": [
    {
     "name": "stdout",
     "output_type": "stream",
     "text": [
      "<class 'str'> <class 'type'>\n",
      "<class 'type'>\n",
      "Creating class: MyClass\n",
      "42\n"
     ]
    }
   ],
   "source": [
    "# 元类：用来创建类的类\n",
    "#对象-被类（class）创建\n",
    "#类-`112``（普通 class）-被元类（metaclass）创建\n",
    "#元类-通常继承自type（内建元类）\n",
    "xxcx = 'da'\n",
    "print(xxcx.__class__, xxcx.__class__.__class__) # <class 'type'>\n",
    "\n",
    "class Foo:\n",
    "    pass\n",
    "print(type(Foo))  # <class 'type'>\n",
    "\n",
    "# 自定义元类\n",
    "class MyMeta(type):\n",
    "    def __new__(cls, name, bases, dct):\n",
    "        print(\"Creating class:\", name)\n",
    "        dct['custom_attr'] = 42\n",
    "        return super().__new__(cls, name, bases, dct)\n",
    "\n",
    "# 使用元类创建类\n",
    "class MyClass(metaclass=MyMeta):\n",
    "    pass\n",
    "\n",
    "print(MyClass.custom_attr)"
   ]
  },
  {
   "cell_type": "markdown",
   "id": "36ea17e5-5509-4541-bfd7-4b7d7a7bcaa0",
   "metadata": {},
   "source": [
    "## 多线程编程"
   ]
  },
  {
   "cell_type": "code",
   "execution_count": 16,
   "id": "95a47607-1eff-45ff-9cd7-9c75c93fe3a4",
   "metadata": {},
   "outputs": [],
   "source": [
    "# 进程是程序的执行实例，线程是进程内部的一个执行单元。系统创建一个进程时，会创建一个主线程。每个进程至少有一个线程\n",
    "# 创建线程：threading.Thread 相比thread更全面，有run(), start(), join(), isAlive(), getName()等方法\n",
    "# 线程同步：使用 threading.Lock() 和 threading.RLock()实现简单的线程同步；使用 threading.Condition() / Queue.Queue()支持复杂的线程同步\n",
    "# 线程通信：使用 threading.Event()/多个进程共享的 Queue对象防止死锁（两个及以上的进程或线程执行时因争夺资源造成的互相等待），创建threading.Lock()锁对象管理上下文（为程序中的每个锁分配唯一的id，只允许升序使用多个锁）\n",
    "# 全局解释器锁GIL：GIL并不限制线程在哪个 CPU 核心上运行，而是通过加锁机制，强制“同一时刻只能有一个线程执行 Python 字节码”。导致多线程代码无法利用多核心执行。\n",
    "# 解决GIL：1.可以使用multiprocessing创建多个进程池（对应多个单独解释器），线程将CPU密集型任务发给进程池处理，线程等待结果时会释放GIL\n",
    "# 解决GIL：2.C扩展编程，将CPU密集型任务发给C，工作时在C代码中释放GIL"
   ]
  }
 ],
 "metadata": {
  "kernelspec": {
   "display_name": "Python 3 (ipykernel)",
   "language": "python",
   "name": "python3"
  },
  "language_info": {
   "codemirror_mode": {
    "name": "ipython",
    "version": 3
   },
   "file_extension": ".py",
   "mimetype": "text/x-python",
   "name": "python",
   "nbconvert_exporter": "python",
   "pygments_lexer": "ipython3",
   "version": "3.10.18"
  }
 },
 "nbformat": 4,
 "nbformat_minor": 5
}
