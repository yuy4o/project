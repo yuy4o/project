{
 "cells": [
  {
   "cell_type": "code",
   "execution_count": null,
   "id": "c5f9bdfd",
   "metadata": {},
   "outputs": [],
   "source": [
    "字母，数字，下划线\n",
    "message=\"xxxx\"\n",
    "_message=\"xxxx\"\n",
    "1_message=\"xxxx\"(x)\n",
    "0=\"xxxx\"(x)"
   ]
  },
  {
   "cell_type": "code",
   "execution_count": null,
   "id": "8b99310c",
   "metadata": {},
   "outputs": [],
   "source": [
    "greeting message=\"xxxx\"(x)\n",
    "greeting_message=\"xxxx\""
   ]
  },
  {
   "cell_type": "code",
   "execution_count": null,
   "id": "250bacce",
   "metadata": {},
   "outputs": [],
   "source": [
    "命名不能用python关键字和函数名\n",
    "print=\"xxxx\"(x)"
   ]
  },
  {
   "cell_type": "code",
   "execution_count": null,
   "id": "f09c3b7f",
   "metadata": {},
   "outputs": [],
   "source": [
    "student_name\n",
    "s_n(x)"
   ]
  },
  {
   "cell_type": "code",
   "execution_count": null,
   "id": "f7f1abfe",
   "metadata": {},
   "outputs": [],
   "source": [
    "命名不包含l O o "
   ]
  },
  {
   "cell_type": "code",
   "execution_count": null,
   "id": "3003e11b",
   "metadata": {},
   "outputs": [],
   "source": [
    "命名用小写"
   ]
  }
 ],
 "metadata": {
  "kernelspec": {
   "display_name": "Python 3.9.12 ('base')",
   "language": "python",
   "name": "python3"
  },
  "language_info": {
   "codemirror_mode": {
    "name": "ipython",
    "version": 3
   },
   "file_extension": ".py",
   "mimetype": "text/x-python",
   "name": "python",
   "nbconvert_exporter": "python",
   "pygments_lexer": "ipython3",
   "version": "3.9.12"
  },
  "vscode": {
   "interpreter": {
    "hash": "95b27839165d846a77f10661a4557c368bce0e7bdbc34b6fd748b2904850524d"
   }
  }
 },
 "nbformat": 4,
 "nbformat_minor": 5
}
