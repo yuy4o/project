{
 "cells": [
  {
   "cell_type": "markdown",
   "id": "d491aa74",
   "metadata": {},
   "source": [
    "5.1 一个简单事例"
   ]
  },
  {
   "cell_type": "code",
   "execution_count": 1,
   "id": "31002bf9",
   "metadata": {},
   "outputs": [
    {
     "name": "stdout",
     "output_type": "stream",
     "text": [
      "Audi\n",
      "BMW\n",
      "Subaru\n",
      "Toyota\n"
     ]
    }
   ],
   "source": [
    "cars=['audi','bmw','subaru','toyota']\n",
    "\n",
    "for car in cars:\n",
    "    if car=='bmw':\n",
    "        print(car.upper())\n",
    "    else:\n",
    "        print(car.title())"
   ]
  },
  {
   "cell_type": "markdown",
   "id": "7657dd1e",
   "metadata": {},
   "source": [
    "5.2.1 检查是否相等"
   ]
  },
  {
   "cell_type": "code",
   "execution_count": 2,
   "id": "f2f422a2",
   "metadata": {},
   "outputs": [
    {
     "data": {
      "text/plain": "True"
     },
     "execution_count": 2,
     "metadata": {},
     "output_type": "execute_result"
    }
   ],
   "source": [
    "car='bmw'\n",
    "car=='bmw'"
   ]
  },
  {
   "cell_type": "code",
   "execution_count": 5,
   "id": "82419a18",
   "metadata": {},
   "outputs": [
    {
     "data": {
      "text/plain": [
       "False"
      ]
     },
     "execution_count": 5,
     "metadata": {},
     "output_type": "execute_result"
    }
   ],
   "source": [
    "car='audi'\n",
    "car=='bmw'"
   ]
  },
  {
   "cell_type": "code",
   "execution_count": null,
   "id": "0b715899",
   "metadata": {},
   "outputs": [],
   "source": [
    "5.2.2 检查是否相等时忽略大小写"
   ]
  },
  {
   "cell_type": "code",
   "execution_count": 3,
   "id": "c6a9bfa6",
   "metadata": {},
   "outputs": [
    {
     "data": {
      "text/plain": "False"
     },
     "execution_count": 3,
     "metadata": {},
     "output_type": "execute_result"
    }
   ],
   "source": [
    "car='Audi'\n",
    "car=='audi'"
   ]
  },
  {
   "cell_type": "code",
   "execution_count": 8,
   "id": "0aa449aa",
   "metadata": {},
   "outputs": [
    {
     "data": {
      "text/plain": [
       "'Audi'"
      ]
     },
     "execution_count": 8,
     "metadata": {},
     "output_type": "execute_result"
    }
   ],
   "source": [
    "car='Audi'\n",
    "car.lower()=='audi'\n",
    "car"
   ]
  },
  {
   "cell_type": "markdown",
   "id": "06ee3396",
   "metadata": {},
   "source": [
    "5.2.3 检查 是否不相等\n",
    "判断两个值是否不等，可结合使用惊叹号和等号!="
   ]
  },
  {
   "cell_type": "code",
   "execution_count": 9,
   "id": "bbc4c7ee",
   "metadata": {},
   "outputs": [
    {
     "name": "stdout",
     "output_type": "stream",
     "text": [
      "Hold the anchovies!\n"
     ]
    }
   ],
   "source": [
    "requested_topping='mushrooms'\n",
    "if requested_topping!='anchovies':\n",
    "    print('Hold the anchovies!')"
   ]
  },
  {
   "cell_type": "markdown",
   "id": "5a79c5f9",
   "metadata": {},
   "source": [
    "5.2.4 数值比较"
   ]
  },
  {
   "cell_type": "code",
   "execution_count": 10,
   "id": "9de3d354",
   "metadata": {},
   "outputs": [
    {
     "data": {
      "text/plain": [
       "True"
      ]
     },
     "execution_count": 10,
     "metadata": {},
     "output_type": "execute_result"
    }
   ],
   "source": [
    "age=18\n",
    "age==18"
   ]
  },
  {
   "cell_type": "code",
   "execution_count": 11,
   "id": "536551ba",
   "metadata": {},
   "outputs": [
    {
     "name": "stdout",
     "output_type": "stream",
     "text": [
      "That is not the correct answer. Please try again!\n"
     ]
    }
   ],
   "source": [
    "answer=17\n",
    "if answer!=42:\n",
    "    print('That is not the correct answer. Please try again!')"
   ]
  },
  {
   "cell_type": "code",
   "execution_count": 12,
   "id": "60227331",
   "metadata": {},
   "outputs": [
    {
     "data": {
      "text/plain": [
       "True"
      ]
     },
     "execution_count": 12,
     "metadata": {},
     "output_type": "execute_result"
    }
   ],
   "source": [
    "age=19\n",
    "age<=21"
   ]
  },
  {
   "cell_type": "code",
   "execution_count": 13,
   "id": "156adb18",
   "metadata": {},
   "outputs": [
    {
     "data": {
      "text/plain": [
       "False"
      ]
     },
     "execution_count": 13,
     "metadata": {},
     "output_type": "execute_result"
    }
   ],
   "source": [
    "aage=19\n",
    "age>=21"
   ]
  },
  {
   "cell_type": "markdown",
   "id": "a20de24b",
   "metadata": {},
   "source": [
    "5.2.5 检查多个条件\n",
    "1.使用and检查多个条件"
   ]
  },
  {
   "cell_type": "code",
   "execution_count": 4,
   "id": "48a8f505",
   "metadata": {},
   "outputs": [
    {
     "data": {
      "text/plain": "False"
     },
     "execution_count": 4,
     "metadata": {},
     "output_type": "execute_result"
    }
   ],
   "source": [
    "age_0=22\n",
    "age_1=18\n",
    "\n",
    "age_0>=21 and age_1>=21"
   ]
  },
  {
   "cell_type": "code",
   "execution_count": 5,
   "id": "c32d7132",
   "metadata": {},
   "outputs": [
    {
     "data": {
      "text/plain": "True"
     },
     "execution_count": 5,
     "metadata": {},
     "output_type": "execute_result"
    }
   ],
   "source": [
    "age_0=22\n",
    "age_1=18\n",
    "age_1=22\n",
    "\n",
    "age_0>=21 and age_1>=21"
   ]
  },
  {
   "cell_type": "code",
   "execution_count": 6,
   "id": "2a79eedc",
   "metadata": {},
   "outputs": [
    {
     "data": {
      "text/plain": "True"
     },
     "execution_count": 6,
     "metadata": {},
     "output_type": "execute_result"
    }
   ],
   "source": [
    "age_0=22\n",
    "age_1=18\n",
    "age_1=22\n",
    "\n",
    "(age_0>=21)and (age_1>=21)\n",
    "#条件测试用括号括起来一样"
   ]
  },
  {
   "cell_type": "markdown",
   "id": "34787020",
   "metadata": {},
   "source": [
    "2.使用or检查多个条件"
   ]
  },
  {
   "cell_type": "code",
   "execution_count": 17,
   "id": "fd17c1c7",
   "metadata": {},
   "outputs": [
    {
     "data": {
      "text/plain": [
       "True"
      ]
     },
     "execution_count": 17,
     "metadata": {},
     "output_type": "execute_result"
    }
   ],
   "source": [
    "age_0=22\n",
    "age_1=18\n",
    "\n",
    "age_0>=21or age_1>=21"
   ]
  },
  {
   "cell_type": "code",
   "execution_count": 19,
   "id": "103e7dd5",
   "metadata": {},
   "outputs": [
    {
     "data": {
      "text/plain": [
       "False"
      ]
     },
     "execution_count": 19,
     "metadata": {},
     "output_type": "execute_result"
    }
   ],
   "source": [
    "age_0=22\n",
    "age_1=18\n",
    "age_0=18\n",
    "\n",
    "age_0>=21and age_1>=21"
   ]
  },
  {
   "cell_type": "markdown",
   "id": "d95cbf2e",
   "metadata": {},
   "source": [
    "5.2.6 检查特定值是否包含在列表中"
   ]
  },
  {
   "cell_type": "code",
   "execution_count": 20,
   "id": "0faf2627",
   "metadata": {},
   "outputs": [
    {
     "data": {
      "text/plain": [
       "True"
      ]
     },
     "execution_count": 20,
     "metadata": {},
     "output_type": "execute_result"
    }
   ],
   "source": [
    "requested_toppings=['mushrooms','onions','pineapple']\n",
    "'mushrooms' in requested_toppings"
   ]
  },
  {
   "cell_type": "code",
   "execution_count": 21,
   "id": "4e0e4e54",
   "metadata": {},
   "outputs": [
    {
     "data": {
      "text/plain": [
       "False"
      ]
     },
     "execution_count": 21,
     "metadata": {},
     "output_type": "execute_result"
    }
   ],
   "source": [
    "requested_toppings=['mushrooms','onions','pineapple']\n",
    "'pepperoni' in requested_toppings"
   ]
  },
  {
   "cell_type": "markdown",
   "source": [
    "5.2.7 检查特定值是否不包含在列表中"
   ],
   "metadata": {
    "collapsed": false
   }
  },
  {
   "cell_type": "code",
   "execution_count": 22,
   "id": "59a39ee1",
   "metadata": {},
   "outputs": [
    {
     "data": {
      "text/plain": [
       "True"
      ]
     },
     "execution_count": 22,
     "metadata": {},
     "output_type": "execute_result"
    }
   ],
   "source": [
    "banned_users=['andrew','carolina','david']\n",
    "'marie'not in banned_users"
   ]
  },
  {
   "cell_type": "code",
   "execution_count": 29,
   "id": "b8750148",
   "metadata": {},
   "outputs": [
    {
     "name": "stdout",
     "output_type": "stream",
     "text": [
      "Marie,you can post a response if you wish.\n"
     ]
    }
   ],
   "source": [
    "banned_users=['andrew','carolina','david']\n",
    "user='marie'\n",
    "if user not in banned_users:\n",
    "    print(f\"{user.title()}, you can post a response if you wish.\")"
   ]
  },
  {
   "cell_type": "markdown",
   "id": "daa65c03",
   "metadata": {},
   "source": [
    "5.2.8 布尔表达式"
   ]
  },
  {
   "cell_type": "code",
   "execution_count": 17,
   "id": "d36b6858",
   "metadata": {},
   "outputs": [
    {
     "data": {
      "text/plain": "False"
     },
     "execution_count": 17,
     "metadata": {},
     "output_type": "execute_result"
    }
   ],
   "source": [
    "game_active=True\n",
    "can_edit=False"
   ]
  },
  {
   "cell_type": "markdown",
   "id": "63009214",
   "metadata": {},
   "source": [
    "5.3 if语句\n",
    "5.3.1 简单的if语句"
   ]
  },
  {
   "cell_type": "code",
   "execution_count": null,
   "id": "f8948c48",
   "metadata": {},
   "outputs": [],
   "source": [
    "if conditional_test:\n",
    "    do something\n",
    "#如果条件检测结果为True，执行if语句后面缩进的代码\n",
    "#如果条件检测结果为False，忽略if语句后面缩进的代码"
   ]
  },
  {
   "cell_type": "markdown",
   "id": "2215c1fb",
   "metadata": {},
   "source": [
    "如果年龄大于等于18，打印：\n",
    "You are old enough to vote!"
   ]
  },
  {
   "cell_type": "code",
   "execution_count": 32,
   "id": "39cc714d",
   "metadata": {},
   "outputs": [
    {
     "name": "stdout",
     "output_type": "stream",
     "text": [
      "You are old enough to vote!\n"
     ]
    }
   ],
   "source": [
    "age=19\n",
    "if age>=18:\n",
    "    print('You are old enough to vote!')"
   ]
  },
  {
   "cell_type": "markdown",
   "id": "6781dba6",
   "metadata": {},
   "source": [
    "如果年龄大于等于18，打印：\n",
    "You are old enough to vote!\n",
    "Have you registered to vote yet?"
   ]
  },
  {
   "cell_type": "code",
   "execution_count": 33,
   "id": "bacf7eef",
   "metadata": {},
   "outputs": [
    {
     "name": "stdout",
     "output_type": "stream",
     "text": [
      "You are old enough to vote!\n",
      "Have you registered to vote yet?\n"
     ]
    }
   ],
   "source": [
    "age=19\n",
    "if age>=18:\n",
    "    print('You are old enough to vote!')\n",
    "    print('Have you registered to vote yet?')"
   ]
  },
  {
   "cell_type": "markdown",
   "id": "14a903d0",
   "metadata": {},
   "source": [
    "5.3.2 if-else 语句\n",
    "\n",
    "如果年龄大于等于18，打印：\n",
    "You are old enough to vote!\n",
    "Have you registered to vote yet?\n",
    "\n",
    "如果年龄小于18，打印：\n",
    "Sorry, you are too young to vote.\n",
    "Please register to vote as soon as you turn 18!"
   ]
  },
  {
   "cell_type": "markdown",
   "id": "bb82e942",
   "metadata": {},
   "source": [
    "if 条件测试结果为True:\n",
    "  执行xxx操作\n",
    "else:\n",
    " 执行xxxx操作（如果上面if测试没通过的话）"
   ]
  },
  {
   "cell_type": "code",
   "execution_count": 34,
   "id": "39a2e77a",
   "metadata": {},
   "outputs": [
    {
     "name": "stdout",
     "output_type": "stream",
     "text": [
      "Sorry, you are too young to vote.\n",
      "Please register to vote as soon as you turn 18!\n"
     ]
    }
   ],
   "source": [
    "age=17\n",
    "if age>=18:\n",
    "    print('You are old enough to vote!')\n",
    "    print('Have you registered to vote yet?')\n",
    "else:\n",
    "    print('Sorry, you are too young to vote.')\n",
    "    print('Please register to vote as soon as you turn 18!')"
   ]
  },
  {
   "cell_type": "markdown",
   "id": "7a9aec50",
   "metadata": {},
   "source": [
    "5.3.3 if-elif-else结构\n",
    "if 条件测试结果为True:\n",
    "  执行xxx操作\n",
    "elif 条件:\n",
    " 执行xxxxx操作\n",
    "else:\n",
    " 执行xxxx操作\n",
    " \n",
    "根据年龄段收费的游乐场：\n",
    "4岁以下免费；\n",
    "4～18岁收费25美元；\n",
    "18岁及以上收费40美元。"
   ]
  },
  {
   "cell_type": "code",
   "execution_count": 37,
   "id": "2bc2ffca",
   "metadata": {},
   "outputs": [
    {
     "name": "stdout",
     "output_type": "stream",
     "text": [
      "Your admission cost is $25.\n"
     ]
    }
   ],
   "source": [
    "age=12\n",
    "\n",
    "if age<4:\n",
    "    print('Your admission cost is $0.')\n",
    "elif age<18:\n",
    "    print('Your admission cost is $25.')\n",
    "else:\n",
    "    print('Your admission cost is $40.')"
   ]
  },
  {
   "cell_type": "code",
   "execution_count": 39,
   "id": "b94a915a",
   "metadata": {},
   "outputs": [
    {
     "name": "stdout",
     "output_type": "stream",
     "text": [
      "Your admission cost is $25.\n"
     ]
    }
   ],
   "source": [
    "age=12\n",
    "\n",
    "if age<4:\n",
    "    price=0\n",
    "elif age<18:\n",
    "    price=25\n",
    "else:\n",
    "    price=40\n",
    "print(f\"Your admission cost is ${price}.\")"
   ]
  },
  {
   "cell_type": "markdown",
   "id": "33812711",
   "metadata": {},
   "source": [
    "5.3.4 使用多个elif代码块\n",
    "根据年龄段收费的游乐场：\n",
    "4岁以下免费；\n",
    "4～18岁收费25美元；\n",
    "18岁及以上收费40美元；\n",
    "65岁及以上收费20美元。"
   ]
  },
  {
   "cell_type": "code",
   "execution_count": 1,
   "id": "a7488e72",
   "metadata": {},
   "outputs": [
    {
     "name": "stdout",
     "output_type": "stream",
     "text": [
      "Your admission cost is $25.\n"
     ]
    }
   ],
   "source": [
    "age=12\n",
    "\n",
    "if age<4:\n",
    "    price=0\n",
    "elif age<18:\n",
    "    price=25\n",
    "elif age<65:\n",
    "    price=40  \n",
    "else:\n",
    "    price=20\n",
    "print(f\"Your admission cost is ${price}.\")"
   ]
  },
  {
   "cell_type": "markdown",
   "id": "6a6cfa5c",
   "metadata": {},
   "source": [
    "5.3.5 省略else代码块"
   ]
  },
  {
   "cell_type": "code",
   "execution_count": 2,
   "id": "2d7d82d5",
   "metadata": {},
   "outputs": [
    {
     "name": "stdout",
     "output_type": "stream",
     "text": [
      "Your admission cost is $25.\n"
     ]
    }
   ],
   "source": [
    "age=12\n",
    "\n",
    "if age<4:\n",
    "    price=0\n",
    "elif age<18:\n",
    "    price=25\n",
    "elif age<65:\n",
    "    price=40  \n",
    "elif age>=65:\n",
    "    price=20\n",
    "print(f\"Your admission cost is ${price}.\")"
   ]
  },
  {
   "cell_type": "markdown",
   "id": "c6406cab",
   "metadata": {},
   "source": [
    "5.3.6 测试多个条件 只能用if写，没法用elif/else"
   ]
  },
  {
   "cell_type": "code",
   "execution_count": 1,
   "id": "d01586be",
   "metadata": {},
   "outputs": [
    {
     "name": "stdout",
     "output_type": "stream",
     "text": [
      "Adding extra cheese.\n",
      "\n",
      "Finished making your pizza!\n"
     ]
    }
   ],
   "source": [
    "requested_toppings=['mushrooms','extra cheese']\n",
    "\n",
    "if 'mushroom' in requested_toppings:\n",
    "    print('Adding mushrooms.')\n",
    "if 'pepperoni' in requested_toppings:\n",
    "    print('Adding pepperoni.')\n",
    "if 'extra cheese' in requested_toppings:\n",
    "    print('Adding extra cheese.')\n",
    "\n",
    "print('\\nFinished making your pizza!')"
   ]
  },
  {
   "cell_type": "markdown",
   "id": "7dc17d11",
   "metadata": {},
   "source": [
    "5.4.1 检查特殊元素\n",
    "配料:mushrooms, green peppers, extra cheese\n",
    "for 循环说明要陆续添加3种配料才能制作披萨\n",
    "Adding xx配料\n",
    "Adding xx配料\n",
    "Adding xx配料\n",
    "\n",
    "完成披萨制作！"
   ]
  },
  {
   "cell_type": "code",
   "execution_count": 3,
   "id": "58f71944",
   "metadata": {},
   "outputs": [
    {
     "name": "stdout",
     "output_type": "stream",
     "text": [
      "Adding mushrooms.\n",
      "Adding green peppers.\n",
      "Adding extra cheese.\n",
      "\n",
      "Finished making your pizza!\n"
     ]
    }
   ],
   "source": [
    "requested_toppings=['mushrooms','green peppers','extra cheese']\n",
    "for requested_topping in requested_toppings:\n",
    "    print(f'Adding {requested_topping}.')\n",
    "print('\\nFinished making your pizza!')"
   ]
  },
  {
   "cell_type": "markdown",
   "id": "d5d17f7a",
   "metadata": {},
   "source": [
    "青椒用完了，告诉用户不能添加青椒的原因"
   ]
  },
  {
   "cell_type": "code",
   "execution_count": 4,
   "id": "86763fbe",
   "metadata": {},
   "outputs": [
    {
     "name": "stdout",
     "output_type": "stream",
     "text": [
      "Adding mushrooms.\n",
      "Sorry, we are out of green peppers right now.\n",
      "Adding extra cheese.\n",
      "\n",
      "Finished making your pizza!\n"
     ]
    }
   ],
   "source": [
    "requested_toppings=['mushrooms','green peppers','extra cheese']\n",
    "for requested_topping in requested_toppings:\n",
    "    if requested_topping == 'green peppers':\n",
    "        print('Sorry, we are out of green peppers right now.')\n",
    "    else: print(f'Adding {requested_topping}.')\n",
    "print('\\nFinished making your pizza!')"
   ]
  },
  {
   "cell_type": "markdown",
   "id": "266ce161",
   "metadata": {},
   "source": [
    "5.4.2 确定列表是不是空的"
   ]
  },
  {
   "cell_type": "markdown",
   "id": "46f9efa4",
   "metadata": {},
   "source": [
    "在制作比萨前检查顾客点的配料列表是否为空\n",
    "如果列表为空，就向顾客确认是否要点原味披萨；\n",
    "如果列表不为空，就像前面的示例那样制作披萨；"
   ]
  },
  {
   "cell_type": "code",
   "execution_count": 19,
   "id": "193c375c",
   "metadata": {},
   "outputs": [
    {
     "name": "stdout",
     "output_type": "stream",
     "text": [
      "Are you sure you want a plain pizza?\n"
     ]
    }
   ],
   "source": [
    "requested_toppings=[]\n",
    "\n",
    "if requested_toppings:\n",
    "    for requested_topping in requested_toppings:\n",
    "        print(f'Adding {requested_topping}.')\n",
    "    print('\\nFinished making your pizza!')\n",
    "else:\n",
    "    print('Are you sure you want a plain pizza?')\n",
    "\n",
    "\n",
    "#if测试，列表为空返回false（执行else），不为空返回true\n"
   ]
  },
  {
   "cell_type": "markdown",
   "id": "eda52db3",
   "metadata": {},
   "source": [
    "5.4.3 使用多个列表"
   ]
  },
  {
   "cell_type": "code",
   "execution_count": 20,
   "id": "2da541da",
   "metadata": {},
   "outputs": [
    {
     "name": "stdout",
     "output_type": "stream",
     "text": [
      "Adding mushrooms.\n",
      "Sorry, we don't have french fries.\n",
      "Adding extra cheese.\n",
      "\n",
      "Finished making your pizza!\n"
     ]
    }
   ],
   "source": [
    "available_toppings=['mushrooms','olives','green peppers',\n",
    "                    'pepperoni','pineapple','extra cheese']\n",
    "requested_toppings=['mushrooms','french fries','extra cheese'] \n",
    "for requested_topping in requested_toppings:\n",
    "    if requested_topping in available_toppings:\n",
    "        print(f'Adding {requested_topping}.')\n",
    "    else: print(f\"Sorry, we don't have {requested_topping}.\")\n",
    "print('\\nFinished making your pizza!')        "
   ]
  },
  {
   "cell_type": "markdown",
   "id": "c454ac6e",
   "metadata": {},
   "source": [
    "5.5 设置if语句的格式"
   ]
  },
  {
   "cell_type": "code",
   "execution_count": 21,
   "id": "b300268a",
   "metadata": {},
   "outputs": [
    {
     "ename": "IndentationError",
     "evalue": "expected an indented block (371473609.py, line 2)",
     "output_type": "error",
     "traceback": [
      "\u001B[0;36m  Cell \u001B[0;32mIn[21], line 2\u001B[0;36m\u001B[0m\n\u001B[0;31m    # <两边留空格\u001B[0m\n\u001B[0m            ^\u001B[0m\n\u001B[0;31mIndentationError\u001B[0m\u001B[0;31m:\u001B[0m expected an indented block\n"
     ]
    }
   ],
   "source": [
    "if age < 4:\n",
    "# <两边留空格"
   ]
  }
 ],
 "metadata": {
  "kernelspec": {
   "display_name": "Python 3.9.12 ('base')",
   "language": "python",
   "name": "python3"
  },
  "language_info": {
   "codemirror_mode": {
    "name": "ipython",
    "version": 3
   },
   "file_extension": ".py",
   "mimetype": "text/x-python",
   "name": "python",
   "nbconvert_exporter": "python",
   "pygments_lexer": "ipython3",
   "version": "3.9.12"
  },
  "vscode": {
   "interpreter": {
    "hash": "95b27839165d846a77f10661a4557c368bce0e7bdbc34b6fd748b2904850524d"
   }
  }
 },
 "nbformat": 4,
 "nbformat_minor": 5
}
