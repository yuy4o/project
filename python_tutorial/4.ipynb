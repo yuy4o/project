{
 "cells": [
  {
   "cell_type": "markdown",
   "id": "030c689b",
   "metadata": {},
   "source": [
    "4.1 遍历整个列表\n",
    "任务：把魔术师名单中每个名字打印出来\n",
    "名单=['alice','david','carolina']"
   ]
  },
  {
   "cell_type": "code",
   "execution_count": 1,
   "id": "222b646f",
   "metadata": {},
   "outputs": [
    {
     "name": "stdout",
     "output_type": "stream",
     "text": [
      "alice\n",
      "david\n",
      "carolina\n"
     ]
    }
   ],
   "source": [
    "magicians=['alice','david','carolina']\n",
    "for magician in magicians:\n",
    "    print(magician)"
   ]
  },
  {
   "cell_type": "markdown",
   "id": "dc3a17fa",
   "metadata": {},
   "source": [
    "4.1.1 深入研究循环"
   ]
  },
  {
   "cell_type": "code",
   "execution_count": 2,
   "id": "48bdaf09",
   "metadata": {},
   "outputs": [
    {
     "name": "stdout",
     "output_type": "stream",
     "text": [
      "alice\n",
      "david\n",
      "carolina\n"
     ]
    }
   ],
   "source": [
    "magicians=['alice','david','carolina']\n",
    "for magician in magicians:\n",
    "    print(magician)"
   ]
  },
  {
   "cell_type": "markdown",
   "id": "e40fd97d",
   "metadata": {},
   "source": [
    "4.1.2 在for循环中执行更多操作\n",
    "任务：打印出\n",
    "Alice, that was a great trick!\n",
    "David, that was a great trick!\n",
    "Carolina, that was a great trick!\n",
    "\n",
    "for循环+f字符串+title()"
   ]
  },
  {
   "cell_type": "code",
   "execution_count": 3,
   "id": "3e7c8306",
   "metadata": {},
   "outputs": [
    {
     "name": "stdout",
     "output_type": "stream",
     "text": [
      "Alice,that was a great trick!\n",
      "David,that was a great trick!\n",
      "Carolina,that was a great trick!\n"
     ]
    }
   ],
   "source": [
    "magicians=['alice','david','carolina']\n",
    "for magician in magicians:\n",
    "    print(f'{magician.title()},that was a great trick!')"
   ]
  },
  {
   "cell_type": "markdown",
   "id": "77e28a1e",
   "metadata": {},
   "source": [
    "任务：打印出\n",
    "Alice, that was a great trick!\n",
    "I can't wait to see your next trick, Alice.\n",
    "\n",
    "David, that was a great trick!\n",
    "I can't wait to see your next trick, David.\n",
    "\n",
    "Carolina, that was a great trick!\n",
    "I can't wait to see your next trick, Carolina.  \\n换行"
   ]
  },
  {
   "cell_type": "code",
   "execution_count": 4,
   "id": "92834e44",
   "metadata": {},
   "outputs": [
    {
     "name": "stdout",
     "output_type": "stream",
     "text": [
      "Alice,that was a great trick!\n",
      "I can't wait to see your next trick, Alice.\n",
      "\n",
      "David,that was a great trick!\n",
      "I can't wait to see your next trick, David.\n",
      "\n",
      "Carolina,that was a great trick!\n",
      "I can't wait to see your next trick, Carolina.\n",
      "\n"
     ]
    }
   ],
   "source": [
    "magicians=['alice','david','carolina']\n",
    "for magician in magicians:\n",
    "    print(f'{magician.title()},that was a great trick!')\n",
    "    print(f\"I can't wait to see your next trick, {magician.title()}.\\n\")"
   ]
  },
  {
   "cell_type": "markdown",
   "id": "343a3fd1",
   "metadata": {},
   "source": [
    "4.1.3 在for循环结束后执行一些操作"
   ]
  },
  {
   "cell_type": "markdown",
   "id": "4985ed9a",
   "metadata": {},
   "source": [
    "任务：打印出\n",
    "Alice, that was a great trick!\n",
    "I can't wait to see your next trick, Alice.\n",
    "\n",
    "David, that was a great trick!\n",
    "I can't wait to see your next trick, David.\n",
    "\n",
    "Carolina, that was a great trick!\n",
    "I can't wait to see your next trick, Carolina. \n",
    "\n",
    "Thank you, everyone. That was a great magic show!"
   ]
  },
  {
   "cell_type": "code",
   "execution_count": 5,
   "id": "f4a10d6d",
   "metadata": {},
   "outputs": [
    {
     "name": "stdout",
     "output_type": "stream",
     "text": [
      "Alice,that was a great trick!\n",
      "I can't wait to see your next trick, Alice.\n",
      "\n",
      "David,that was a great trick!\n",
      "I can't wait to see your next trick, David.\n",
      "\n",
      "Carolina,that was a great trick!\n",
      "I can't wait to see your next trick, Carolina.\n",
      "\n",
      "Thank you, everyone. That was a great magic show!\n"
     ]
    }
   ],
   "source": [
    "magicians=['alice','david','carolina']\n",
    "for magician in magicians:\n",
    "    print(f'{magician.title()},that was a great trick!')\n",
    "    print(f\"I can't wait to see your next trick, {magician.title()}.\\n\")\n",
    "print(\"Thank you, everyone. That was a great magic show!\")"
   ]
  },
  {
   "cell_type": "markdown",
   "id": "9c613cff",
   "metadata": {},
   "source": [
    "4.2避免缩进错误\n",
    "4.2.1 忘记缩进"
   ]
  },
  {
   "cell_type": "code",
   "execution_count": 9,
   "id": "1866801f",
   "metadata": {},
   "outputs": [
    {
     "ename": "IndentationError",
     "evalue": "expected an indented block (812596836.py, line 3)",
     "output_type": "error",
     "traceback": [
      "\u001B[1;36m  Input \u001B[1;32mIn [9]\u001B[1;36m\u001B[0m\n\u001B[1;33m    print(magician)\u001B[0m\n\u001B[1;37m    ^\u001B[0m\n\u001B[1;31mIndentationError\u001B[0m\u001B[1;31m:\u001B[0m expected an indented block\n"
     ]
    }
   ],
   "source": [
    "magicians=['alice','david','carolina']\n",
    "for magician in magicians:\n",
    "print(magician)"
   ]
  },
  {
   "cell_type": "markdown",
   "id": "49791a8b",
   "metadata": {},
   "source": [
    "4.2.2 忘记缩进额外的代码行"
   ]
  },
  {
   "cell_type": "code",
   "execution_count": 11,
   "id": "c1e472e8",
   "metadata": {},
   "outputs": [
    {
     "name": "stdout",
     "output_type": "stream",
     "text": [
      "Alice,that was a great trick!\n",
      "David,that was a great trick!\n",
      "Carolina,that was a great trick!\n",
      "I can't wait to see your next trick, Carolina.\n",
      "\n"
     ]
    }
   ],
   "source": [
    "magicians=['alice','david','carolina']\n",
    "for magician in magicians:\n",
    "    print(f'{magician.title()},that was a great trick!')\n",
    "print(f\"I can't wait to see your next trick, {magician.title()}.\\n\")"
   ]
  },
  {
   "cell_type": "markdown",
   "id": "d62f6fd3",
   "metadata": {},
   "source": [
    "4.2.3 不必要的缩进"
   ]
  },
  {
   "cell_type": "code",
   "execution_count": 13,
   "id": "4918e2bc",
   "metadata": {},
   "outputs": [
    {
     "ename": "IndentationError",
     "evalue": "unexpected indent (3556928813.py, line 2)",
     "output_type": "error",
     "traceback": [
      "\u001B[1;36m  Input \u001B[1;32mIn [13]\u001B[1;36m\u001B[0m\n\u001B[1;33m    print(message)\u001B[0m\n\u001B[1;37m    ^\u001B[0m\n\u001B[1;31mIndentationError\u001B[0m\u001B[1;31m:\u001B[0m unexpected indent\n"
     ]
    }
   ],
   "source": [
    "message='Hello Paython world!'\n",
    "  print(message)"
   ]
  },
  {
   "cell_type": "markdown",
   "id": "3f8fcffd",
   "metadata": {},
   "source": [
    "4.2.4 循环后不必要的缩进"
   ]
  },
  {
   "cell_type": "code",
   "execution_count": 6,
   "id": "87d19325",
   "metadata": {},
   "outputs": [
    {
     "name": "stdout",
     "output_type": "stream",
     "text": [
      "Alice,that was a great trick!\n",
      "I can't wait to see your next trick, Alice.\n",
      "\n",
      "David,that was a great trick!\n",
      "I can't wait to see your next trick, David.\n",
      "\n",
      "Carolina,that was a great trick!\n",
      "I can't wait to see your next trick, Carolina.\n",
      "\n",
      "Thank you, everyone. That was a great magic show!\n"
     ]
    }
   ],
   "source": [
    "magicians=['alice','david','carolina']\n",
    "for magician in magicians:\n",
    "    print(f'{magician.title()},that was a great trick!')\n",
    "    print(f\"I can't wait to see your next trick, {magician.title()}.\\n\")\n",
    "print(\"Thank you, everyone. That was a great magic show!\")"
   ]
  },
  {
   "cell_type": "markdown",
   "id": "74e0ab7d",
   "metadata": {},
   "source": [
    "4.2.5 遗漏了冒号"
   ]
  },
  {
   "cell_type": "code",
   "execution_count": 14,
   "id": "31b47da9",
   "metadata": {},
   "outputs": [
    {
     "ename": "SyntaxError",
     "evalue": "invalid syntax (2548459784.py, line 2)",
     "output_type": "error",
     "traceback": [
      "\u001B[1;36m  Input \u001B[1;32mIn [14]\u001B[1;36m\u001B[0m\n\u001B[1;33m    for magician in magicians\u001B[0m\n\u001B[1;37m                             ^\u001B[0m\n\u001B[1;31mSyntaxError\u001B[0m\u001B[1;31m:\u001B[0m invalid syntax\n"
     ]
    }
   ],
   "source": [
    "magicians=['alice','david','carolina']\n",
    "for magician in magicians\n",
    "    print(magician)"
   ]
  },
  {
   "cell_type": "markdown",
   "id": "1af67cd2",
   "metadata": {},
   "source": [
    "4.3 创建数值列表\n",
    "4.3.1 range() 和 list()\n",
    "range()\n",
    "list()\n",
    "\n",
    "range(x)=range(0,x)\n",
    "range(x,y)\n",
    "range(x,y,z)"
   ]
  },
  {
   "cell_type": "code",
   "execution_count": 15,
   "id": "615b9f14",
   "metadata": {},
   "outputs": [
    {
     "data": {
      "text/plain": [
       "[0, 1, 2, 3, 4, 5]"
      ]
     },
     "execution_count": 15,
     "metadata": {},
     "output_type": "execute_result"
    }
   ],
   "source": [
    "list(range(6))"
   ]
  },
  {
   "cell_type": "code",
   "execution_count": 7,
   "id": "4cf65553",
   "metadata": {},
   "outputs": [
    {
     "data": {
      "text/plain": "[0, 1, 2, 3, 4, 5]"
     },
     "execution_count": 7,
     "metadata": {},
     "output_type": "execute_result"
    }
   ],
   "source": [
    "list(range(0,6))"
   ]
  },
  {
   "cell_type": "code",
   "execution_count": 19,
   "id": "5fa391e4",
   "metadata": {},
   "outputs": [
    {
     "data": {
      "text/plain": [
       "[1, 2, 3, 4, 5]"
      ]
     },
     "execution_count": 19,
     "metadata": {},
     "output_type": "execute_result"
    }
   ],
   "source": [
    "list(range(1,6))"
   ]
  },
  {
   "cell_type": "code",
   "execution_count": 8,
   "id": "f5b0476d",
   "metadata": {},
   "outputs": [
    {
     "data": {
      "text/plain": "[0, 2, 4]"
     },
     "execution_count": 8,
     "metadata": {},
     "output_type": "execute_result"
    }
   ],
   "source": [
    "list(range(0,6,2))"
   ]
  },
  {
   "cell_type": "code",
   "execution_count": 21,
   "id": "8b6d2dbe",
   "metadata": {},
   "outputs": [
    {
     "data": {
      "text/plain": [
       "[0, 1, 2, 3, 4, 5]"
      ]
     },
     "execution_count": 21,
     "metadata": {},
     "output_type": "execute_result"
    }
   ],
   "source": [
    "list(range(0,6,1))"
   ]
  },
  {
   "cell_type": "markdown",
   "id": "e22d3cb6",
   "metadata": {},
   "source": [
    "4.3.2 使用range()创建数字列表"
   ]
  },
  {
   "cell_type": "code",
   "execution_count": 22,
   "id": "a3415e02",
   "metadata": {},
   "outputs": [
    {
     "data": {
      "text/plain": [
       "[1, 2, 3, 4, 5]"
      ]
     },
     "execution_count": 22,
     "metadata": {},
     "output_type": "execute_result"
    }
   ],
   "source": [
    "list(range(1,6))"
   ]
  },
  {
   "cell_type": "code",
   "execution_count": 23,
   "id": "b48409a1",
   "metadata": {
    "scrolled": true
   },
   "outputs": [
    {
     "name": "stdout",
     "output_type": "stream",
     "text": [
      "[1, 2, 3, 4, 5]\n"
     ]
    }
   ],
   "source": [
    "numbers = list(range(1,6))\n",
    "print(numbers)"
   ]
  },
  {
   "cell_type": "markdown",
   "id": "ae89553a",
   "metadata": {},
   "source": [
    "任务：打印1-10偶数，步长为2"
   ]
  },
  {
   "cell_type": "code",
   "execution_count": 28,
   "id": "5825b4fc",
   "metadata": {},
   "outputs": [
    {
     "name": "stdout",
     "output_type": "stream",
     "text": [
      "[2, 4, 6, 8, 10]\n"
     ]
    }
   ],
   "source": [
    "even_numbers = list(range(2,11,2))\n",
    "print(even_numbers)"
   ]
  },
  {
   "cell_type": "markdown",
   "id": "bbda1bef",
   "metadata": {},
   "source": [
    "任务：打印1-10奇数，步长为2"
   ]
  },
  {
   "cell_type": "code",
   "execution_count": 29,
   "id": "0e544a68",
   "metadata": {},
   "outputs": [
    {
     "name": "stdout",
     "output_type": "stream",
     "text": [
      "[1, 3, 5, 7, 9]\n"
     ]
    }
   ],
   "source": [
    "odd_numbers = list(range(1,11,2))\n",
    "print(odd_numbers)"
   ]
  },
  {
   "cell_type": "markdown",
   "id": "1879bca0",
   "metadata": {},
   "source": [
    "任务：创建1个列表，包含1-10的平方      range(1,11)属于可迭代对象"
   ]
  },
  {
   "cell_type": "code",
   "execution_count": 30,
   "id": "8fe015e7",
   "metadata": {},
   "outputs": [
    {
     "name": "stdout",
     "output_type": "stream",
     "text": [
      "[1, 4, 9, 16, 25, 36, 49, 64, 81, 100]\n"
     ]
    }
   ],
   "source": [
    "squares=[]\n",
    "\n",
    "for value in range(1,11):\n",
    "    square= value**2\n",
    "    squares.append(square)\n",
    "print(squares)"
   ]
  },
  {
   "cell_type": "code",
   "execution_count": 31,
   "id": "1c86f527",
   "metadata": {},
   "outputs": [
    {
     "name": "stdout",
     "output_type": "stream",
     "text": [
      "[1, 4, 9, 16, 25, 36, 49, 64, 81, 100]\n"
     ]
    }
   ],
   "source": [
    "squares=[]\n",
    "\n",
    "for value in range(1,11):\n",
    "    squares.append(value**2)\n",
    "print(squares)"
   ]
  },
  {
   "cell_type": "markdown",
   "id": "780309a9",
   "metadata": {},
   "source": [
    "4.3.3 对数字列表执行简单的统计计算\n",
    "找出数字列表的最大值、最小值、总和"
   ]
  },
  {
   "cell_type": "code",
   "execution_count": 2,
   "id": "713d61d2",
   "metadata": {},
   "outputs": [
    {
     "data": {
      "text/plain": [
       "9"
      ]
     },
     "execution_count": 2,
     "metadata": {},
     "output_type": "execute_result"
    }
   ],
   "source": [
    "digits=[1,2,3,4,5,6,7,8,9,0]\n",
    "max(digits)"
   ]
  },
  {
   "cell_type": "code",
   "execution_count": 4,
   "id": "e1f3b372",
   "metadata": {},
   "outputs": [
    {
     "data": {
      "text/plain": [
       "0"
      ]
     },
     "execution_count": 4,
     "metadata": {},
     "output_type": "execute_result"
    }
   ],
   "source": [
    "digits=[1,2,3,4,5,6,7,8,9,0]\n",
    "min(digits)"
   ]
  },
  {
   "cell_type": "code",
   "execution_count": 3,
   "id": "5b874cf9",
   "metadata": {},
   "outputs": [
    {
     "data": {
      "text/plain": [
       "45"
      ]
     },
     "execution_count": 3,
     "metadata": {},
     "output_type": "execute_result"
    }
   ],
   "source": [
    "digits=[1,2,3,4,5,6,7,8,9,0]\n",
    "sum(digits)"
   ]
  },
  {
   "cell_type": "markdown",
   "id": "28b9a05c",
   "metadata": {},
   "source": [
    "4.3.4 列表解析"
   ]
  },
  {
   "cell_type": "code",
   "execution_count": null,
   "id": "a2c31527",
   "metadata": {},
   "outputs": [],
   "source": [
    "squares=[]\n",
    "for value in range(1,11):\n",
    "    square= value**2\n",
    "    squares.append(square)\n",
    "print(squares)"
   ]
  },
  {
   "cell_type": "code",
   "execution_count": 6,
   "id": "6784a1db",
   "metadata": {},
   "outputs": [
    {
     "name": "stdout",
     "output_type": "stream",
     "text": [
      "[1, 4, 9, 16, 25, 36, 49, 64, 81, 100]\n"
     ]
    }
   ],
   "source": [
    "squares=[]\n",
    "\n",
    "for value in range(1,11):\n",
    "    squares.append(value**2)\n",
    "print(squares)"
   ]
  },
  {
   "cell_type": "markdown",
   "id": "d5ab5d39",
   "metadata": {},
   "source": [
    "把一个列表转换成另一个列表，右边的指定元素符合条件就能添加到左边的新列表\n",
    "表达式+for+变量+in+可迭代对象"
   ]
  },
  {
   "cell_type": "code",
   "execution_count": 5,
   "id": "d8ab26f3",
   "metadata": {},
   "outputs": [
    {
     "name": "stdout",
     "output_type": "stream",
     "text": [
      "[1, 4, 9, 16, 25, 36, 49, 64, 81, 100]\n"
     ]
    }
   ],
   "source": [
    "squares=[value**2 for value in range(1,11)]\n",
    "print(squares)"
   ]
  },
  {
   "cell_type": "markdown",
   "id": "c89945ab",
   "metadata": {},
   "source": [
    "4.4使用列表的一部分\n",
    "4.4.1切片"
   ]
  },
  {
   "cell_type": "code",
   "execution_count": 7,
   "id": "9c995991",
   "metadata": {},
   "outputs": [
    {
     "name": "stdout",
     "output_type": "stream",
     "text": [
      "charles\n"
     ]
    }
   ],
   "source": [
    "players=['charles','martina','michael','florence','eli']\n",
    "print(players[0])"
   ]
  },
  {
   "cell_type": "markdown",
   "id": "5867e2b0",
   "metadata": {},
   "source": [
    "打印列表的第1，2，3个元素  切片：冒号左边起始索引，右边终止索引，左闭右开"
   ]
  },
  {
   "cell_type": "code",
   "execution_count": 8,
   "id": "c3ca10ce",
   "metadata": {},
   "outputs": [
    {
     "name": "stdout",
     "output_type": "stream",
     "text": [
      "['charles', 'martina', 'michael']\n"
     ]
    }
   ],
   "source": [
    "players=['charles','martina','michael','florence','eli']\n",
    "print(players[0:3])"
   ]
  },
  {
   "cell_type": "markdown",
   "id": "e2b77770",
   "metadata": {},
   "source": [
    "打印列表的第2，3，4个元素"
   ]
  },
  {
   "cell_type": "code",
   "execution_count": 9,
   "id": "36f5b01c",
   "metadata": {},
   "outputs": [
    {
     "name": "stdout",
     "output_type": "stream",
     "text": [
      "['martina', 'michael', 'florence']\n"
     ]
    }
   ],
   "source": [
    "players=['charles','martina','michael','florence','eli']\n",
    "print(players[1:4])"
   ]
  },
  {
   "cell_type": "markdown",
   "id": "554e8ab1",
   "metadata": {},
   "source": [
    "打印列表的第1，2，3,4个元素"
   ]
  },
  {
   "cell_type": "code",
   "execution_count": 11,
   "id": "37791e62",
   "metadata": {},
   "outputs": [
    {
     "name": "stdout",
     "output_type": "stream",
     "text": [
      "['charles', 'martina', 'michael', 'florence']\n"
     ]
    }
   ],
   "source": [
    "players=['charles','martina','michael','florence','eli']\n",
    "print(players[0:4])"
   ]
  },
  {
   "cell_type": "code",
   "execution_count": 12,
   "id": "0555ab18",
   "metadata": {},
   "outputs": [
    {
     "name": "stdout",
     "output_type": "stream",
     "text": [
      "['charles', 'martina', 'michael', 'florence']\n"
     ]
    }
   ],
   "source": [
    "players=['charles','martina','michael','florence','eli']\n",
    "print(players[:4])"
   ]
  },
  {
   "cell_type": "markdown",
   "id": "9e26745c",
   "metadata": {},
   "source": [
    "打印列表的第3,4,5个元素"
   ]
  },
  {
   "cell_type": "code",
   "execution_count": 13,
   "id": "2c96d591",
   "metadata": {},
   "outputs": [
    {
     "name": "stdout",
     "output_type": "stream",
     "text": [
      "['michael', 'florence', 'eli']\n"
     ]
    }
   ],
   "source": [
    "players=['charles','martina','michael','florence','eli']\n",
    "print(players[2:5])"
   ]
  },
  {
   "cell_type": "code",
   "execution_count": 14,
   "id": "349dc7e0",
   "metadata": {},
   "outputs": [
    {
     "name": "stdout",
     "output_type": "stream",
     "text": [
      "['michael', 'florence', 'eli']\n"
     ]
    }
   ],
   "source": [
    "players=['charles','martina','michael','florence','eli']\n",
    "print(players[2:])"
   ]
  },
  {
   "cell_type": "markdown",
   "id": "1dc1533f",
   "metadata": {},
   "source": [
    "打印列表的最后3个元素（负数索引返回列表末尾相应距离的元素）"
   ]
  },
  {
   "cell_type": "code",
   "execution_count": 18,
   "id": "81bdc565",
   "metadata": {},
   "outputs": [
    {
     "name": "stdout",
     "output_type": "stream",
     "text": [
      "['michael', 'florence', 'eli']\n"
     ]
    }
   ],
   "source": [
    "players=['charles','martina','michael','florence','eli']\n",
    "print(players[-3:])"
   ]
  },
  {
   "cell_type": "markdown",
   "id": "eff9bc5b",
   "metadata": {},
   "source": [
    "让python每隔两个元素就提取一个"
   ]
  },
  {
   "cell_type": "code",
   "execution_count": 19,
   "id": "41774b79",
   "metadata": {},
   "outputs": [
    {
     "name": "stdout",
     "output_type": "stream",
     "text": [
      "['charles', 'michael']\n"
     ]
    }
   ],
   "source": [
    "players=['charles','martina','michael','florence','eli']\n",
    "print(players[0:4:2])"
   ]
  },
  {
   "cell_type": "markdown",
   "id": "339697eb",
   "metadata": {},
   "source": [
    "4.4.2遍历切片"
   ]
  },
  {
   "cell_type": "markdown",
   "id": "f85e8479",
   "metadata": {},
   "source": [
    "任务：打印以下结果\n",
    "Here are the first three players on my team:\n",
    "Charles\n",
    "Martina\n",
    "Michael"
   ]
  },
  {
   "cell_type": "code",
   "execution_count": 25,
   "id": "7bd2015d",
   "metadata": {},
   "outputs": [
    {
     "name": "stdout",
     "output_type": "stream",
     "text": [
      "Here are the first three players on my team:\n",
      "Charles\n",
      "Martina\n",
      "Michael\n"
     ]
    }
   ],
   "source": [
    "players=['charles','martina','michael','florence','eli']\n",
    "print(\"Here are the first three players on my team:\")\n",
    "for player in players[0:3]:\n",
    "    print(player.title())"
   ]
  },
  {
   "cell_type": "code",
   "execution_count": 26,
   "id": "7a9fc478",
   "metadata": {},
   "outputs": [
    {
     "name": "stdout",
     "output_type": "stream",
     "text": [
      "Here are the first three players on my team:\n",
      "Charles\n",
      "Martina\n",
      "Michael\n"
     ]
    }
   ],
   "source": [
    "players=['charles','martina','michael','florence','eli']\n",
    "print(\"Here are the first three players on my team:\")\n",
    "for player in players[:3]:\n",
    "    print(player.title())"
   ]
  },
  {
   "cell_type": "markdown",
   "id": "aad87e1a",
   "metadata": {},
   "source": [
    "4.4.3复制列表 相当于创建一个包含整个列表的切片"
   ]
  },
  {
   "cell_type": "code",
   "execution_count": 35,
   "id": "1adf6da2",
   "metadata": {},
   "outputs": [
    {
     "name": "stdout",
     "output_type": "stream",
     "text": [
      "My favorite foods are:\n",
      "['pizza', 'falafel', 'carrot cake', 'cannoli']\n",
      "\n",
      "My friend's favorite foods are:\n",
      "['pizza', 'falafel', 'carrot cake', 'ice cream']\n"
     ]
    }
   ],
   "source": [
    "my_foods=['pizza','falafel','carrot cake']\n",
    "friend_foods=my_foods[:]\n",
    "\n",
    "my_foods.append('cannoli')\n",
    "friend_foods.append('ice cream')\n",
    "\n",
    "print('My favorite foods are:')\n",
    "print(my_foods)\n",
    "\n",
    "print(\"\\nMy friend's favorite foods are:\")\n",
    "print(friend_foods)"
   ]
  },
  {
   "cell_type": "code",
   "execution_count": 13,
   "outputs": [
    {
     "name": "stdout",
     "output_type": "stream",
     "text": [
      "['q', 'p'] ['q', 'p']\n"
     ]
    }
   ],
   "source": [
    "a = ['q']\n",
    "b = a\n",
    "a.append('p')\n",
    "print(b, a)"
   ],
   "metadata": {
    "collapsed": false
   }
  },
  {
   "cell_type": "code",
   "execution_count": 15,
   "id": "a72a77bb",
   "metadata": {},
   "outputs": [
    {
     "name": "stdout",
     "output_type": "stream",
     "text": [
      "My favorite foods are:\n",
      "['pizza', 'falafel', 'carrot cake', 'cannoli', 'ice cream']\n",
      "\n",
      "My friend's favorite foods are:\n",
      "['pizza', 'falafel', 'carrot cake', 'cannoli', 'ice cream']\n"
     ]
    }
   ],
   "source": [
    "my_foods=['pizza','falafel','carrot cake']\n",
    "friend_foods=my_foods\n",
    "#这行不通 \n",
    "\n",
    "my_foods.append('cannoli')\n",
    "friend_foods.append('ice cream')\n",
    "\n",
    "print('My favorite foods are:')\n",
    "print(my_foods)\n",
    "\n",
    "print(\"\\nMy friend's favorite foods are:\")\n",
    "print(friend_foods)"
   ]
  },
  {
   "cell_type": "markdown",
   "id": "ad218ec4",
   "metadata": {},
   "source": [
    "4.5 元组\n",
    "4.5.1 定义元组为不可变的列表"
   ]
  },
  {
   "cell_type": "code",
   "execution_count": 16,
   "id": "59a58c59",
   "metadata": {},
   "outputs": [
    {
     "name": "stdout",
     "output_type": "stream",
     "text": [
      "200\n",
      "50\n"
     ]
    }
   ],
   "source": [
    "dimensions=(200,50)\n",
    "print(dimensions[0])\n",
    "print(dimensions[1])"
   ]
  },
  {
   "cell_type": "code",
   "execution_count": 20,
   "id": "3bb903b1",
   "metadata": {},
   "outputs": [
    {
     "name": "stdout",
     "output_type": "stream",
     "text": [
      "200\n"
     ]
    }
   ],
   "source": [
    "dimensions=(200,)\n",
    "print(dimensions[0])\n",
    "#元组中可以只有一个元素"
   ]
  },
  {
   "cell_type": "code",
   "execution_count": 22,
   "id": "84a6509e",
   "metadata": {},
   "outputs": [
    {
     "ename": "TypeError",
     "evalue": "'tuple' object does not support item assignment",
     "output_type": "error",
     "traceback": [
      "\u001B[0;31m---------------------------------------------------------------------------\u001B[0m",
      "\u001B[0;31mTypeError\u001B[0m                                 Traceback (most recent call last)",
      "Cell \u001B[0;32mIn[22], line 2\u001B[0m\n\u001B[1;32m      1\u001B[0m dimensions\u001B[38;5;241m=\u001B[39m(\u001B[38;5;241m200\u001B[39m,\u001B[38;5;241m50\u001B[39m)\n\u001B[0;32m----> 2\u001B[0m \u001B[43mdimensions\u001B[49m\u001B[43m[\u001B[49m\u001B[38;5;241;43m0\u001B[39;49m\u001B[43m]\u001B[49m\u001B[38;5;241m=\u001B[39m\u001B[38;5;241m250\u001B[39m\n\u001B[1;32m      3\u001B[0m \u001B[38;5;66;03m#元组不能以索引的方式赋值\u001B[39;00m\n",
      "\u001B[0;31mTypeError\u001B[0m: 'tuple' object does not support item assignment"
     ]
    }
   ],
   "source": [
    "dimensions=(200,50)\n",
    "dimensions[0]=250\n",
    "#元组不能以索引的方式赋值"
   ]
  },
  {
   "cell_type": "markdown",
   "id": "db070315",
   "metadata": {},
   "source": [
    "4.5.2 遍历元组中的所有值"
   ]
  },
  {
   "cell_type": "code",
   "execution_count": 23,
   "id": "80d0b8c6",
   "metadata": {},
   "outputs": [
    {
     "name": "stdout",
     "output_type": "stream",
     "text": [
      "200\n",
      "50\n"
     ]
    }
   ],
   "source": [
    "dimensions=(200,50)\n",
    "for dimension in dimensions:\n",
    "    print(dimension)"
   ]
  },
  {
   "cell_type": "markdown",
   "id": "3addc155",
   "metadata": {},
   "source": [
    "4.5.3 修改元组变量"
   ]
  },
  {
   "cell_type": "code",
   "execution_count": 25,
   "id": "0a5b2b5a",
   "metadata": {},
   "outputs": [
    {
     "name": "stdout",
     "output_type": "stream",
     "text": [
      "Original dimensions:\n",
      "200\n",
      "50\n",
      "\n",
      "Modified dimensions:\n",
      "400\n",
      "100\n"
     ]
    }
   ],
   "source": [
    "dimensions=(200,50)\n",
    "print('Original dimensions:')\n",
    "for dimension in dimensions:\n",
    "    print(dimension)\n",
    "    \n",
    "dimensions=(400,100)\n",
    "print('\\nModified dimensions:')\n",
    "for dimension in dimensions:\n",
    "    print(dimension)\n",
    "#元组虽然不能以索引的方式赋值，但可以以这种方式直接修改变量"
   ]
  }
 ],
 "metadata": {
  "kernelspec": {
   "display_name": "Python 3.9.12 ('base')",
   "language": "python",
   "name": "python3"
  },
  "language_info": {
   "codemirror_mode": {
    "name": "ipython",
    "version": 3
   },
   "file_extension": ".py",
   "mimetype": "text/x-python",
   "name": "python",
   "nbconvert_exporter": "python",
   "pygments_lexer": "ipython3",
   "version": "3.9.12"
  },
  "vscode": {
   "interpreter": {
    "hash": "95b27839165d846a77f10661a4557c368bce0e7bdbc34b6fd748b2904850524d"
   }
  }
 },
 "nbformat": 4,
 "nbformat_minor": 5
}
