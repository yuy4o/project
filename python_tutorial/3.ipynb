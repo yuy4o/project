{
 "cells": [
  {
   "cell_type": "code",
   "execution_count": 2,
   "id": "c08b9da9",
   "metadata": {},
   "outputs": [
    {
     "name": "stdout",
     "output_type": "stream",
     "text": [
      "['trek', 'cannondate', 'redline', 'specialized']\n"
     ]
    }
   ],
   "source": [
    "bicycles=['trek','cannondate','redline','specialized']\n",
    "print(bicycles)"
   ]
  },
  {
   "cell_type": "markdown",
   "source": [
    "3.1.1 访问列表元素"
   ],
   "metadata": {
    "collapsed": false
   }
  },
  {
   "cell_type": "code",
   "execution_count": 3,
   "id": "37d215c3",
   "metadata": {},
   "outputs": [
    {
     "name": "stdout",
     "output_type": "stream",
     "text": [
      "trek\n",
      "cannondate\n",
      "redline\n",
      "specialized\n"
     ]
    }
   ],
   "source": [
    "bicycles=['trek','cannondate','redline','specialized']\n",
    "print(bicycles[0])\n",
    "bicycles=['trek','cannondate','redline','specialized']\n",
    "print(bicycles[1])\n",
    "bicycles=['trek','cannondate','redline','specialized']\n",
    "print(bicycles[2])\n",
    "bicycles=['trek','cannondate','redline','specialized']\n",
    "print(bicycles[3])"
   ]
  },
  {
   "cell_type": "code",
   "execution_count": 4,
   "id": "1f4fa404",
   "metadata": {},
   "outputs": [
    {
     "name": "stdout",
     "output_type": "stream",
     "text": [
      "Specialized\n"
     ]
    }
   ],
   "source": [
    "bicycles=['trek','cannondate','redline','specialized']\n",
    "print(bicycles[3].title())"
   ]
  },
  {
   "cell_type": "markdown",
   "id": "bd89110b",
   "metadata": {},
   "source": [
    "索引-1，返回最后一个列表元素\n",
    "索引-2，返回倒数第二个列表元素"
   ]
  },
  {
   "cell_type": "code",
   "execution_count": 5,
   "id": "43f74adf",
   "metadata": {},
   "outputs": [
    {
     "name": "stdout",
     "output_type": "stream",
     "text": [
      "specialized\n",
      "redline\n",
      "cannondate\n",
      "trek\n"
     ]
    }
   ],
   "source": [
    "bicycles=['trek','cannondate','redline','specialized']\n",
    "print(bicycles[-1])\n",
    "bicycles=['trek','cannondate','redline','specialized']\n",
    "print(bicycles[-2])\n",
    "bicycles=['trek','cannondate','redline','specialized']\n",
    "print(bicycles[-3])\n",
    "bicycles=['trek','cannondate','redline','specialized']\n",
    "print(bicycles[-4])"
   ]
  },
  {
   "cell_type": "markdown",
   "source": [
    "3.1.3 使用列表中的值\n",
    "f字符串：将花括号内的变量替换为其值"
   ],
   "metadata": {
    "collapsed": false
   }
  },
  {
   "cell_type": "code",
   "execution_count": 1,
   "id": "c39751f2",
   "metadata": {},
   "outputs": [
    {
     "name": "stdout",
     "output_type": "stream",
     "text": [
      "ada lovelace\n"
     ]
    }
   ],
   "source": [
    "first_name=\"ada\"\n",
    "last_name=\"lovelace\"\n",
    "\n",
    "full_name=f\"{first_name} {last_name}\"\n",
    "print(full_name)"
   ]
  },
  {
   "cell_type": "markdown",
   "id": "c5809a27",
   "metadata": {},
   "source": [
    "任务：打印 My first bicycle was a Trek."
   ]
  },
  {
   "cell_type": "code",
   "execution_count": 5,
   "id": "20bee151",
   "metadata": {},
   "outputs": [
    {
     "name": "stdout",
     "output_type": "stream",
     "text": [
      "My first bicycle was a Trek.\n"
     ]
    }
   ],
   "source": [
    "bicycles=['trek','cannondate','redline','specialized']\n",
    "message=f\"My first bicycle was a {bicycles[-4].title()}.\"\n",
    "print(message)"
   ]
  },
  {
   "cell_type": "markdown",
   "id": "c5417207",
   "metadata": {},
   "source": [
    "3.2 修改、添加和删除元素"
   ]
  },
  {
   "cell_type": "markdown",
   "id": "5259e51a",
   "metadata": {},
   "source": [
    "3.2.1修改列表元素\n",
    "任务：将第一个元素的值改为“ducati”\n",
    "方法：指定列表名和要修改的元素的索引，再指定该元素的新值"
   ]
  },
  {
   "cell_type": "code",
   "execution_count": 11,
   "id": "49ede7d0",
   "metadata": {},
   "outputs": [
    {
     "name": "stdout",
     "output_type": "stream",
     "text": [
      "['honda', 'yamaha', 'suzuki']\n",
      "['ducati', 'yamaha', 'suzuki']\n"
     ]
    }
   ],
   "source": [
    "motorcycles=['honda','yamaha','suzuki']\n",
    "print(motorcycles)\n",
    "motorcycles[0]='ducati'\n",
    "print(motorcycles)"
   ]
  },
  {
   "cell_type": "markdown",
   "id": "d8b96473",
   "metadata": {},
   "source": [
    "3.2.2 列表中添加元素\n",
    "法一：列表末尾添加元素 append"
   ]
  },
  {
   "cell_type": "code",
   "execution_count": 12,
   "id": "52b8a079",
   "metadata": {},
   "outputs": [
    {
     "name": "stdout",
     "output_type": "stream",
     "text": [
      "['honda', 'yamaha', 'suzuki']\n",
      "['honda', 'yamaha', 'suzuki', 'ducati']\n"
     ]
    }
   ],
   "source": [
    "motorcycles=['honda','yamaha','suzuki']\n",
    "print(motorcycles)\n",
    "motorcycles.append('ducati')\n",
    "print(motorcycles)"
   ]
  },
  {
   "cell_type": "markdown",
   "id": "8b6c9dfa",
   "metadata": {},
   "source": [
    "motorcycles=[]   空的列表里添加"
   ]
  },
  {
   "cell_type": "code",
   "execution_count": 15,
   "id": "9bde0141",
   "metadata": {},
   "outputs": [
    {
     "name": "stdout",
     "output_type": "stream",
     "text": [
      "[]\n",
      "['honda', 'yamaha', 'suzuki', 'ducati']\n"
     ]
    }
   ],
   "source": [
    "motorcycles=[]\n",
    "print(motorcycles)\n",
    "motorcycles.append('honda')\n",
    "motorcycles.append('yamaha')\n",
    "motorcycles.append('suzuki')\n",
    "motorcycles.append('ducati')\n",
    "print(motorcycles)"
   ]
  },
  {
   "cell_type": "markdown",
   "id": "a81f1be0",
   "metadata": {},
   "source": [
    "法二：列表中插入元素 insert   motorcycles.insert()指定索引/插入位置，插入的值"
   ]
  },
  {
   "cell_type": "code",
   "execution_count": 5,
   "id": "b1dd0b7f",
   "metadata": {},
   "outputs": [
    {
     "name": "stdout",
     "output_type": "stream",
     "text": [
      "['honda', 'yamaha', 'suzuki']\n",
      "['honda', 'yamaha', 'ducati', 'suzuki']\n"
     ]
    }
   ],
   "source": [
    "motorcycles=['honda','yamaha','suzuki']\n",
    "print(motorcycles)\n",
    "motorcycles.insert(-1,'ducati')\n",
    "print(motorcycles)"
   ]
  },
  {
   "cell_type": "markdown",
   "id": "699df3e3",
   "metadata": {},
   "source": [
    "3.2.3 列表中删除元素\n",
    "法一：使用del语句删除元素"
   ]
  },
  {
   "cell_type": "code",
   "execution_count": 14,
   "id": "9cc7a03e",
   "metadata": {},
   "outputs": [
    {
     "name": "stdout",
     "output_type": "stream",
     "text": [
      "['honda', 'yamaha', 'suzuki']\n",
      "['yamaha', 'suzuki']\n",
      "['yamaha']\n"
     ]
    }
   ],
   "source": [
    "motorcycles=['honda','yamaha','suzuki']\n",
    "print(motorcycles)\n",
    "del motorcycles[0]\n",
    "print(motorcycles)\n",
    "del motorcycles[1]\n",
    "print(motorcycles)"
   ]
  },
  {
   "cell_type": "markdown",
   "id": "d81d5547",
   "metadata": {},
   "source": [
    "法二：使用方法pop()删除最后一个元素， pop类似把元素弹出来放在了某个地方 括号内可以i指定索引"
   ]
  },
  {
   "cell_type": "code",
   "execution_count": 15,
   "id": "e0f54da9",
   "metadata": {},
   "outputs": [
    {
     "name": "stdout",
     "output_type": "stream",
     "text": [
      "['honda', 'yamaha', 'suzuki']\n",
      "['honda', 'yamaha']\n",
      "suzuki\n"
     ]
    }
   ],
   "source": [
    "motorcycles=['honda','yamaha','suzuki']\n",
    "print(motorcycles)\n",
    "\n",
    "popped_motorcycle=motorcycles.pop()\n",
    "print(motorcycles)\n",
    "print(popped_motorcycle)"
   ]
  },
  {
   "cell_type": "code",
   "execution_count": 23,
   "id": "c1b0e1d8",
   "metadata": {},
   "outputs": [
    {
     "name": "stdout",
     "output_type": "stream",
     "text": [
      "The last motorcycle I owned was a Suzuki.\n"
     ]
    }
   ],
   "source": [
    "motorcycles=['honda','yamaha','suzuki']\n",
    "last_owned=motorcycles.pop()\n",
    "print(f\"The last motorcycle I owned was a {last_owned.title()}.\")"
   ]
  },
  {
   "cell_type": "markdown",
   "id": "fc0012f7",
   "metadata": {},
   "source": [
    "法三：弹出列表中任何位置的元素"
   ]
  },
  {
   "cell_type": "code",
   "execution_count": 24,
   "id": "a8418cbc",
   "metadata": {},
   "outputs": [
    {
     "name": "stdout",
     "output_type": "stream",
     "text": [
      "The last motorcycle I owned was a Yamaha.\n"
     ]
    }
   ],
   "source": [
    "motorcycles=['honda','yamaha','suzuki']\n",
    "last_owned=motorcycles.pop(1)\n",
    "print(f\"The last motorcycle I owned was a {last_owned.title()}.\")"
   ]
  },
  {
   "cell_type": "markdown",
   "id": "9fcf0111",
   "metadata": {},
   "source": [
    "法四：根据值删除元素"
   ]
  },
  {
   "cell_type": "code",
   "execution_count": 25,
   "id": "22eb0a76",
   "metadata": {},
   "outputs": [
    {
     "name": "stdout",
     "output_type": "stream",
     "text": [
      "['honda', 'yamaha', 'suzuki', 'ducati']\n",
      "['honda', 'yamaha', 'suzuki']\n"
     ]
    }
   ],
   "source": [
    "motorcycles=['honda','yamaha','suzuki','ducati']\n",
    "print(motorcycles)\n",
    "\n",
    "motorcycles.remove('ducati')\n",
    "print(motorcycles)"
   ]
  },
  {
   "cell_type": "markdown",
   "id": "849f39b1",
   "metadata": {},
   "source": [
    "3.3 组织列表\n",
    "3.3.1 使用方法sort()对列表永久排序"
   ]
  },
  {
   "cell_type": "markdown",
   "id": "38bdd2e7",
   "metadata": {},
   "source": [
    "按字母顺序排序"
   ]
  },
  {
   "cell_type": "code",
   "execution_count": 27,
   "id": "60e8750a",
   "metadata": {},
   "outputs": [
    {
     "name": "stdout",
     "output_type": "stream",
     "text": [
      "['bmw', 'audi', 'toyota', 'subaru']\n",
      "['audi', 'bmw', 'subaru', 'toyota']\n"
     ]
    }
   ],
   "source": [
    "cars=['bmw','audi','toyota','subaru']\n",
    "print(cars)\n",
    "\n",
    "cars.sort()\n",
    "print(cars)"
   ]
  },
  {
   "cell_type": "markdown",
   "id": "50cbc94b",
   "metadata": {},
   "source": [
    "按字母顺序相反的顺序排序"
   ]
  },
  {
   "cell_type": "code",
   "execution_count": 28,
   "id": "4a2f0546",
   "metadata": {},
   "outputs": [
    {
     "name": "stdout",
     "output_type": "stream",
     "text": [
      "['bmw', 'audi', 'toyota', 'subaru']\n",
      "['toyota', 'subaru', 'bmw', 'audi']\n"
     ]
    }
   ],
   "source": [
    "cars=['bmw','audi','toyota','subaru']\n",
    "print(cars)\n",
    "\n",
    "cars.sort(reverse=True)\n",
    "print(cars)"
   ]
  },
  {
   "cell_type": "markdown",
   "id": "4a59fa2a",
   "metadata": {},
   "source": [
    "3.3.2 使用函数sorted()对列表临时排序"
   ]
  },
  {
   "cell_type": "code",
   "execution_count": 31,
   "id": "ec868400",
   "metadata": {},
   "outputs": [
    {
     "name": "stdout",
     "output_type": "stream",
     "text": [
      "['bmw', 'audi', 'toyota', 'subaru']\n",
      "\n",
      "Here is the sorted list:\n",
      "['audi', 'bmw', 'subaru', 'toyota']\n",
      "['bmw', 'audi', 'toyota', 'subaru']\n"
     ]
    }
   ],
   "source": [
    "cars=['bmw','audi','toyota','subaru']\n",
    "print(cars)\n",
    "\n",
    "print('\\nHere is the sorted list:')\n",
    "print(sorted(cars))\n",
    "\n",
    "print(cars)"
   ]
  },
  {
   "cell_type": "markdown",
   "id": "5637775f",
   "metadata": {},
   "source": [
    "3.3.3 倒着打印列表 reverse()永久修改\n",
    "reverse()不是按与字母顺序相反的顺序排列排序元素，而只是反转列表元素的排列顺序"
   ]
  },
  {
   "cell_type": "code",
   "execution_count": 32,
   "id": "c912ec0d",
   "metadata": {},
   "outputs": [
    {
     "name": "stdout",
     "output_type": "stream",
     "text": [
      "['bmw', 'audi', 'toyota', 'subaru']\n",
      "['subaru', 'toyota', 'audi', 'bmw']\n"
     ]
    }
   ],
   "source": [
    "cars=['bmw','audi','toyota','subaru']\n",
    "print(cars)\n",
    "\n",
    "cars.reverse()\n",
    "print(cars)"
   ]
  },
  {
   "cell_type": "code",
   "execution_count": 33,
   "id": "b9c19101",
   "metadata": {},
   "outputs": [
    {
     "name": "stdout",
     "output_type": "stream",
     "text": [
      "['bmw', 'audi', 'toyota', 'subaru']\n",
      "['subaru', 'toyota', 'audi', 'bmw']\n",
      "['bmw', 'audi', 'toyota', 'subaru']\n"
     ]
    }
   ],
   "source": [
    "cars=['bmw','audi','toyota','subaru']\n",
    "print(cars)\n",
    "\n",
    "cars.reverse()\n",
    "print(cars)\n",
    "\n",
    "cars.reverse()\n",
    "print(cars)"
   ]
  },
  {
   "cell_type": "markdown",
   "id": "c9b4a429",
   "metadata": {},
   "source": [
    "3.3.4 确定列表的长度 len() 计算列表元素时是从1开始数的"
   ]
  },
  {
   "cell_type": "code",
   "execution_count": 34,
   "id": "841c0023",
   "metadata": {},
   "outputs": [
    {
     "data": {
      "text/plain": [
       "4"
      ]
     },
     "execution_count": 34,
     "metadata": {},
     "output_type": "execute_result"
    }
   ],
   "source": [
    "cars=['bmw','audi','toyota','subaru']\n",
    "len(cars)"
   ]
  },
  {
   "cell_type": "markdown",
   "id": "769d8fa9",
   "metadata": {},
   "source": [
    "3.4 使用列表避免索引错误"
   ]
  },
  {
   "cell_type": "code",
   "execution_count": 16,
   "id": "9040181c",
   "metadata": {},
   "outputs": [
    {
     "ename": "IndexError",
     "evalue": "list index out of range",
     "output_type": "error",
     "traceback": [
      "\u001B[0;31m---------------------------------------------------------------------------\u001B[0m",
      "\u001B[0;31mIndexError\u001B[0m                                Traceback (most recent call last)",
      "Cell \u001B[0;32mIn[16], line 2\u001B[0m\n\u001B[1;32m      1\u001B[0m motorcycles\u001B[38;5;241m=\u001B[39m[\u001B[38;5;124m'\u001B[39m\u001B[38;5;124mhonda\u001B[39m\u001B[38;5;124m'\u001B[39m,\u001B[38;5;124m'\u001B[39m\u001B[38;5;124myamaha\u001B[39m\u001B[38;5;124m'\u001B[39m,\u001B[38;5;124m'\u001B[39m\u001B[38;5;124msuzuki\u001B[39m\u001B[38;5;124m'\u001B[39m]\n\u001B[0;32m----> 2\u001B[0m \u001B[38;5;28mprint\u001B[39m(\u001B[43mmotorcycles\u001B[49m\u001B[43m[\u001B[49m\u001B[38;5;241;43m3\u001B[39;49m\u001B[43m]\u001B[49m)\n",
      "\u001B[0;31mIndexError\u001B[0m: list index out of range"
     ]
    }
   ],
   "source": [
    "motorcycles=['honda','yamaha','suzuki']\n",
    "print(motorcycles[3])"
   ]
  },
  {
   "cell_type": "code",
   "execution_count": 17,
   "id": "bbf5e80e",
   "metadata": {},
   "outputs": [
    {
     "name": "stdout",
     "output_type": "stream",
     "text": [
      "suzuki\n"
     ]
    }
   ],
   "source": [
    "motorcycles=['honda','yamaha','suzuki']\n",
    "len(motorcycles)\n",
    "print(motorcycles[2])"
   ]
  }
 ],
 "metadata": {
  "kernelspec": {
   "display_name": "Python 3 (ipykernel)",
   "language": "python",
   "name": "python3"
  },
  "language_info": {
   "codemirror_mode": {
    "name": "ipython",
    "version": 3
   },
   "file_extension": ".py",
   "mimetype": "text/x-python",
   "name": "python",
   "nbconvert_exporter": "python",
   "pygments_lexer": "ipython3",
   "version": "3.9.12"
  }
 },
 "nbformat": 4,
 "nbformat_minor": 5
}
