{
 "cells": [
  {
   "cell_type": "code",
   "execution_count": 2,
   "id": "54ec0b05",
   "metadata": {},
   "outputs": [
    {
     "name": "stdout",
     "output_type": "stream",
     "text": [
      "Hello python world!\n"
     ]
    }
   ],
   "source": [
    "message=\"Hello python world!\"\n",
    "print(message)"
   ]
  },
  {
   "cell_type": "code",
   "execution_count": null,
   "id": "6bf2ebe2",
   "metadata": {},
   "outputs": [],
   "source": [
    "2.2.3 变量是标签 新的进去旧的没了"
   ]
  }
 ],
 "metadata": {
  "kernelspec": {
   "display_name": "Python 3.9.12 ('base')",
   "language": "python",
   "name": "python3"
  },
  "language_info": {
   "codemirror_mode": {
    "name": "ipython",
    "version": 3
   },
   "file_extension": ".py",
   "mimetype": "text/x-python",
   "name": "python",
   "nbconvert_exporter": "python",
   "pygments_lexer": "ipython3",
   "version": "3.9.12"
  },
  "vscode": {
   "interpreter": {
    "hash": "95b27839165d846a77f10661a4557c368bce0e7bdbc34b6fd748b2904850524d"
   }
  }
 },
 "nbformat": 4,
 "nbformat_minor": 5
}
