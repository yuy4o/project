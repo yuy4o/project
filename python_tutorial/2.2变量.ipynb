{
 "cells": [
  {
   "cell_type": "markdown",
   "source": [
    "字母，数字，下划线\n",
    "message=\"xxxx\"\n",
    "_message=\"xxxx\"\n",
    "1_message=\"xxxx\"(x)\n",
    "0=\"xxxx\"(x)"
   ],
   "metadata": {
    "collapsed": false
   },
   "outputs": [
    {
     "ename": "SyntaxError",
     "evalue": "invalid character '，' (U+FF0C) (124473972.py, line 1)",
     "output_type": "error",
     "traceback": [
      "\u001B[0;36m  Cell \u001B[0;32mIn[1], line 1\u001B[0;36m\u001B[0m\n\u001B[0;31m    字母，数字，下划线\u001B[0m\n\u001B[0m      ^\u001B[0m\n\u001B[0;31mSyntaxError\u001B[0m\u001B[0;31m:\u001B[0m invalid character '，' (U+FF0C)\n"
     ]
    }
   ],
   "execution_count": 1
  },
  {
   "cell_type": "markdown",
   "source": [
    "greeting message=\"xxxx\"(x)\n",
    "greeting_message=\"xxxx\""
   ],
   "metadata": {
    "collapsed": false
   }
  },
  {
   "cell_type": "markdown",
   "source": [
    "命名不能用python关键字和函数名\n",
    "print=\"xxxx\"(x)"
   ],
   "metadata": {
    "collapsed": false
   }
  },
  {
   "cell_type": "markdown",
   "source": [
    "student_name\n",
    "s_n(x)"
   ],
   "metadata": {
    "collapsed": false
   }
  },
  {
   "cell_type": "markdown",
   "source": [
    "命名不包含l O o\n",
    "命名用小写"
   ],
   "metadata": {
    "collapsed": false
   }
  },
  {
   "cell_type": "markdown",
   "source": [
    "2.2.3 变量是标签 新的进去旧的没了"
   ],
   "metadata": {
    "collapsed": false
   }
  },
  {
   "cell_type": "code",
   "execution_count": 1,
   "id": "ac3e2fed",
   "metadata": {},
   "outputs": [
    {
     "name": "stdout",
     "output_type": "stream",
     "text": [
      "Hello python world!\n"
     ]
    }
   ],
   "source": [
    "message=\"Hello python world!\"\n",
    "print (message)"
   ]
  },
  {
   "cell_type": "code",
   "execution_count": 3,
   "id": "3648d79d",
   "metadata": {},
   "outputs": [
    {
     "name": "stdout",
     "output_type": "stream",
     "text": [
      "Hello python world!\n",
      "Hello python Crash Course world!\n"
     ]
    }
   ],
   "source": [
    "message=\"Hello python world!\"\n",
    "print (message)\n",
    "message=\"Hello python Crash Course world!\"\n",
    "print (message)"
   ]
  }
 ],
 "metadata": {
  "kernelspec": {
   "display_name": "Python 3 (ipykernel)",
   "language": "python",
   "name": "python3"
  },
  "language_info": {
   "codemirror_mode": {
    "name": "ipython",
    "version": 3
   },
   "file_extension": ".py",
   "mimetype": "text/x-python",
   "name": "python",
   "nbconvert_exporter": "python",
   "pygments_lexer": "ipython3",
   "version": "3.9.12"
  }
 },
 "nbformat": 4,
 "nbformat_minor": 5
}
