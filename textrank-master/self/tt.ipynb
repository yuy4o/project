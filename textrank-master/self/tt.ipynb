{
 "cells": [
  {
   "cell_type": "code",
   "execution_count": 1,
   "metadata": {
    "ExecuteTime": {
     "end_time": "2023-08-10T07:59:38.251898Z",
     "start_time": "2023-08-10T07:59:38.246370Z"
    },
    "collapsed": true
   },
   "outputs": [
    {
     "ename": "ModuleNotFoundError",
     "evalue": "No module named 'TextRank'",
     "output_type": "error",
     "traceback": [
      "\u001b[0;31m---------------------------------------------------------------------------\u001b[0m",
      "\u001b[0;31mModuleNotFoundError\u001b[0m                       Traceback (most recent call last)",
      "Cell \u001b[0;32mIn[1], line 1\u001b[0m\n\u001b[0;32m----> 1\u001b[0m \u001b[38;5;28;01mfrom\u001b[39;00m \u001b[38;5;21;01mTextRank\u001b[39;00m \u001b[38;5;28;01mimport\u001b[39;00m textRank\n\u001b[1;32m      2\u001b[0m text \u001b[38;5;241m=\u001b[39m \u001b[38;5;124m\"\"\"\u001b[39m\u001b[38;5;124m欧亚经济委员会执委会一体化与宏观经济委员格拉济耶夫日前接受新华社记者采访时高度评价中国抗击新冠疫情工作，\u001b[39m\u001b[38;5;130;01m\\\u001b[39;00m\n\u001b[1;32m      3\u001b[0m \u001b[38;5;124m并表示期待欧亚经济联盟与中国加强抗疫合作，共同推动地区发展。格拉济耶夫说，中国依靠治理体系与全国人民协同努力，\u001b[39m\u001b[38;5;130;01m\\\u001b[39;00m\n\u001b[1;32m      4\u001b[0m \u001b[38;5;124m在抗疫工作上取得极大成效。中国采取的措施符合全球利益。格拉济耶夫认为，中国经济将会快速恢复，欧亚经济联盟许多企业与中国市场联系紧密，\u001b[39m\u001b[38;5;130;01m\\\u001b[39;00m\n\u001b[0;32m   (...)\u001b[0m\n\u001b[1;32m      8\u001b[0m \u001b[38;5;124m俄罗斯与其他欧亚经济联盟国家金融市场更易受国际投机行为影响。欧亚经济联盟应借鉴中国的人民币国际化经验，加强与中国银行体系和金融市场对接。\u001b[39m\u001b[38;5;130;01m\\\u001b[39;00m\n\u001b[1;32m      9\u001b[0m \u001b[38;5;124m欧亚经济联盟成立于2015年，成员国包括俄罗斯、哈萨克斯坦、白俄罗斯、吉尔吉斯斯坦和亚美尼亚。欧亚经济委员会执委会是欧亚经济联盟最高权力机构。\u001b[39m\u001b[38;5;124m\"\"\"\u001b[39m\n",
      "\u001b[0;31mModuleNotFoundError\u001b[0m: No module named 'TextRank'"
     ]
    }
   ],
   "source": [
    "from TextRank import textRank\n",
    "text = \"\"\"欧亚经济委员会执委会一体化与宏观经济委员格拉济耶夫日前接受新华社记者采访时高度评价中国抗击新冠疫情工作，\\\n",
    "并表示期待欧亚经济联盟与中国加强抗疫合作，共同推动地区发展。格拉济耶夫说，中国依靠治理体系与全国人民协同努力，\\\n",
    "在抗疫工作上取得极大成效。中国采取的措施符合全球利益。格拉济耶夫认为，中国经济将会快速恢复，欧亚经济联盟许多企业与中国市场联系紧密，\\\n",
    "应与中国加强合作，采取协调措施降低此次疫情带来的消极影响。格拉济耶夫建议，面对疫情，欧亚经济联盟与中国扩大信息技术应用，\\\n",
    "推进商品清关程序自动化，更广泛地利用相关机制，为对外经济活动参与者建立绿色通道。谈及双方在医学卫生领域的合作时，\\\n",
    "格拉济耶夫说：“我们应从当前考验中汲取经验，在生物安全领域制定共同规划并联合开展生物工程研究。”格拉济耶夫还表示，\\\n",
    "俄罗斯与其他欧亚经济联盟国家金融市场更易受国际投机行为影响。欧亚经济联盟应借鉴中国的人民币国际化经验，加强与中国银行体系和金融市场对接。\\\n",
    "欧亚经济联盟成立于2015年，成员国包括俄罗斯、哈萨克斯坦、白俄罗斯、吉尔吉斯斯坦和亚美尼亚。欧亚经济委员会执委会是欧亚经济联盟最高权力机构。\"\"\""
   ]
  },
  {
   "cell_type": "code",
   "execution_count": 37,
   "metadata": {
    "ExecuteTime": {
     "end_time": "2023-08-10T08:03:38.069722Z",
     "start_time": "2023-08-10T08:03:38.062744Z"
    }
   },
   "outputs": [
    {
     "data": {
      "text/plain": [
       "([('温州市', 0.15981934235720072),\n",
       "  ('预案', 0.10250556568233861),\n",
       "  ('应急', 0.09550008770154625),\n",
       "  ('办', 0.09213229442033312),\n",
       "  ('交通事故', 0.09054660588228451),\n",
       "  ('道路', 0.08589683253753648),\n",
       "  ('办公室', 0.08415696448180349),\n",
       "  ('人民政府', 0.08318123494238668),\n",
       "  ('印发', 0.08318123494238668),\n",
       "  ('通知', 0.05701778073948999)],\n",
       " [('温政办〔2022〕9号 温州市人民政府办公室关于印发温州市道路交通事故应急预案的通知', 1.0)])"
      ]
     },
     "execution_count": 37,
     "metadata": {},
     "output_type": "execute_result"
    }
   ],
   "source": [
    "from TextRank import textRank\n",
    "text = \"温政办〔2022〕9号 温州市人民政府办公室关于印发温州市道路交通事故应急预案的通知\"\n",
    "T = textRank.TextRank(text,pr_config={'alpha': 0.85, 'max_iter': 100})\n",
    "T.get_n_keywords(10), T.get_n_sentences(10)"
   ]
  },
  {
   "cell_type": "code",
   "execution_count": 38,
   "metadata": {
    "ExecuteTime": {
     "end_time": "2023-08-10T08:03:39.886271Z",
     "start_time": "2023-08-10T08:03:39.876549Z"
    }
   },
   "outputs": [
    {
     "data": {
      "text/plain": [
       "([('温州市', 0.15981934235720072),\n",
       "  ('预案', 0.10250556568233861),\n",
       "  ('应急', 0.09550008770154625),\n",
       "  ('办', 0.09213229442033312),\n",
       "  ('交通事故', 0.09054660588228451),\n",
       "  ('道路', 0.08589683253753648),\n",
       "  ('办公室', 0.08415696448180349),\n",
       "  ('人民政府', 0.08318123494238668),\n",
       "  ('印发', 0.08318123494238668),\n",
       "  ('通知', 0.05701778073948999)],\n",
       " [('温政办〔2022〕9号 温州市人民政府办公室关于印发温州市道路交通事故应急预案的通知', 1.0)])"
      ]
     },
     "execution_count": 38,
     "metadata": {},
     "output_type": "execute_result"
    }
   ],
   "source": [
    "T = textRank.TextRank(text,pr_config={'alpha': 0.85, 'max_iter': 100})\n",
    "T.get_n_keywords(10), T.get_n_sentences(10)"
   ]
  },
  {
   "cell_type": "code",
   "execution_count": 24,
   "metadata": {
    "ExecuteTime": {
     "end_time": "2023-08-10T07:54:52.770019Z",
     "start_time": "2023-08-10T07:54:52.736913Z"
    }
   },
   "outputs": [],
   "source": [
    "words_pro = [['国家发改委','表示','目前','两轮','储备投放','基本','实现','预期','目标','社会','各界','普遍','反映','储备投放','体现','国家','确保','大宗','商品','市场','供应','价格','稳定','决心','信心','引导','价格','预期','缓解','部分','行业','企业','原材料','成本','压力','','持续','关注','大宗商品','价格','走势','情况','统筹','利用','国内','国外','两种','资源','综合','采取','多种','措施','加大','增产','增供','适时','储备投放','加强','进出口','调节','加大','市场','监管','力度','切实','大宗商品','保供','稳价','工作']]"
   ]
  },
  {
   "cell_type": "code",
   "execution_count": 25,
   "metadata": {
    "ExecuteTime": {
     "end_time": "2023-08-10T07:54:52.822092Z",
     "start_time": "2023-08-10T07:54:52.784032Z"
    }
   },
   "outputs": [
    {
     "data": {
      "text/plain": [
       "({'国家发改委': 0,\n",
       "  '表示': 1,\n",
       "  '目前': 2,\n",
       "  '两轮': 3,\n",
       "  '储备投放': 56,\n",
       "  '基本': 5,\n",
       "  '实现': 6,\n",
       "  '预期': 27,\n",
       "  '目标': 8,\n",
       "  '社会': 9,\n",
       "  '各界': 10,\n",
       "  '普遍': 11,\n",
       "  '反映': 12,\n",
       "  '体现': 14,\n",
       "  '国家': 15,\n",
       "  '确保': 16,\n",
       "  '大宗': 17,\n",
       "  '商品': 18,\n",
       "  '市场': 61,\n",
       "  '供应': 20,\n",
       "  '价格': 39,\n",
       "  '稳定': 22,\n",
       "  '决心': 23,\n",
       "  '信心': 24,\n",
       "  '引导': 25,\n",
       "  '缓解': 28,\n",
       "  '部分': 29,\n",
       "  '行业': 30,\n",
       "  '企业': 31,\n",
       "  '原材料': 32,\n",
       "  '成本': 33,\n",
       "  '压力': 34,\n",
       "  '': 35,\n",
       "  '持续': 36,\n",
       "  '关注': 37,\n",
       "  '大宗商品': 65,\n",
       "  '走势': 40,\n",
       "  '情况': 41,\n",
       "  '统筹': 42,\n",
       "  '利用': 43,\n",
       "  '国内': 44,\n",
       "  '国外': 45,\n",
       "  '两种': 46,\n",
       "  '资源': 47,\n",
       "  '综合': 48,\n",
       "  '采取': 49,\n",
       "  '多种': 50,\n",
       "  '措施': 51,\n",
       "  '加大': 60,\n",
       "  '增产': 53,\n",
       "  '增供': 54,\n",
       "  '适时': 55,\n",
       "  '加强': 57,\n",
       "  '进出口': 58,\n",
       "  '调节': 59,\n",
       "  '监管': 62,\n",
       "  '力度': 63,\n",
       "  '切实': 64,\n",
       "  '保供': 66,\n",
       "  '稳价': 67,\n",
       "  '工作': 68},\n",
       " {0: '国家发改委',\n",
       "  1: '表示',\n",
       "  2: '目前',\n",
       "  3: '两轮',\n",
       "  4: '储备投放',\n",
       "  5: '基本',\n",
       "  6: '实现',\n",
       "  7: '预期',\n",
       "  8: '目标',\n",
       "  9: '社会',\n",
       "  10: '各界',\n",
       "  11: '普遍',\n",
       "  12: '反映',\n",
       "  13: '储备投放',\n",
       "  14: '体现',\n",
       "  15: '国家',\n",
       "  16: '确保',\n",
       "  17: '大宗',\n",
       "  18: '商品',\n",
       "  19: '市场',\n",
       "  20: '供应',\n",
       "  21: '价格',\n",
       "  22: '稳定',\n",
       "  23: '决心',\n",
       "  24: '信心',\n",
       "  25: '引导',\n",
       "  26: '价格',\n",
       "  27: '预期',\n",
       "  28: '缓解',\n",
       "  29: '部分',\n",
       "  30: '行业',\n",
       "  31: '企业',\n",
       "  32: '原材料',\n",
       "  33: '成本',\n",
       "  34: '压力',\n",
       "  35: '',\n",
       "  36: '持续',\n",
       "  37: '关注',\n",
       "  38: '大宗商品',\n",
       "  39: '价格',\n",
       "  40: '走势',\n",
       "  41: '情况',\n",
       "  42: '统筹',\n",
       "  43: '利用',\n",
       "  44: '国内',\n",
       "  45: '国外',\n",
       "  46: '两种',\n",
       "  47: '资源',\n",
       "  48: '综合',\n",
       "  49: '采取',\n",
       "  50: '多种',\n",
       "  51: '措施',\n",
       "  52: '加大',\n",
       "  53: '增产',\n",
       "  54: '增供',\n",
       "  55: '适时',\n",
       "  56: '储备投放',\n",
       "  57: '加强',\n",
       "  58: '进出口',\n",
       "  59: '调节',\n",
       "  60: '加大',\n",
       "  61: '市场',\n",
       "  62: '监管',\n",
       "  63: '力度',\n",
       "  64: '切实',\n",
       "  65: '大宗商品',\n",
       "  66: '保供',\n",
       "  67: '稳价',\n",
       "  68: '工作'},\n",
       " 69)"
      ]
     },
     "execution_count": 25,
     "metadata": {},
     "output_type": "execute_result"
    }
   ],
   "source": [
    "def words_info(words_list):\n",
    "    \"\"\"\n",
    "    :param words_list:\n",
    "    :return:\n",
    "    \"\"\"\n",
    "    word_index = dict()\n",
    "    index_word = dict()\n",
    "    word_num = 0\n",
    "    #for index_s, words in enumerate(words_list):\n",
    "    for index_s, words in enumerate(words_list):\n",
    "        for index_w, word in enumerate(words):\n",
    "            word_index[word] = word_num\n",
    "            index_word[word_num] = word\n",
    "            word_num += 1\n",
    "    return word_index, index_word, word_num\n",
    "\n",
    "word_index, index_word, word_num = words_info(words_pro)\n",
    "word_index, index_word, word_num"
   ]
  },
  {
   "cell_type": "code",
   "execution_count": 26,
   "metadata": {
    "ExecuteTime": {
     "end_time": "2023-08-10T07:54:52.900814Z",
     "start_time": "2023-08-10T07:54:52.831020Z"
    }
   },
   "outputs": [
    {
     "data": {
      "text/plain": [
       "array([[0., 1., 1., ..., 0., 0., 0.],\n",
       "       [1., 0., 1., ..., 0., 0., 0.],\n",
       "       [1., 1., 0., ..., 0., 0., 0.],\n",
       "       ...,\n",
       "       [0., 0., 0., ..., 0., 1., 1.],\n",
       "       [0., 0., 0., ..., 1., 0., 1.],\n",
       "       [0., 0., 0., ..., 1., 1., 0.]])"
      ]
     },
     "execution_count": 26,
     "metadata": {},
     "output_type": "execute_result"
    }
   ],
   "source": [
    "import numpy as np\n",
    "\n",
    "def word_adj_matrix(words_pro, windows, word_num, word_index):\n",
    "    \"\"\"\n",
    "    Adjacency Matrix\n",
    "    :param windows:\n",
    "    :return:\n",
    "    \"\"\"\n",
    "    def _word_combine(words, window):\n",
    "        \"\"\"\n",
    "        Keyword arguments:\n",
    "        :param window:\n",
    "        \"\"\"\n",
    "        if window < 2: window = 2\n",
    "        for x in range(1, window):\n",
    "            if x >= len(words):\n",
    "                break\n",
    "            words2 = words[x:]\n",
    "            res = zip(words, words2)\n",
    "            for r in res:\n",
    "                yield r\n",
    "    matrix = np.zeros((word_num, word_num))\n",
    "    for words in words_pro:\n",
    "        for w1, w2 in _word_combine(words, windows):\n",
    "            if w1 in word_index and w2 in word_index:\n",
    "                index1 = word_index.get(w1)\n",
    "                index2 = word_index.get(w2)\n",
    "                matrix[index1][index2] = 1.0\n",
    "                matrix[index2][index1] = 1.0\n",
    "    return matrix\n",
    "\n",
    "windows = 3\n",
    "\n",
    "def _build_adjacency_matrix():\n",
    "    adj_matrix = word_adj_matrix(words_pro,windows,word_num,word_index)\n",
    "    return adj_matrix\n",
    "\n",
    "adj_matrix = _build_adjacency_matrix()\n",
    "adj_matrix"
   ]
  },
  {
   "cell_type": "code",
   "execution_count": 27,
   "metadata": {
    "ExecuteTime": {
     "end_time": "2023-08-10T07:54:52.913014Z",
     "start_time": "2023-08-10T07:54:52.850762Z"
    }
   },
   "outputs": [
    {
     "data": {
      "text/plain": [
       "{0: 0.0096585328768674,\n",
       " 1: 0.013291936318566611,\n",
       " 2: 0.01638074626173421,\n",
       " 3: 0.015503885362785427,\n",
       " 4: 0.002411575766589476,\n",
       " 5: 0.014313800624442615,\n",
       " 6: 0.01412424737570538,\n",
       " 7: 0.002411575766589476,\n",
       " 8: 0.014422316825875244,\n",
       " 9: 0.014488886610047002,\n",
       " 10: 0.014719404157882546,\n",
       " 11: 0.014504086732448922,\n",
       " 12: 0.014503903145347028,\n",
       " 13: 0.002411575766589476,\n",
       " 14: 0.014487839083642283,\n",
       " 15: 0.014469465341516823,\n",
       " 16: 0.014662365902621153,\n",
       " 17: 0.01439906473439952,\n",
       " 18: 0.014294408835294252,\n",
       " 19: 0.002411575766589476,\n",
       " 20: 0.013872311093686078,\n",
       " 21: 0.002411575766589476,\n",
       " 22: 0.013995639973808278,\n",
       " 23: 0.013991791255189429,\n",
       " 24: 0.013991791255189429,\n",
       " 25: 0.013850350758037276,\n",
       " 26: 0.002411575766589476,\n",
       " 27: 0.026377194274224802,\n",
       " 28: 0.014230513215573911,\n",
       " 29: 0.01469191696279732,\n",
       " 30: 0.015080665347749165,\n",
       " 31: 0.015290066107025093,\n",
       " 32: 0.015406749686547176,\n",
       " 33: 0.015425329312620811,\n",
       " 34: 0.015357699740073207,\n",
       " 35: 0.015186678508289466,\n",
       " 36: 0.014904179722491364,\n",
       " 37: 0.014430922658136103,\n",
       " 38: 0.002411575766589476,\n",
       " 39: 0.03797205182449198,\n",
       " 40: 0.014361572987835683,\n",
       " 41: 0.014631030990540174,\n",
       " 42: 0.015133475850610915,\n",
       " 43: 0.015350920138510261,\n",
       " 44: 0.015524241868579933,\n",
       " 45: 0.015602284512916412,\n",
       " 46: 0.015619984391531823,\n",
       " 47: 0.01557877799770976,\n",
       " 48: 0.015451913563550418,\n",
       " 49: 0.01528912303323838,\n",
       " 50: 0.014878410976823709,\n",
       " 51: 0.014691120777389042,\n",
       " 52: 0.002411575766589476,\n",
       " 53: 0.01438325771970552,\n",
       " 54: 0.014120830323389925,\n",
       " 55: 0.014290073298690812,\n",
       " 56: 0.0395812227834387,\n",
       " 57: 0.014200983828984805,\n",
       " 58: 0.014016127235281913,\n",
       " 59: 0.013979626774782981,\n",
       " 60: 0.02647060664572129,\n",
       " 61: 0.025970947188766934,\n",
       " 62: 0.014164123209498785,\n",
       " 63: 0.014265443411596817,\n",
       " 64: 0.014819886168992982,\n",
       " 65: 0.027626848952020996,\n",
       " 66: 0.01614905873953002,\n",
       " 67: 0.012803772434602317,\n",
       " 68: 0.009470986177935476}"
      ]
     },
     "execution_count": 27,
     "metadata": {},
     "output_type": "execute_result"
    }
   ],
   "source": [
    "def cal_score(ad_matrix, alpha=0.85, max_iter=100):\n",
    "    N = len(ad_matrix)\n",
    "    ad_sum = ad_matrix.sum(axis=0).astype(float)\n",
    "    ad_sum[ad_sum == 0.0] = 0.001\n",
    "    ad_matrix = ad_matrix / ad_sum\n",
    "    pr = np.full([N, 1], 1 / N)\n",
    "    for _ in range(max_iter):\n",
    "        pr = np.dot(ad_matrix, pr) * alpha + (1 - alpha)\n",
    "    pr = pr / pr.sum()\n",
    "    scores = dict(zip(range(len(pr)), [i[0] for i in pr]))\n",
    "    return scores\n",
    "\n",
    "pr_config = {'alpha': 0.85, 'max_iter': 100}\n",
    "scores = cal_score(adj_matrix, **pr_config)\n",
    "scores"
   ]
  },
  {
   "cell_type": "code",
   "execution_count": 28,
   "metadata": {
    "ExecuteTime": {
     "end_time": "2023-08-10T07:54:52.956011Z",
     "start_time": "2023-08-10T07:54:52.920555Z"
    }
   },
   "outputs": [
    {
     "name": "stdout",
     "output_type": "stream",
     "text": [
      "('储备投放', 0.0395812227834387)\n",
      "('价格', 0.03797205182449198)\n",
      "('大宗商品', 0.027626848952020996)\n",
      "('加大', 0.02647060664572129)\n",
      "('预期', 0.026377194274224802)\n",
      "('市场', 0.025970947188766934)\n",
      "('目前', 0.01638074626173421)\n",
      "('保供', 0.01614905873953002)\n",
      "('两种', 0.015619984391531823)\n",
      "('国外', 0.015602284512916412)\n"
     ]
    }
   ],
   "source": [
    "def _score_items():\n",
    "    adj_matrix = _build_adjacency_matrix()\n",
    "    scores = cal_score(adj_matrix, **pr_config)\n",
    "    sorted_items = get_sorted_items(scores, index_word)\n",
    "    return sorted_items\n",
    "\n",
    "def get_sorted_items(scores, index_items):\n",
    "    \"\"\"\n",
    "    :param scores:\n",
    "    :param index_items:\n",
    "    :return: list[tuple]\n",
    "    \"\"\"\n",
    "    items_scores = dict()\n",
    "    for index, score in scores.items():\n",
    "        items_scores[index_items.get(index)] = score\n",
    "    sorted_items = sorted(items_scores.items(), key=lambda item: item[1], reverse=True)\n",
    "    return sorted_items\n",
    "\n",
    "sorted_words = _score_items()\n",
    "for i in range(10):\n",
    "    print(sorted_words[i])"
   ]
  }
 ],
 "metadata": {
  "kernelspec": {
   "display_name": "Python 3 (ipykernel)",
   "language": "python",
   "name": "python3"
  },
  "language_info": {
   "codemirror_mode": {
    "name": "ipython",
    "version": 3
   },
   "file_extension": ".py",
   "mimetype": "text/x-python",
   "name": "python",
   "nbconvert_exporter": "python",
   "pygments_lexer": "ipython3",
   "version": "3.10.9"
  },
  "toc": {
   "base_numbering": 1,
   "nav_menu": {},
   "number_sections": true,
   "sideBar": true,
   "skip_h1_title": false,
   "title_cell": "Table of Contents",
   "title_sidebar": "Contents",
   "toc_cell": false,
   "toc_position": {},
   "toc_section_display": true,
   "toc_window_display": false
  }
 },
 "nbformat": 4,
 "nbformat_minor": 1
}
