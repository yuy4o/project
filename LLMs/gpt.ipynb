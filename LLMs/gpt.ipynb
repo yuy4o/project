{
 "cells": [
  {
   "cell_type": "code",
   "execution_count": null,
   "metadata": {},
   "outputs": [],
   "source": [
    "import torch, os, math\n",
    "from torch import nn, Tensor\n",
    "from transformers import BertTokenizer, BertModel, BertConfig\n",
    "from torch.utils.data import DataLoader, Dataset"
   ]
  }
 ],
 "metadata": {
  "language_info": {
   "name": "python"
  }
 },
 "nbformat": 4,
 "nbformat_minor": 2
}
