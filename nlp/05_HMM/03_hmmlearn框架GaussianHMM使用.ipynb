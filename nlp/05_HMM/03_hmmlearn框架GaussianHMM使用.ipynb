{
 "cells": [
  {
   "cell_type": "code",
   "execution_count": 1,
   "metadata": {},
   "outputs": [],
   "source": [
    "import numpy as np\n",
    "from hmmlearn import hmm  # hmm模型\n",
    "\n",
    "import matplotlib.pyplot as plt\n",
    "import matplotlib as mpl\n",
    "from mpl_toolkits.mplot3d import Axes3D\n",
    "from matplotlib import cm\n",
    "from sklearn.metrics.pairwise import pairwise_distances_argmin  # 计算一个点和一组点之间的最小距离\n",
    "import warnings"
   ]
  },
  {
   "cell_type": "code",
   "execution_count": 2,
   "metadata": {},
   "outputs": [],
   "source": [
    "# 设置在jupyter中matplotlib的显示情况（默认inline是内嵌显示，通过设置为tk表示不内嵌显示）\n",
    "%matplotlib tk"
   ]
  },
  {
   "cell_type": "code",
   "execution_count": 3,
   "metadata": {},
   "outputs": [],
   "source": [
    "def expand(a, b):\n",
    "    return 1.05*a-0.05*b, 1.05*b-0.05*a"
   ]
  },
  {
   "cell_type": "code",
   "execution_count": 4,
   "metadata": {},
   "outputs": [],
   "source": [
    "warnings.filterwarnings(\"ignore\")   # hmmlearn(0.2.0) < sklearn(0.18)\n",
    "np.random.seed(28)\n",
    "n = 5   # 隐状态数目\n",
    "n_samples = 500 # 样本数量"
   ]
  },
  {
   "cell_type": "code",
   "execution_count": 5,
   "metadata": {},
   "outputs": [
    {
     "name": "stdout",
     "output_type": "stream",
     "text": [
      "初始概率：\n",
      "[0.28102534 0.21635059 0.04817319 0.1532667  0.30118418]\n"
     ]
    }
   ],
   "source": [
    "# 随机给定初始概率\n",
    "pi = np.random.rand(n)\n",
    "pi /= pi.sum()\n",
    "print('初始概率：')\n",
    "print(pi)"
   ]
  },
  {
   "cell_type": "code",
   "execution_count": 6,
   "metadata": {},
   "outputs": [
    {
     "name": "stdout",
     "output_type": "stream",
     "text": [
      "转移概率:\n",
      "[[0.2202672  0.         0.36791287 0.41181993 0.        ]\n",
      " [0.         0.4995834  0.         0.01356202 0.48685458]\n",
      " [0.57655791 0.         0.10400763 0.         0.31943446]\n",
      " [0.23695178 0.33043766 0.         0.43261056 0.        ]\n",
      " [0.         0.58044648 0.15883558 0.         0.26071794]]\n"
     ]
    }
   ],
   "source": [
    "# 随机给定A矩阵，并添加适当的0\n",
    "A = np.random.rand(n, n)\n",
    "mask = np.zeros((n, n), dtype=np.bool)\n",
    "mask[0][1] = mask[0][4] = True\n",
    "mask[1][0] = mask[1][2] = True\n",
    "mask[2][1] = mask[2][3] = True\n",
    "mask[3][2] = mask[3][4] = True\n",
    "mask[4][0] = mask[4][3] = True\n",
    "A[mask] = 0\n",
    "for i in range(n):\n",
    "    A[i] /= A[i].sum()\n",
    "print('转移概率:')\n",
    "print(A)\n",
    "# 如第一行表示，在第一个状态下，下一个状态不可能是第二个和第五个状态"
   ]
  },
  {
   "cell_type": "code",
   "execution_count": 7,
   "metadata": {},
   "outputs": [
    {
     "name": "stdout",
     "output_type": "stream",
     "text": [
      "均值：\n",
      "[[ 0.57735027  0.57735027  0.57735027]\n",
      " [ 0.          0.92847669  0.37139068]\n",
      " [-0.62017367  0.74420841  0.24806947]\n",
      " [-0.51449576  0.          0.85749293]\n",
      " [ 0.35112344  0.          0.93632918]]\n"
     ]
    }
   ],
   "source": [
    "# 给定均值（n*feature_number的一个矩阵, n表示隐状态，feature_number表示观测值中样本的特征数目）\n",
    "means = np.array(((30, 30, 30), (0, 50, 20), (-25, 30, 10), (-15, 0, 25), (15, 0, 40)), dtype=np.float)\n",
    "for i in range(n):\n",
    "    means[i,:] /= np.sqrt(np.sum(means ** 2, axis=1))[i]\n",
    "print('均值：')\n",
    "print(means)"
   ]
  },
  {
   "cell_type": "code",
   "execution_count": 8,
   "metadata": {},
   "outputs": [
    {
     "name": "stdout",
     "output_type": "stream",
     "text": [
      "方差：\n",
      "\n",
      "[[[0.0155071  0.         0.        ]\n",
      "  [0.         0.02010293 0.        ]\n",
      "  [0.         0.         0.00246192]]\n",
      "\n",
      " [[0.00994326 0.         0.        ]\n",
      "  [0.         0.01782236 0.        ]\n",
      "  [0.         0.         0.00391079]]\n",
      "\n",
      " [[0.01630543 0.         0.        ]\n",
      "  [0.         0.0166357  0.        ]\n",
      "  [0.         0.         0.01450157]]\n",
      "\n",
      " [[0.00363404 0.         0.        ]\n",
      "  [0.         0.00178606 0.        ]\n",
      "  [0.         0.         0.01412046]]\n",
      "\n",
      " [[0.00602365 0.         0.        ]\n",
      "  [0.         0.02076837 0.        ]\n",
      "  [0.         0.         0.01166766]]]\n"
     ]
    }
   ],
   "source": [
    "# 给定方差（n*feature_number*feature_number的一个矩阵, n表示隐状态，feature_number表示观测值中样本的特征数目）\n",
    "covars = np.empty((n, 3, 3))\n",
    "for i in range(n):\n",
    "    covars[i] = np.diag(np.random.rand(3)*0.02+0.001)    # np.random.rand ∈[0,1)\n",
    "print('方差：\\n')\n",
    "print(covars)"
   ]
  },
  {
   "cell_type": "code",
   "execution_count": 9,
   "metadata": {},
   "outputs": [],
   "source": [
    "# 产生对应的模拟数据\n",
    "model = hmm.GaussianHMM(n_components=n, covariance_type='full')\n",
    "model.startprob_ = pi\n",
    "model.transmat_ = A\n",
    "model.means_ = means\n",
    "model.covars_ = covars\n",
    "sample, labels = model.sample(n_samples=n_samples, random_state=0)"
   ]
  },
  {
   "cell_type": "code",
   "execution_count": 10,
   "metadata": {},
   "outputs": [
    {
     "name": "stdout",
     "output_type": "stream",
     "text": [
      "估计初始概率：\n",
      "[0. 0. 1. 0. 0.]\n",
      "估计转移概率：\n",
      "[[0.53070356 0.45175252 0.01754392 0.         0.        ]\n",
      " [0.61038447 0.22727269 0.         0.16234284 0.        ]\n",
      " [0.31707317 0.         0.48780488 0.         0.19512195]\n",
      " [0.         0.39536037 0.         0.11627698 0.48836266]\n",
      " [0.         0.         0.48484889 0.39393889 0.12121222]]\n",
      "估计均值：\n",
      "\n",
      "[[-0.00362742  0.92283229  0.37226363]\n",
      " [ 0.34487731 -0.00195664  0.93881753]\n",
      " [-0.5168573   0.00094903  0.85695108]\n",
      " [-0.66623282  0.72555432  0.24210984]\n",
      " [ 0.55697474  0.62964013  0.5667117 ]]\n",
      "估计方差：\n",
      "\n",
      "[[[ 0.00893018 -0.00036242  0.00004194]\n",
      "  [-0.00036242  0.0146526   0.00006488]\n",
      "  [ 0.00004194  0.00006488  0.00340065]]\n",
      "\n",
      " [[ 0.00580409 -0.0000912   0.00069388]\n",
      "  [-0.0000912   0.02026833 -0.0012663 ]\n",
      "  [ 0.00069388 -0.0012663   0.01309224]]\n",
      "\n",
      " [[ 0.00341816 -0.0004482   0.00132588]\n",
      "  [-0.0004482   0.00196013  0.00027713]\n",
      "  [ 0.00132588  0.00027713  0.01525896]]\n",
      "\n",
      " [[ 0.01673939 -0.00116631 -0.00104601]\n",
      "  [-0.00116631  0.01308765 -0.00160787]\n",
      "  [-0.00104601 -0.00160787  0.01618941]]\n",
      "\n",
      " [[ 0.01625931 -0.00100449 -0.00019992]\n",
      "  [-0.00100449  0.01590626 -0.00121909]\n",
      "  [-0.00019992 -0.00121909  0.00207361]]]\n"
     ]
    }
   ],
   "source": [
    "# 模型构建及估计参数\n",
    "model = hmm.GaussianHMM(n_components=n, covariance_type='full', n_iter=10)\n",
    "model.fit(sample)\n",
    "y = model.predict(sample)\n",
    "np.set_printoptions(suppress=True)\n",
    "print('估计初始概率：')\n",
    "print(model.startprob_)\n",
    "print('估计转移概率：')\n",
    "print(model.transmat_)\n",
    "print('估计均值：\\n')\n",
    "print(model.means_)\n",
    "print('估计方差：\\n')\n",
    "print(model.covars_)"
   ]
  },
  {
   "cell_type": "code",
   "execution_count": 11,
   "metadata": {},
   "outputs": [
    {
     "name": "stdout",
     "output_type": "stream",
     "text": [
      "[4 0 3 2 1]\n",
      "估计初始概率：\n",
      "[0. 0. 0. 1. 0.]\n",
      "估计转移概率：\n",
      "[[0.12121222 0.         0.39393889 0.48484889 0.        ]\n",
      " [0.         0.53070356 0.         0.01754392 0.45175252]\n",
      " [0.48836266 0.         0.11627698 0.         0.39536037]\n",
      " [0.19512195 0.31707317 0.         0.48780488 0.        ]\n",
      " [0.         0.61038447 0.16234284 0.         0.22727269]]\n",
      "估计均值：\n",
      "[[ 0.55697474  0.62964013  0.5667117 ]\n",
      " [-0.00362742  0.92283229  0.37226363]\n",
      " [-0.66623282  0.72555432  0.24210984]\n",
      " [-0.5168573   0.00094903  0.85695108]\n",
      " [ 0.34487731 -0.00195664  0.93881753]]\n",
      "估计方差：\n",
      "[[[ 0.01625931 -0.00100449 -0.00019992]\n",
      "  [-0.00100449  0.01590626 -0.00121909]\n",
      "  [-0.00019992 -0.00121909  0.00207361]]\n",
      "\n",
      " [[ 0.00893018 -0.00036242  0.00004194]\n",
      "  [-0.00036242  0.0146526   0.00006488]\n",
      "  [ 0.00004194  0.00006488  0.00340065]]\n",
      "\n",
      " [[ 0.01673939 -0.00116631 -0.00104601]\n",
      "  [-0.00116631  0.01308765 -0.00160787]\n",
      "  [-0.00104601 -0.00160787  0.01618941]]\n",
      "\n",
      " [[ 0.00341816 -0.0004482   0.00132588]\n",
      "  [-0.0004482   0.00196013  0.00027713]\n",
      "  [ 0.00132588  0.00027713  0.01525896]]\n",
      "\n",
      " [[ 0.00580409 -0.0000912   0.00069388]\n",
      "  [-0.0000912   0.02026833 -0.0012663 ]\n",
      "  [ 0.00069388 -0.0012663   0.01309224]]]\n",
      "[3 3 3 3 3 3 1 4 4 1 1 1 4 1 1 4 1 4 1 4 1 4 2 4 4 2 4 1 4 2 2 4 1 4 1 4 1\n",
      " 1 4 1 1 4 1 4 1 4 1 1 4 2 4 1 4 2 0 2 4 4 2 0 2 0 0 2 0 3 0 2 0 2 2 4 1 1\n",
      " 4 2 4 1 4 1 1 4 1 1 1 1 4 2 0 3 3 0 2 0 3 3 0 3 3 1 1 1 1 4 1 1 1 1 4 2 0\n",
      " 2 0 0 2 4 1 1 4 4 2 0 2 2 2 0 3 3 1 1 1 1 1 1 1 4 1 4 1 4 1 1 4 1 4 4 1 4\n",
      " 1 4 1 1 4 1 4 4 4 1 4 1 1 4 1 4 1 1 4 2 0 2 4 1 4 4 4 1 1 1 4 4 1 4 4 1 1\n",
      " 4 1 1 1 4 1 1 1 4 1 4 4 1 4 1 1 1 1 4 1 1 1 4 4 1 1 1 1 4 4 1 1 1 1 4 1 1\n",
      " 1 4 4 1 1 1 4 2 2 4 1 3 0 3 0 3 3 3 3 1 4 4 1 4 1 3 3 3 0 0 3 1 4 1 4 1 4\n",
      " 4 4 4 1 4 4 4 4 1 4 1 4 1 4 1 1 1 4 1 4 4 1 1 3 1 1 1 4 1 1 1 1 4 4 2 4 1\n",
      " 4 4 1 4 1 4 1 4 1 1 4 1 4 4 1 4 2 0 3 3 0 3 1 1 1 4 2 0 2 4 2 0 3 3 3 3 3\n",
      " 1 4 1 4 1 1 1 1 1 1 1 1 4 1 1 1 4 4 1 1 4 1 1 4 1 1 1 1 1 4 1 1 4 1 4 4 4\n",
      " 1 1 1 1 4 1 1 4 1 4 1 1 1 4 2 0 3 1 1 1 1 1 1 4 2 4 1 4 1 1 1 1 1 1 1 1 4\n",
      " 1 1 1 1 1 4 4 4 2 4 1 4 1 1 1 1 1 1 1 1 4 1 4 1 1 1 4 2 0 3 1 1 1 4 1 1 1\n",
      " 4 2 4 4 1 4 2 0 3 3 1 1 4 4 4 4 2 0 2 0 2 4 1 1 1 4 2 0 3 1 4 1 3 0 0 3 1\n",
      " 1 1 4 1 1 4 1 1 1 1 4 2 4 1 4 1 4 1 4]\n",
      "[3 3 3 3 3 3 1 4 4 1 1 1 4 1 1 4 1 4 1 4 1 4 2 4 4 2 4 1 4 2 2 4 1 4 1 4 1\n",
      " 1 4 1 1 4 1 4 1 4 1 1 4 2 4 1 4 2 0 2 4 4 2 0 2 0 0 2 0 3 0 2 0 2 2 4 1 1\n",
      " 4 2 4 1 4 1 1 4 1 1 1 1 4 2 0 3 3 0 2 0 3 3 0 3 3 1 1 1 1 4 1 1 1 1 4 2 0\n",
      " 2 0 0 2 4 1 1 4 4 2 0 2 2 2 0 3 3 1 1 1 1 1 1 1 4 1 4 1 4 1 1 4 1 4 4 1 4\n",
      " 1 4 1 1 4 1 4 4 4 1 4 1 1 4 1 4 1 1 4 2 0 2 4 1 4 4 4 1 1 1 4 4 1 4 4 1 1\n",
      " 4 1 1 1 4 1 1 1 4 1 4 4 1 4 1 1 1 1 4 1 1 1 4 4 1 1 1 1 4 4 1 1 1 1 4 1 1\n",
      " 1 4 4 1 1 1 4 2 2 4 1 3 0 3 0 3 3 3 3 1 4 4 1 4 1 3 3 3 0 0 3 1 4 1 4 1 4\n",
      " 4 4 4 1 4 4 4 4 1 4 1 4 1 4 1 1 1 4 1 4 4 1 1 3 1 1 1 4 1 1 1 1 4 4 2 4 1\n",
      " 4 4 1 4 1 4 1 4 1 1 4 1 4 4 1 4 2 0 3 3 0 3 1 1 1 4 2 0 2 4 2 0 3 3 3 3 3\n",
      " 1 4 1 4 1 1 1 1 1 1 1 1 4 1 1 1 4 4 1 1 4 1 1 4 1 1 1 1 1 4 1 1 4 1 4 4 4\n",
      " 1 1 1 1 4 1 1 4 1 4 1 1 1 4 2 0 3 1 1 1 1 1 1 4 2 4 1 4 1 1 1 1 1 1 1 1 4\n",
      " 1 1 1 1 1 4 4 4 2 4 1 4 1 1 1 1 1 1 1 1 4 1 4 1 1 1 4 2 0 3 1 1 1 4 1 1 1\n",
      " 4 2 4 4 1 4 2 0 3 3 1 1 4 4 4 4 2 0 2 0 2 4 1 1 1 4 2 0 3 1 4 1 3 0 0 3 1\n",
      " 1 1 4 1 1 4 1 1 1 1 4 2 4 1 4 1 4 1 4]\n",
      "准确率：100.00%\n"
     ]
    }
   ],
   "source": [
    "# 根据类别信息更改顺序\n",
    "order = pairwise_distances_argmin(means, model.means_, metric='euclidean')\n",
    "print(order)\n",
    "pi_hat = model.startprob_[order]\n",
    "A_hat = model.transmat_[order]\n",
    "A_hat = A_hat[:, order]\n",
    "means_hat = model.means_[order]\n",
    "covars_hat = model.covars_[order]\n",
    "change = np.empty((n, n_samples), dtype=np.bool)\n",
    "for i in range(n):\n",
    "    change[i] = y == order[i]\n",
    "for i in range(n):\n",
    "    y[change[i]] = i\n",
    "print('估计初始概率：')\n",
    "print(pi_hat)\n",
    "print('估计转移概率：')\n",
    "print(A_hat)\n",
    "print('估计均值：')\n",
    "print(means_hat)\n",
    "print('估计方差：')\n",
    "print(covars_hat)\n",
    "print(labels)\n",
    "print(y)\n",
    "acc = np.mean(labels == y) * 100\n",
    "print('准确率：%.2f%%' % acc)"
   ]
  },
  {
   "cell_type": "code",
   "execution_count": 12,
   "metadata": {},
   "outputs": [],
   "source": [
    "# 画图\n",
    "mpl.rcParams['font.sans-serif'] = [u'SimHei']\n",
    "mpl.rcParams['axes.unicode_minus'] = False\n",
    "fig = plt.figure(figsize=(8, 8), facecolor='w')\n",
    "ax = Axes3D(fig)\n",
    "colors = plt.cm.Spectral(np.linspace(0,1,n))\n",
    "ax.scatter(sample[:, 0], sample[:, 1], sample[:, 2], s=50, c=labels, cmap=plt.cm.Spectral, marker='o', label=u'观测值', depthshade=True)\n",
    "plt.plot(sample[:, 0], sample[:, 1], sample[:, 2], lw=0.1, color='#A07070')\n",
    "colors = plt.cm.Spectral(np.linspace(0, 1, n))\n",
    "ax.scatter(means[:, 0], means[:, 1], means[:, 2], s=300, c=colors, edgecolor='r', linewidths=1, marker='*', label=u'中心')\n",
    "\n",
    "x_min, y_min, z_min = sample.min(axis=0)\n",
    "x_max, y_max, z_max = sample.max(axis=0)\n",
    "x_min, x_max = expand(x_min, x_max)\n",
    "y_min, y_max = expand(y_min, y_max)\n",
    "z_min, z_max = expand(z_min, z_max)\n",
    "ax.set_xlim((x_min, x_max))\n",
    "ax.set_ylim((y_min, y_max))\n",
    "ax.set_zlim((z_min, z_max))\n",
    "plt.legend(loc='upper left')\n",
    "plt.grid(True)\n",
    "plt.tight_layout(1)\n",
    "plt.title(u'GMHMM参数估计和类别判定', fontsize=18)\n",
    "plt.show()"
   ]
  },
  {
   "cell_type": "code",
   "execution_count": null,
   "metadata": {},
   "outputs": [],
   "source": []
  }
 ],
 "metadata": {
  "kernelspec": {
   "display_name": "Python 3",
   "language": "python",
   "name": "python3"
  },
  "language_info": {
   "codemirror_mode": {
    "name": "ipython",
    "version": 3
   },
   "file_extension": ".py",
   "mimetype": "text/x-python",
   "name": "python",
   "nbconvert_exporter": "python",
   "pygments_lexer": "ipython3",
   "version": "3.6.5"
  }
 },
 "nbformat": 4,
 "nbformat_minor": 2
}
