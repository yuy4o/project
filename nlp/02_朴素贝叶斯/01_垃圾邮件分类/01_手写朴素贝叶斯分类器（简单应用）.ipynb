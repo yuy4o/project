{
 "cells": [
  {
   "cell_type": "markdown",
   "metadata": {},
   "source": [
    "### 手写朴素贝叶斯分类器\n",
    "\n",
    "本文件主要是根据朴素贝叶斯理论部分，通过Python实现朴素贝叶斯分类器，并通过创建数据进行测试\n",
    "\n",
    "数据说明：\n",
    "\n",
    "- 数据是自己创建的\n",
    "- 标签数据，1 代表侮辱性文字， 0 代表正常言语\n",
    "\n",
    "\n",
    "#### 具体步骤如下：\n",
    "\n",
    "- 词向量构建；\n",
    "- 相关概率计算；\n",
    "- 平滑处理；\n",
    "- 朴素贝叶斯分类函数；\n",
    "- 测试"
   ]
  },
  {
   "cell_type": "markdown",
   "metadata": {},
   "source": [
    "#### 一、词向量构建"
   ]
  },
  {
   "cell_type": "code",
   "execution_count": 1,
   "metadata": {},
   "outputs": [
    {
     "name": "stdout",
     "output_type": "stream",
     "text": [
      "训练样本： [['my', 'dog', 'has', 'flea', 'problems', 'help', 'please'], ['maybe', 'not', 'take', 'him', 'to', 'dog', 'park', 'stupid'], ['my', 'dalmation', 'is', 'so', 'cute', 'I', 'love', 'him'], ['stop', 'posting', 'stupid', 'worthless', 'garbage'], ['mr', 'licks', 'ate', 'my', 'steak', 'how', 'to', 'stop', 'him'], ['quit', 'buying', 'worthless', 'dog', 'food', 'stupid']]\n",
      "样本标签： [0, 1, 0, 1, 0, 1]\n",
      "我的词列表为： ['quit', 'licks', 'has', 'my', 'flea', 'dalmation', 'mr', 'food', 'love', 'is', 'help', 'problems', 'so', 'garbage', 'him', 'to', 'stupid', 'stop', 'worthless', 'please', 'maybe', 'how', 'posting', 'ate', 'take', 'I', 'steak', 'not', 'park', 'buying', 'cute', 'dog']\n",
      "第一个样本的词向量为: [0, 0, 1, 1, 1, 0, 0, 0, 0, 0, 1, 1, 0, 0, 0, 0, 0, 0, 0, 1, 0, 0, 0, 0, 0, 0, 0, 0, 0, 0, 0, 1]\n",
      "第二个样本的词向量为: [0, 0, 0, 0, 0, 0, 0, 0, 0, 0, 0, 0, 0, 0, 1, 1, 1, 0, 0, 0, 1, 0, 0, 0, 1, 0, 0, 1, 1, 0, 0, 1]\n"
     ]
    }
   ],
   "source": [
    "# 创建一些实验样本\n",
    "def loadDataSet():\n",
    "    postingList = [['my', 'dog', 'has', 'flea', 'problems', 'help', 'please'],\n",
    "                   ['maybe', 'not', 'take', 'him', 'to', 'dog', 'park', 'stupid'],\n",
    "                   ['my', 'dalmation', 'is', 'so', 'cute', 'I', 'love', 'him'],\n",
    "                   ['stop', 'posting', 'stupid', 'worthless', 'garbage'],\n",
    "                   ['mr', 'licks', 'ate', 'my', 'steak', 'how', 'to', 'stop', 'him'],\n",
    "                   ['quit', 'buying', 'worthless', 'dog', 'food', 'stupid']]\n",
    "    classVec = [0, 1, 0, 1, 0, 1]  # 1 代表侮辱性文字， 0 代表正常言语\n",
    "    return postingList, classVec  # 返回词条集合和类别标签\n",
    "\n",
    "\n",
    "# 创建一个在所有文档中出现的不重复词的列表\n",
    "# 使用了python的set数据类型，将词条列表输给set构造函数，set就会返回一个不重复的词表\n",
    "def createVocabList(dataSet):\n",
    "    vocabSet = set([])  # 创建一个空集\n",
    "    for document in dataSet:\n",
    "        vocabSet = vocabSet | set(document)  # 创建两个集合的并集\n",
    "    return list(vocabSet)\n",
    "\n",
    "\n",
    "# 文档向量\n",
    "def setOfWords2Vec(vocabList, inputSet):  # 词汇表、某个文档\n",
    "    returnVec = [0] * len(vocabList)  # 创建一个和词汇表等长的0向量\n",
    "    for word in inputSet:  # 遍历文档所有单词\n",
    "        if word in vocabList:  # 判断，如果出现了词汇表中的单词\n",
    "            returnVec[vocabList.index(word)] = 1  # 文档向量对应位置设为1\n",
    "        else:\n",
    "            print(\"the word: %s is not in my Vocabulary!\" % word)  # 否则输出不再我的词汇表中\n",
    "    return returnVec  # 输出是文档向量，向量的每个元素为1或0，分别表示词汇表中的单词在输入文档中是否出现\n",
    "\n",
    "\n",
    "# 测试\n",
    "listOPosts, listClasses = loadDataSet()\n",
    "print(\"训练样本：\", listOPosts)\n",
    "print(\"样本标签：\", listClasses)\n",
    "myVocabList = createVocabList(listOPosts)\n",
    "print(\"我的词列表为：\", myVocabList)\n",
    "\n",
    "print(\"第一个样本的词向量为:\", setOfWords2Vec(myVocabList, listOPosts[0]))\n",
    "print(\"第二个样本的词向量为:\", setOfWords2Vec(myVocabList, listOPosts[1]))"
   ]
  },
  {
   "cell_type": "markdown",
   "metadata": {},
   "source": [
    "#### 二、相关概率计算\n",
    "\n",
    "我们得到了每个样本的词向量，如下图：（由于set函数每次输出不一样所以这里得到可能不一样，但结构是一样的）\n",
    "\n",
    "![](1.png)\n",
    "\n",
    "看到这些数据，是不是似曾相识？是的，这跟理论部分的西瓜数据类似，只不过这里的每个特征是一个单词，每个单词的属性值只有1和0，1表示该单词在该文本中出现，0则相反。\n",
    "\n",
    "> 首先，计算先验概率：\n",
    "> $$p(侮辱类) = \\frac{3}{6} = 0.5，p(非侮辱类)=\\frac{3}{6}=0.5$$\n",
    "> 再求，条件概率，（用出现次数除以相应类的总词数）例如：\n",
    "> $$p(第一个词|侮辱类) = \\frac{2}{19} \\approx 0.10526$$\n",
    "> $$p(第一个词|非侮辱类) = \\frac{1}{24} \\approx 0.04167$$\n",
    "> 注：这边与西瓜数据集的计算方法有些不同\n",
    "\n",
    "下面我们直接来看代码，注意：这里面使用了Numpy进行计算处理，大大方便了计算。\n"
   ]
  },
  {
   "cell_type": "code",
   "execution_count": 5,
   "metadata": {},
   "outputs": [
    {
     "name": "stdout",
     "output_type": "stream",
     "text": [
      "训练样本： [['my', 'dog', 'has', 'flea', 'problems', 'help', 'please'], ['maybe', 'not', 'take', 'him', 'to', 'dog', 'park', 'stupid'], ['my', 'dalmation', 'is', 'so', 'cute', 'I', 'love', 'him'], ['stop', 'posting', 'stupid', 'worthless', 'garbage'], ['mr', 'licks', 'ate', 'my', 'steak', 'how', 'to', 'stop', 'him'], ['quit', 'buying', 'worthless', 'dog', 'food', 'stupid']]\n",
      "样本标签： [0, 1, 0, 1, 0, 1]\n",
      "我的词列表为： ['quit', 'licks', 'has', 'my', 'flea', 'dalmation', 'mr', 'food', 'love', 'is', 'help', 'problems', 'so', 'garbage', 'him', 'to', 'stupid', 'stop', 'worthless', 'please', 'maybe', 'how', 'posting', 'ate', 'take', 'I', 'steak', 'not', 'park', 'buying', 'cute', 'dog']\n",
      "第 1 个样本的词向量为： [0, 0, 1, 1, 1, 0, 0, 0, 0, 0, 1, 1, 0, 0, 0, 0, 0, 0, 0, 1, 0, 0, 0, 0, 0, 0, 0, 0, 0, 0, 0, 1]\n",
      "第 2 个样本的词向量为： [0, 0, 0, 0, 0, 0, 0, 0, 0, 0, 0, 0, 0, 0, 1, 1, 1, 0, 0, 0, 1, 0, 0, 0, 1, 0, 0, 1, 1, 0, 0, 1]\n",
      "第 3 个样本的词向量为： [0, 0, 0, 1, 0, 1, 0, 0, 1, 1, 0, 0, 1, 0, 1, 0, 0, 0, 0, 0, 0, 0, 0, 0, 0, 1, 0, 0, 0, 0, 1, 0]\n",
      "第 4 个样本的词向量为： [0, 0, 0, 0, 0, 0, 0, 0, 0, 0, 0, 0, 0, 1, 0, 0, 1, 1, 1, 0, 0, 0, 1, 0, 0, 0, 0, 0, 0, 0, 0, 0]\n",
      "第 5 个样本的词向量为： [0, 1, 0, 1, 0, 0, 1, 0, 0, 0, 0, 0, 0, 0, 1, 1, 0, 1, 0, 0, 0, 1, 0, 1, 0, 0, 1, 0, 0, 0, 0, 0]\n",
      "第 6 个样本的词向量为： [1, 0, 0, 0, 0, 0, 0, 1, 0, 0, 0, 0, 0, 0, 0, 0, 1, 0, 1, 0, 0, 0, 0, 0, 0, 0, 0, 0, 0, 1, 0, 1]\n",
      "任意文档属于侮辱性文档的概率为： 0.5\n",
      "词列表中每个词在类别0中条件概率： [0.         0.04166667 0.04166667 0.125      0.04166667 0.04166667\n",
      " 0.04166667 0.         0.04166667 0.04166667 0.04166667 0.04166667\n",
      " 0.04166667 0.         0.08333333 0.04166667 0.         0.04166667\n",
      " 0.         0.04166667 0.         0.04166667 0.         0.04166667\n",
      " 0.         0.04166667 0.04166667 0.         0.         0.\n",
      " 0.04166667 0.04166667]\n",
      "词列表中每个词在类别1中条件概率： [0.05263158 0.         0.         0.         0.         0.\n",
      " 0.         0.05263158 0.         0.         0.         0.\n",
      " 0.         0.05263158 0.05263158 0.05263158 0.15789474 0.05263158\n",
      " 0.10526316 0.         0.05263158 0.         0.05263158 0.\n",
      " 0.05263158 0.         0.         0.05263158 0.05263158 0.05263158\n",
      " 0.         0.10526316]\n"
     ]
    }
   ],
   "source": [
    "from numpy import *\n",
    "\n",
    "# 朴素贝叶斯分类器训练函数\n",
    "def trainNB01(trainMatrix, trainCategory):  # 文档矩阵、由每篇文档类别标签所构成的向量\n",
    "    numTrainDocs = len(trainMatrix)  # 计算训练样本个数\n",
    "    numWords = len(trainMatrix[0])  # 每个样本的词向量中的元素个数\n",
    "    pAbusive = sum(trainCategory) / float(numTrainDocs)  # 计算先验概率\n",
    "\n",
    "    p0Num = zeros(numWords)  # 创建一个0填充的矩阵，并且元素个数与词向量的元素个数相同，用于记录正常词语\n",
    "    p1Num = zeros(numWords)  # 用于记录侮辱性词语\n",
    "\n",
    "    p0Denom = 0.0\n",
    "    p1Denom = 0.0\n",
    "        \n",
    "    for i in range(numTrainDocs):  # 遍历训练集中的所有文档\n",
    "        if trainCategory[i] == 1:  # 如果类标签为1（即侮辱性文档）\n",
    "            p1Num += trainMatrix[i]  # 该词对应的个数对应+1\n",
    "            p1Denom += sum(trainMatrix[i])  # 加上该文档的总词数\n",
    "        else:  # 如果类标签为0，做同样操作\n",
    "            p0Num += trainMatrix[i]\n",
    "            p0Denom += sum(trainMatrix[i])\n",
    "    p1Vect = p1Num / p1Denom  # 对每个元素除以该类别中的总词数\n",
    "    p0Vect = p0Num / p0Denom\n",
    "    return p0Vect, p1Vect, pAbusive  # 返回两个向量一个概率\n",
    "\n",
    "\n",
    "# 测试\n",
    "listOPosts, listClasses = loadDataSet()\n",
    "print(\"训练样本：\", listOPosts)\n",
    "print(\"样本标签：\", listClasses)\n",
    "myVocabList = createVocabList(listOPosts)\n",
    "print(\"我的词列表为：\", myVocabList)  # 得到不含重复词的词列表\n",
    "\n",
    "trainMat = []\n",
    "# 使用词向量来填充trainMat列表\n",
    "for postinDoc in listOPosts:\n",
    "    trainMat.append(setOfWords2Vec(myVocabList, postinDoc))\n",
    "\n",
    "# 打印trainMat\n",
    "for i in range(len(trainMat)):\n",
    "    print(\"第 %d 个样本的词向量为：\" % (i + 1), trainMat[i])\n",
    "\n",
    "p0V, p1V, pAb = trainNB01(trainMat, listClasses)\n",
    "print(\"任意文档属于侮辱性文档的概率为：\", pAb)\n",
    "print(\"词列表中每个词在类别0中条件概率：\", p0V)\n",
    "print(\"词列表中每个词在类别1中条件概率：\", p1V)"
   ]
  },
  {
   "cell_type": "markdown",
   "metadata": {},
   "source": [
    "#### 三、平滑处理\n",
    "\n",
    "- 利用贝叶斯分类器进行文档分类时，要计算多个概率的乘积以获得文档属于某个类的概率，计算：$p(w_1|1)p(w_2|1)p(w_3|1)...$\n",
    "\n",
    "- 如果某些词在某一类中未出现，那么概率就会为0，在计算多个概率相乘以获得文档属于某个类别的概率的时候，值就会为0，为了降低这种影响，我们可以将所有词的出现次数初始化为1，并将分母初始化为2.0。\n",
    "\n",
    "\n",
    "    p0Num = ones(numWords)\n",
    "    p1Num = ones(numWords)\n",
    "    p0Denom = 2.0\n",
    "    p1Denom = 2.0\n",
    "\n",
    "- 另一个问题是下溢出，由于太多很小的数相乘造成的，当计算：$p(w_1|1)p(w_2|1)p(w_3|1)...$时，大部分因子比较小，所以程序会下溢出，可以对其求对数，将连乘变为连加，虽然得到的值不同，但是由于对数函数不会影响原函数的趋势，以及极大值等，相当于只是纵轴上做了缩放，所以不会影响最终的结果\n",
    "\n",
    "\n",
    "    p1Vect = log(p1Num / p1Denom)\n",
    "    p0Vect = log(p0Num / p0Denom)\n"
   ]
  },
  {
   "cell_type": "code",
   "execution_count": 6,
   "metadata": {},
   "outputs": [],
   "source": [
    "# 朴素贝叶斯分类器训练函数（修改后）\n",
    "def trainNB02(trainMatrix, trainCategory):  # 文档矩阵、由每篇文档类别标签所构成的向量\n",
    "    numTrainDocs = len(trainMatrix)  # 计算训练样本个数\n",
    "    numWords = len(trainMatrix[0])  # 每个样本的词向量中的元素个数\n",
    "    pAbusive = sum(trainCategory) / float(numTrainDocs)  # 计算p(1)\n",
    "\n",
    "    p0Num = ones(numWords)  # 创建一个1填充的矩阵，并且元素个数与词向量的元素个数相同，用于记录正常词语\n",
    "    p1Num = ones(numWords)  # 用于记录侮辱性词语\n",
    "\n",
    "    p0Denom = 2.0\n",
    "    p1Denom = 2.0\n",
    "\n",
    "    for i in range(numTrainDocs):  # 遍历训练集中的所有文档\n",
    "        if trainCategory[i] == 1:  # 如果类标签为1（即侮辱性文档）\n",
    "            p1Num += trainMatrix[i]  # 每个侮辱性文档中每个词对应位置个数+1\n",
    "            p1Denom += sum(trainMatrix[i])  # 每个侮辱性文档的总词数叠加\n",
    "        else:  # 如果类标签为0，做同样操作\n",
    "            p0Num += trainMatrix[i]\n",
    "            p0Denom += sum(trainMatrix[i])\n",
    "    p1Vect = log(p1Num / p1Denom)  # 对每个元素除以该类别中的总词数，并求对数\n",
    "    p0Vect = log(p0Num / p0Denom)\n",
    "    return p0Vect, p1Vect, pAbusive  # 返回两个向量一个概率"
   ]
  },
  {
   "cell_type": "markdown",
   "metadata": {},
   "source": [
    "#### 四、朴素贝叶斯分类函数"
   ]
  },
  {
   "cell_type": "code",
   "execution_count": 7,
   "metadata": {},
   "outputs": [],
   "source": [
    "# 朴素贝叶斯分类函数\n",
    "def classifyNB(vec2Classify, p0Vec, p1Vec, pClass1): # 要分类的向量以及使用函数trainNB0计算的三个概率\n",
    "    p1 = sum(vec2Classify * p1Vec) + log(pClass1)  # 两个向量相乘（对应元素相乘），然后将词汇表中所有词的对应值相加，然后将该值加到类别的对数概率上\n",
    "    p0 = sum(vec2Classify * p0Vec) + log(1.0 - pClass1)\n",
    "    if p1 > p0: # 比较类别的概率\n",
    "        return 1\n",
    "    else:\n",
    "        return 0"
   ]
  },
  {
   "cell_type": "markdown",
   "metadata": {},
   "source": [
    "#### 五、测试"
   ]
  },
  {
   "cell_type": "code",
   "execution_count": 8,
   "metadata": {},
   "outputs": [
    {
     "name": "stdout",
     "output_type": "stream",
     "text": [
      "训练样本： [['my', 'dog', 'has', 'flea', 'problems', 'help', 'please'], ['maybe', 'not', 'take', 'him', 'to', 'dog', 'park', 'stupid'], ['my', 'dalmation', 'is', 'so', 'cute', 'I', 'love', 'him'], ['stop', 'posting', 'stupid', 'worthless', 'garbage'], ['mr', 'licks', 'ate', 'my', 'steak', 'how', 'to', 'stop', 'him'], ['quit', 'buying', 'worthless', 'dog', 'food', 'stupid']]\n",
      "样本标签： [0, 1, 0, 1, 0, 1]\n",
      "我的词列表为： ['quit', 'licks', 'has', 'my', 'flea', 'dalmation', 'mr', 'food', 'love', 'is', 'help', 'problems', 'so', 'garbage', 'him', 'to', 'stupid', 'stop', 'worthless', 'please', 'maybe', 'how', 'posting', 'ate', 'take', 'I', 'steak', 'not', 'park', 'buying', 'cute', 'dog']\n",
      "['love', 'my', 'dalmation'] 分类为:  0\n",
      "['stupid', 'garbage'] 分类为:  1\n"
     ]
    }
   ],
   "source": [
    "# 测试\n",
    "listOPosts, listClasses = loadDataSet()\n",
    "print(\"训练样本：\", listOPosts)\n",
    "print(\"样本标签：\", listClasses)\n",
    "myVocabList = createVocabList(listOPosts)\n",
    "print(\"我的词列表为：\", myVocabList)  # 得到不含重复词的词列表\n",
    "\n",
    "trainMat = []\n",
    "# 使用词向量来填充trainMat列表\n",
    "for postinDoc in listOPosts:\n",
    "    trainMat.append(setOfWords2Vec(myVocabList, postinDoc))\n",
    "\n",
    "p0V, p1V, pAb = trainNB0(trainMat, listClasses)\n",
    "\n",
    "testEntry = ['love', 'my', 'dalmation']\n",
    "thisDoc = array(setOfWords2Vec(myVocabList, testEntry))\n",
    "print(testEntry, '分类为: ', classifyNB(thisDoc, p0V, p1V, pAb))\n",
    "testEntry = ['stupid', 'garbage']\n",
    "thisDoc = array(setOfWords2Vec(myVocabList, testEntry))\n",
    "print(testEntry, '分类为: ', classifyNB(thisDoc, p0V, p1V, pAb))"
   ]
  },
  {
   "cell_type": "code",
   "execution_count": null,
   "metadata": {},
   "outputs": [],
   "source": []
  }
 ],
 "metadata": {
  "kernelspec": {
   "display_name": "Python 3",
   "language": "python",
   "name": "python3"
  },
  "language_info": {
   "codemirror_mode": {
    "name": "ipython",
    "version": 3
   },
   "file_extension": ".py",
   "mimetype": "text/x-python",
   "name": "python",
   "nbconvert_exporter": "python",
   "pygments_lexer": "ipython3",
   "version": "3.6.5"
  }
 },
 "nbformat": 4,
 "nbformat_minor": 2
}
